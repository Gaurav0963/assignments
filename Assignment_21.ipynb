{
 "cells": [
  {
   "cell_type": "markdown",
   "id": "5eaa7c08",
   "metadata": {},
   "source": [
    "# ASSIGNMENT 21"
   ]
  },
  {
   "cell_type": "markdown",
   "id": "77dbb45d",
   "metadata": {},
   "source": [
    "1. Add the current date to the text file today.txt as a string.\n",
    "2. Read the text file today.txt into the string today_string\n",
    "3. Parse the date from today_string.\n",
    "4. List the files in your current directory\n",
    "5. Create a list of all of the files in your parent directory (minimum five files should be available).\n",
    "6. Use multiprocessing to create three separate processes. Make each one wait a random number of\n",
    "seconds between one and five, print the current time, and then exit.\n",
    "7. Create a date object of your day of birth.\n",
    "8. What day of the week was your day of birth?\n",
    "9. When will you be (or when were you) 10,000 days old?"
   ]
  },
  {
   "cell_type": "markdown",
   "id": "a546eaa7",
   "metadata": {},
   "source": [
    "### QUESTION 1: Add the current date to the text file today.txt as a string."
   ]
  },
  {
   "cell_type": "code",
   "execution_count": 63,
   "id": "1e9f7bf5",
   "metadata": {},
   "outputs": [],
   "source": [
    "from datetime import date\n",
    "\n",
    "thedate = date.today()\n",
    "datestr = thedate.isoformat()\n",
    "with open('today.txt', 'wt') as f:\n",
    "    f.write(datestr)"
   ]
  },
  {
   "cell_type": "markdown",
   "id": "32dcd30e",
   "metadata": {},
   "source": [
    "### QUESTION 2: Read the text file today.txt into the string today_string"
   ]
  },
  {
   "cell_type": "code",
   "execution_count": 64,
   "id": "26ef3abf",
   "metadata": {},
   "outputs": [
    {
     "name": "stdout",
     "output_type": "stream",
     "text": [
      "2022-07-30\n"
     ]
    }
   ],
   "source": [
    "with open('today.txt', 'rt') as f:\n",
    "    today_string = f.read()\n",
    "print(today_string)"
   ]
  },
  {
   "cell_type": "markdown",
   "id": "e52e3dce",
   "metadata": {},
   "source": [
    "### QUESTION 3: Parse the date from today_string."
   ]
  },
  {
   "cell_type": "code",
   "execution_count": 4,
   "id": "64ea20cc",
   "metadata": {},
   "outputs": [
    {
     "data": {
      "text/plain": [
       "datetime.datetime(2022, 7, 30, 0, 0)"
      ]
     },
     "execution_count": 4,
     "metadata": {},
     "output_type": "execute_result"
    }
   ],
   "source": [
    "from datetime import datetime\n",
    "ymd = '%Y-%m-%d'\n",
    "datetime.strptime(today_string, ymd)\n"
   ]
  },
  {
   "cell_type": "markdown",
   "id": "e285ed76",
   "metadata": {},
   "source": [
    "### QUESTION 4: List the files in your current directory"
   ]
  },
  {
   "cell_type": "code",
   "execution_count": 5,
   "id": "21db7d75",
   "metadata": {},
   "outputs": [
    {
     "data": {
      "text/plain": [
       "['.ipynb_checkpoints',\n",
       " 'Assignment_10.ipynb',\n",
       " 'Assignment_11.ipynb',\n",
       " 'ASSIGNMENT_15.ipynb',\n",
       " 'ASSIGNMENT_16.ipynb',\n",
       " 'Assignment_17.ipynb',\n",
       " 'Assignment_19.ipynb',\n",
       " 'Assignment_2.ipynb',\n",
       " 'Assignment_21.ipynb',\n",
       " 'ASSIGNMENT_8.ipynb',\n",
       " 'ASSIGNMENT_9.ipynb',\n",
       " 'Programming_Assignment_1.ipynb',\n",
       " 'Programming_Assignment_10.ipynb',\n",
       " 'Programming_Assignment_11.ipynb',\n",
       " 'Programming_Assignment_12.ipynb',\n",
       " 'Programming_Assignment_13.ipynb',\n",
       " 'Programming_Assignment_14.ipynb',\n",
       " 'Programming_Assignment_15.ipynb',\n",
       " 'Programming_Assignment_16.ipynb',\n",
       " 'Programming_Assignment_17.ipynb',\n",
       " 'Programming_Assignment_18.ipynb',\n",
       " 'Programming_Assignment_19.ipynb',\n",
       " 'Programming_Assignment_2.ipynb',\n",
       " 'Programming_Assignment_20.ipynb',\n",
       " 'Programming_Assignment_21.ipynb',\n",
       " 'Programming_Assignment_22.ipynb',\n",
       " 'Programming_Assignment_23.ipynb',\n",
       " 'Programming_Assignment_24.ipynb',\n",
       " 'Programming_Assignment_25.ipynb',\n",
       " 'Programming_Assignment_4.ipynb',\n",
       " 'Programming_Assignment_5.ipynb',\n",
       " 'Programming_Assignment_6.ipynb',\n",
       " 'Programming_Assignment_7.ipynb',\n",
       " 'Programming_Assignment_8.ipynb',\n",
       " 'Programming_Assignment_9.ipynb',\n",
       " 'randomFolder',\n",
       " 'selectiveFolder',\n",
       " 'today.txt',\n",
       " 'Untitled.ipynb']"
      ]
     },
     "execution_count": 5,
     "metadata": {},
     "output_type": "execute_result"
    }
   ],
   "source": [
    "import os\n",
    "os.listdir('.')"
   ]
  },
  {
   "cell_type": "markdown",
   "id": "a056d136",
   "metadata": {},
   "source": [
    "### QUESTION 5: Create a list of all of the files in your parent directory (minimum five files should be available)."
   ]
  },
  {
   "cell_type": "code",
   "execution_count": 6,
   "id": "fd06be8e",
   "metadata": {},
   "outputs": [
    {
     "data": {
      "text/plain": [
       "['.accessibility.properties',\n",
       " '.conda',\n",
       " '.condarc',\n",
       " '.continuum',\n",
       " '.ipynb_checkpoints',\n",
       " '.ipython',\n",
       " '.jupyter',\n",
       " '.spyder-py3',\n",
       " '.vscode',\n",
       " '3D Objects',\n",
       " 'anaconda3',\n",
       " 'AP.ipynb',\n",
       " 'AppData',\n",
       " 'Application Data',\n",
       " 'Assignments',\n",
       " 'Class....ipynb',\n",
       " 'commondif.ipynb',\n",
       " 'Contacts',\n",
       " 'Contents.txt',\n",
       " 'Cookies',\n",
       " 'Desktop',\n",
       " 'Documents',\n",
       " 'Downloads',\n",
       " 'Favorites',\n",
       " 'Functions.ipynb',\n",
       " \"if __name__ == '__main__'template.ipynb\",\n",
       " 'ITERTOOLS MODULE.ipynb',\n",
       " 'Links',\n",
       " 'Local Settings',\n",
       " 'Music',\n",
       " 'My Documents',\n",
       " 'mySQL.ipynb',\n",
       " 'NESTED STUFF.ipynb',\n",
       " 'NetHood',\n",
       " 'NewDirectory',\n",
       " 'NTUSER.DAT',\n",
       " 'ntuser.dat.LOG1',\n",
       " 'ntuser.dat.LOG2',\n",
       " 'NTUSER.DAT{53b39e87-18c4-11ea-a811-000d3aa4692b}.TxR.0.regtrans-ms',\n",
       " 'NTUSER.DAT{53b39e87-18c4-11ea-a811-000d3aa4692b}.TxR.1.regtrans-ms',\n",
       " 'NTUSER.DAT{53b39e87-18c4-11ea-a811-000d3aa4692b}.TxR.2.regtrans-ms',\n",
       " 'NTUSER.DAT{53b39e87-18c4-11ea-a811-000d3aa4692b}.TxR.blf',\n",
       " 'NTUSER.DAT{53b39e88-18c4-11ea-a811-000d3aa4692b}.TM.blf',\n",
       " 'NTUSER.DAT{53b39e88-18c4-11ea-a811-000d3aa4692b}.TMContainer00000000000000000001.regtrans-ms',\n",
       " 'NTUSER.DAT{53b39e88-18c4-11ea-a811-000d3aa4692b}.TMContainer00000000000000000002.regtrans-ms',\n",
       " 'ntuser.ini',\n",
       " 'OneDrive',\n",
       " 'pattern printing.ipynb',\n",
       " 'Pictures',\n",
       " 'PrintHood',\n",
       " 'Project Euler.ipynb',\n",
       " 'PycharmProjects',\n",
       " 'Python Advanced Assignments',\n",
       " 'Recent',\n",
       " 'ROUGH_WORK.ipynb',\n",
       " 'Saved Games',\n",
       " 'Searches',\n",
       " 'SendTo',\n",
       " 'SORTING.ipynb',\n",
       " 'Start Menu',\n",
       " 'Templates',\n",
       " 'Untitled2.ipynb',\n",
       " 'Videos']"
      ]
     },
     "execution_count": 6,
     "metadata": {},
     "output_type": "execute_result"
    }
   ],
   "source": [
    "import os\n",
    "os.listdir('..')"
   ]
  },
  {
   "cell_type": "markdown",
   "id": "7f0ca852",
   "metadata": {},
   "source": [
    "### QUESTION 6"
   ]
  },
  {
   "cell_type": "code",
   "execution_count": 37,
   "id": "9c77db55",
   "metadata": {},
   "outputs": [
    {
     "name": "stdout",
     "output_type": "stream",
     "text": [
      "2022-07-30 23:35:18.971271\n",
      "\n",
      "Done\n"
     ]
    }
   ],
   "source": [
    "# Use multiprocessing to create three separate processes. \n",
    "# Make each one wait a random number of seconds between one and five, print the current time, and then exit.\n",
    "\n",
    "\n",
    "# THIS IS CODE IS WORKING FINE IN PYCHARM.\n",
    "\n",
    "import multiprocessing\n",
    "from datetime import datetime\n",
    "from random import randint\n",
    "from time import sleep\n",
    "\n",
    "\n",
    "def process1():\n",
    "    t1 = randint(1, 5)\n",
    "    print(\"Wait Time (in sec):\", t1)\n",
    "    sleep(t1)\n",
    "    print(datetime.now())\n",
    "\n",
    "\n",
    "def process2():\n",
    "    t2 = randint(1, 5)\n",
    "    print(\"Wait Time (in sec):\", t2)\n",
    "    sleep(t2)\n",
    "    print(datetime.now())\n",
    "\n",
    "\n",
    "def process3():\n",
    "    t3 = randint(1,5)\n",
    "    print(\"Wait Time (in sec):\", t3)\n",
    "    sleep(t3)\n",
    "    print(datetime.now())\n",
    "\n",
    "\n",
    "if __name__ == \"__main__\":\n",
    "    print(datetime.now())\n",
    "\n",
    "    p1 = multiprocessing.Process(target=process1)\n",
    "    p1.start()\n",
    "    p1.join()\n",
    "\n",
    "    p2 = multiprocessing.Process(target=process2)\n",
    "    p2.start()\n",
    "    p2.join()\n",
    "\n",
    "    p3 = multiprocessing.Process(target=process3)\n",
    "    p3.start()\n",
    "    p3.join()\n",
    "\n",
    "    print(\"\\nDone\")\n"
   ]
  },
  {
   "cell_type": "markdown",
   "id": "13f842c1",
   "metadata": {},
   "source": [
    "### QUESTION 7: Create a date object of your day of birth."
   ]
  },
  {
   "cell_type": "code",
   "execution_count": 56,
   "id": "4e75793e",
   "metadata": {},
   "outputs": [
    {
     "data": {
      "text/plain": [
       "datetime.date(1994, 3, 7)"
      ]
     },
     "execution_count": 56,
     "metadata": {},
     "output_type": "execute_result"
    }
   ],
   "source": [
    "bday = date(1994, 3, 7)\n",
    "bday"
   ]
  },
  {
   "cell_type": "markdown",
   "id": "3b4c86db",
   "metadata": {},
   "source": [
    "### QUESTION 8: What day of the week was your day of birth?"
   ]
  },
  {
   "cell_type": "code",
   "execution_count": 59,
   "id": "bdcea594",
   "metadata": {},
   "outputs": [
    {
     "data": {
      "text/plain": [
       "'Monday'"
      ]
     },
     "execution_count": 59,
     "metadata": {},
     "output_type": "execute_result"
    }
   ],
   "source": [
    "from datetime import date\n",
    "import calendar\n",
    "calendar.day_name[bday.weekday()]"
   ]
  },
  {
   "cell_type": "markdown",
   "id": "68d471a4",
   "metadata": {},
   "source": [
    "### QUESTION 9: When will you be (or when were you) 10,000 days old?"
   ]
  },
  {
   "cell_type": "code",
   "execution_count": 62,
   "id": "6bf2cb55",
   "metadata": {},
   "outputs": [
    {
     "data": {
      "text/plain": [
       "datetime.date(2021, 7, 23)"
      ]
     },
     "execution_count": 62,
     "metadata": {},
     "output_type": "execute_result"
    }
   ],
   "source": [
    "from datetime import timedelta\n",
    "woah = bday + timedelta(days=10000)\n",
    "woah"
   ]
  }
 ],
 "metadata": {
  "kernelspec": {
   "display_name": "Python 3 (ipykernel)",
   "language": "python",
   "name": "python3"
  },
  "language_info": {
   "codemirror_mode": {
    "name": "ipython",
    "version": 3
   },
   "file_extension": ".py",
   "mimetype": "text/x-python",
   "name": "python",
   "nbconvert_exporter": "python",
   "pygments_lexer": "ipython3",
   "version": "3.9.12"
  }
 },
 "nbformat": 4,
 "nbformat_minor": 5
}
