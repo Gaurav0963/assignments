{
 "cells": [
  {
   "cell_type": "markdown",
   "id": "513c5426",
   "metadata": {},
   "source": [
    "# PROGRAMMING ASSIGNMENT 16"
   ]
  },
  {
   "cell_type": "markdown",
   "id": "4b6ee1e0",
   "metadata": {},
   "source": [
    "### Question 1\n",
    "Write a function that stutters a word as if someone is struggling to read it. The\n",
    "first two letters are repeated twice with an ellipsis ... and space after each, and then the\n",
    "word is pronounced with a question mark ?."
   ]
  },
  {
   "cell_type": "code",
   "execution_count": 1,
   "id": "512172c6",
   "metadata": {},
   "outputs": [
    {
     "data": {
      "text/plain": [
       "'he... he... hello?'"
      ]
     },
     "execution_count": 1,
     "metadata": {},
     "output_type": "execute_result"
    }
   ],
   "source": [
    "# Hint :- Assume all input is in lower case and at least two characters long.\n",
    "\n",
    "def stutter(S):\n",
    "    return ((S[:2]+'... ')*2)+S[:]+'?'\n",
    "\n",
    "stutter('hello')"
   ]
  },
  {
   "cell_type": "markdown",
   "id": "3cd6bef9",
   "metadata": {},
   "source": [
    "### Question 2\n",
    "Create a function that takes an angle in radians and returns the corresponding\n",
    "angle in degrees rounded to one decimal place."
   ]
  },
  {
   "cell_type": "code",
   "execution_count": 4,
   "id": "2b77036e",
   "metadata": {},
   "outputs": [
    {
     "data": {
      "text/plain": [
       "1145.9"
      ]
     },
     "execution_count": 4,
     "metadata": {},
     "output_type": "execute_result"
    }
   ],
   "source": [
    "def radians_to_degrees(rad):\n",
    "    deg = (rad*180)/3.14159\n",
    "    return round(deg, 1)\n",
    "\n",
    "radians_to_degrees(20)"
   ]
  },
  {
   "cell_type": "markdown",
   "id": "c1d70b5d",
   "metadata": {},
   "source": [
    "### Question 3\n",
    "In this challenge, establish if a given integer num is a Curzon number. If 1 plus\n",
    "2 elevated to num is exactly divisible by 1 plus 2 multiplied by num, then num is a Curzon\n",
    "number.\n"
   ]
  },
  {
   "cell_type": "code",
   "execution_count": 6,
   "id": "667aaf4e",
   "metadata": {},
   "outputs": [
    {
     "data": {
      "text/plain": [
       "True"
      ]
     },
     "execution_count": 6,
     "metadata": {},
     "output_type": "execute_result"
    }
   ],
   "source": [
    "# Given a non-negative integer num, implement a function that returns True if num is a Curzon number, or False otherwise.\n",
    "\n",
    "def is_curzon(num):\n",
    "    number = 1 + 2**num\n",
    "    divisor = 1 + 2*num\n",
    "    \n",
    "    return number % divisor == 0\n",
    "\n",
    "\n",
    "\n",
    "is_curzon(5)"
   ]
  },
  {
   "cell_type": "code",
   "execution_count": 7,
   "id": "989004fe",
   "metadata": {},
   "outputs": [
    {
     "data": {
      "text/plain": [
       "False"
      ]
     },
     "execution_count": 7,
     "metadata": {},
     "output_type": "execute_result"
    }
   ],
   "source": [
    "is_curzon(10)"
   ]
  },
  {
   "cell_type": "markdown",
   "id": "f55229b3",
   "metadata": {},
   "source": [
    "### Question 4\n",
    "Given the side length x find the area of a hexagon."
   ]
  },
  {
   "cell_type": "code",
   "execution_count": 13,
   "id": "504b19d6",
   "metadata": {},
   "outputs": [
    {
     "data": {
      "text/plain": [
       "2.6"
      ]
     },
     "execution_count": 13,
     "metadata": {},
     "output_type": "execute_result"
    }
   ],
   "source": [
    "from math import sqrt\n",
    "\n",
    "def area_of_hexagon(side):\n",
    "    A = 1.5 * pow(side, 2) * sqrt(3)\n",
    "    return round(A, 1)\n",
    "    \n",
    "\n",
    "area_of_hexagon(1)"
   ]
  },
  {
   "cell_type": "code",
   "execution_count": 14,
   "id": "a3f6e456",
   "metadata": {},
   "outputs": [
    {
     "data": {
      "text/plain": [
       "10.4"
      ]
     },
     "execution_count": 14,
     "metadata": {},
     "output_type": "execute_result"
    }
   ],
   "source": [
    "area_of_hexagon(2)"
   ]
  },
  {
   "cell_type": "code",
   "execution_count": 15,
   "id": "c9ef2add",
   "metadata": {},
   "outputs": [
    {
     "data": {
      "text/plain": [
       "23.4"
      ]
     },
     "execution_count": 15,
     "metadata": {},
     "output_type": "execute_result"
    }
   ],
   "source": [
    "area_of_hexagon(3)"
   ]
  },
  {
   "cell_type": "markdown",
   "id": "6be24e1a",
   "metadata": {},
   "source": [
    "### Question 5\n",
    "Create a function that returns a base-2 (binary) representation of a base-10\n",
    "(decimal) string number."
   ]
  },
  {
   "cell_type": "code",
   "execution_count": 21,
   "id": "8f91b88c",
   "metadata": {},
   "outputs": [
    {
     "data": {
      "text/plain": [
       "'1'"
      ]
     },
     "execution_count": 21,
     "metadata": {},
     "output_type": "execute_result"
    }
   ],
   "source": [
    "def binary(decimal):\n",
    "    res = bin(decimal)\n",
    "    return res[2:]\n",
    "\n",
    "binary(1)"
   ]
  },
  {
   "cell_type": "code",
   "execution_count": 22,
   "id": "762030f0",
   "metadata": {},
   "outputs": [
    {
     "data": {
      "text/plain": [
       "'101'"
      ]
     },
     "execution_count": 22,
     "metadata": {},
     "output_type": "execute_result"
    }
   ],
   "source": [
    "binary(5)"
   ]
  },
  {
   "cell_type": "code",
   "execution_count": 24,
   "id": "98659853",
   "metadata": {},
   "outputs": [
    {
     "data": {
      "text/plain": [
       "'1010'"
      ]
     },
     "execution_count": 24,
     "metadata": {},
     "output_type": "execute_result"
    }
   ],
   "source": [
    "binary(10)"
   ]
  },
  {
   "cell_type": "code",
   "execution_count": 25,
   "id": "f806e974",
   "metadata": {},
   "outputs": [
    {
     "data": {
      "text/plain": [
       "'10000000'"
      ]
     },
     "execution_count": 25,
     "metadata": {},
     "output_type": "execute_result"
    }
   ],
   "source": [
    "binary(128)"
   ]
  },
  {
   "cell_type": "code",
   "execution_count": 26,
   "id": "3606c34a",
   "metadata": {},
   "outputs": [
    {
     "data": {
      "text/plain": [
       "'10101001'"
      ]
     },
     "execution_count": 26,
     "metadata": {},
     "output_type": "execute_result"
    }
   ],
   "source": [
    "binary(169)"
   ]
  },
  {
   "cell_type": "code",
   "execution_count": 27,
   "id": "7e537ef6",
   "metadata": {},
   "outputs": [
    {
     "data": {
      "text/plain": [
       "'100000000'"
      ]
     },
     "execution_count": 27,
     "metadata": {},
     "output_type": "execute_result"
    }
   ],
   "source": [
    "binary(256)"
   ]
  }
 ],
 "metadata": {
  "kernelspec": {
   "display_name": "Python 3 (ipykernel)",
   "language": "python",
   "name": "python3"
  },
  "language_info": {
   "codemirror_mode": {
    "name": "ipython",
    "version": 3
   },
   "file_extension": ".py",
   "mimetype": "text/x-python",
   "name": "python",
   "nbconvert_exporter": "python",
   "pygments_lexer": "ipython3",
   "version": "3.9.12"
  }
 },
 "nbformat": 4,
 "nbformat_minor": 5
}
