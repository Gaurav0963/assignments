{
 "cells": [
  {
   "cell_type": "markdown",
   "id": "a2492f88",
   "metadata": {},
   "source": [
    "# PROGRAMMING ASSIGNMENT 10"
   ]
  },
  {
   "cell_type": "markdown",
   "id": "ee82be10",
   "metadata": {},
   "source": [
    "1. Write a Python program to find sum of elements in list?\n",
    "2. Write a Python program to Multiply all numbers in the list?\n",
    "3. Write a Python program to find smallest number in a list?\n",
    "4. Write a Python program to find largest number in a list?\n",
    "5. Write a Python program to find second largest number in a list?\n",
    "6. Write a Python program to find N largest elements from a list?\n",
    "7. Write a Python program to print even numbers in a list?\n",
    "8. Write a Python program to print odd numbers in a List?\n",
    "9. Write a Python program to Remove empty List from List?\n",
    "10. Write a Python program to Cloning or Copying a list?\n",
    "11. Write a Python program to Count occurrences of an element in a list?"
   ]
  },
  {
   "cell_type": "markdown",
   "id": "59917050",
   "metadata": {},
   "source": [
    "#### Question 1: Write a Python program to find sum of elements in list?"
   ]
  },
  {
   "cell_type": "code",
   "execution_count": 1,
   "id": "8b1aba6e",
   "metadata": {},
   "outputs": [
    {
     "name": "stdout",
     "output_type": "stream",
     "text": [
      "Number of elements in LIST: 5\n",
      "Enter element 1 : 1\n",
      "Enter element 2 : 2\n",
      "Enter element 3 : 3\n",
      "Enter element 4 : 4\n",
      "Enter element 5 : 5\n",
      "\n",
      "The SUM of elements:  15\n"
     ]
    }
   ],
   "source": [
    "def summation(thelist):\n",
    "    return sum(elements for elements in thelist)\n",
    "\n",
    "if __name__ == '__main__':\n",
    "    data = []\n",
    "    try:\n",
    "        num = int(input('Number of elements in LIST: '))\n",
    "        for i in range(num):\n",
    "            data.append(int(input('Enter element {} : '.format(i+1))))\n",
    "        print('\\nThe SUM of elements: ', summation(data))\n",
    "    \n",
    "    except ValueError as v:\n",
    "        print(v)\n",
    "        "
   ]
  },
  {
   "cell_type": "markdown",
   "id": "ef7780e7",
   "metadata": {},
   "source": [
    "#### Question 2: Write a Python program to Multiply all numbers in the list?"
   ]
  },
  {
   "cell_type": "code",
   "execution_count": 2,
   "id": "4ac6b444",
   "metadata": {},
   "outputs": [
    {
     "name": "stdout",
     "output_type": "stream",
     "text": [
      "Number of elements in LIST: 5\n",
      "Enter element 1 : 1\n",
      "Enter element 2 : 2\n",
      "Enter element 3 : 3\n",
      "Enter element 4 : 4\n",
      "Enter element 5 : 5\n",
      "\n",
      "The PRODUCT of elements:  120.0\n"
     ]
    }
   ],
   "source": [
    "from functools import reduce\n",
    "\n",
    "\n",
    "def multiply(numlist):\n",
    "    \n",
    "    return reduce(lambda x, y: x*y, numlist)\n",
    "\n",
    "\n",
    "if __name__ == '__main__':\n",
    "    data = []\n",
    "    try:\n",
    "        num = int(input('Number of elements in LIST: '))\n",
    "        for i in range(num):\n",
    "            data.append(float(input('Enter element {} : '.format(i+1))))\n",
    "        print('\\nThe PRODUCT of elements: ', multiply(data))\n",
    "    \n",
    "    except ValueError as v:\n",
    "        print(v)\n",
    "    "
   ]
  },
  {
   "cell_type": "markdown",
   "id": "111bc503",
   "metadata": {},
   "source": [
    "#### Question 3: Write a Python program to find smallest number in a list?"
   ]
  },
  {
   "cell_type": "code",
   "execution_count": 3,
   "id": "0f9a37ad",
   "metadata": {},
   "outputs": [
    {
     "name": "stdout",
     "output_type": "stream",
     "text": [
      "Number of elements in LIST: 5\n",
      "Enter element 1 : 11\n",
      "Enter element 2 : 25\n",
      "Enter element 3 : 26\n",
      "Enter element 4 : 10.5\n",
      "Enter element 5 : 100\n",
      "\n",
      "The SAMLLEST number:  10.5\n"
     ]
    }
   ],
   "source": [
    "def smallestnumber(numlist):\n",
    "     return min(numlist)\n",
    "    \n",
    "if __name__ == '__main__':\n",
    "    data = []\n",
    "    try:\n",
    "        num = int(input('Number of elements in LIST: '))\n",
    "        for i in range(num):\n",
    "            data.append(float(input('Enter element {} : '.format(i+1))))\n",
    "        print('\\nThe SAMLLEST number: ', smallestnumber(data))\n",
    "    \n",
    "    except ValueError as v:\n",
    "        print(v)\n",
    "    "
   ]
  },
  {
   "cell_type": "markdown",
   "id": "b29699dc",
   "metadata": {},
   "source": [
    "#### Question 4: Write a Python program to find largest number in a list?"
   ]
  },
  {
   "cell_type": "code",
   "execution_count": 4,
   "id": "c0fea8fb",
   "metadata": {},
   "outputs": [
    {
     "name": "stdout",
     "output_type": "stream",
     "text": [
      "Number of elements in LIST: 5\n",
      "Enter element 1 : 50\n",
      "Enter element 2 : 11\n",
      "Enter element 3 : 16\n",
      "Enter element 4 : 58\n",
      "Enter element 5 : 58.1\n",
      "\n",
      "The LARGEST number:  58.1\n"
     ]
    }
   ],
   "source": [
    "def largestnumber(numlist):\n",
    "    return max(numlist)\n",
    "\n",
    "\n",
    "if __name__ == '__main__':\n",
    "    data = []\n",
    "    try:\n",
    "        num = int(input('Number of elements in LIST: '))\n",
    "        for i in range(num):\n",
    "            data.append(float(input('Enter element {} : '.format(i+1))))\n",
    "        print('\\nThe LARGEST number: ', largestnumber(data))\n",
    "    \n",
    "    except ValueError as v:\n",
    "        print(v)"
   ]
  },
  {
   "cell_type": "markdown",
   "id": "37508906",
   "metadata": {},
   "source": [
    "#### Question 5: Write a Python program to find second largest number in a list?"
   ]
  },
  {
   "cell_type": "code",
   "execution_count": 5,
   "id": "78b452ec",
   "metadata": {},
   "outputs": [
    {
     "name": "stdout",
     "output_type": "stream",
     "text": [
      "Number of elements in LIST: 5\n",
      "Enter element 1 : 50\n",
      "Enter element 2 : 11\n",
      "Enter element 3 : 45\n",
      "Enter element 4 : 50.5\n",
      "Enter element 5 : 49\n",
      "\n",
      "Second LARGEST number:  50.0\n"
     ]
    }
   ],
   "source": [
    "def secondlargest(numlist):\n",
    "    numlist.sort(reverse=True)\n",
    "    return numlist[1]\n",
    "\n",
    "\n",
    "if __name__ == '__main__':\n",
    "    data = []\n",
    "    try:\n",
    "        num = int(input('Number of elements in LIST: '))\n",
    "        for i in range(num):\n",
    "            data.append(float(input('Enter element {} : '.format(i+1))))\n",
    "        print('\\nSecond LARGEST number: ', secondlargest(data))\n",
    "    \n",
    "    except ValueError as v:\n",
    "        print(v)"
   ]
  },
  {
   "cell_type": "markdown",
   "id": "b57f3dc0",
   "metadata": {},
   "source": [
    "#### Question 6: Write a Python program to find N largest elements from a list?"
   ]
  },
  {
   "cell_type": "code",
   "execution_count": 9,
   "id": "da577e69",
   "metadata": {},
   "outputs": [
    {
     "name": "stdout",
     "output_type": "stream",
     "text": [
      "Enter only INTEGERS\n",
      "\n",
      "Enter elements in LIST with space in between: 1 2 3 4 5 6 7 8 9 11 15 16 48 99 10\n",
      "\n",
      "Number of largest numbers: 5\n",
      "\n",
      "nLARGEST numbers:  [99, 48, 16, 15, 11]\n"
     ]
    }
   ],
   "source": [
    "import heapq\n",
    "\n",
    "def nLargesNums(array, n):\n",
    "    return heapq.nlargest(n, array)\n",
    "\n",
    "\n",
    "if __name__ == '__main__':\n",
    "    data = []\n",
    "    try:\n",
    "        print('Enter only INTEGERS\\n')\n",
    "        data = list(map(int, input('Enter elements in LIST with space in between: ').split()))\n",
    "        n = int(input('\\nNumber of largest numbers: '))\n",
    "        print('\\nnLARGEST numbers: ', nLargesNums(data, n))\n",
    "    \n",
    "    except ValueError as v:\n",
    "        print(v)\n",
    "    "
   ]
  },
  {
   "cell_type": "markdown",
   "id": "71ad06e3",
   "metadata": {},
   "source": [
    "#### Question 7: Write a Python program to print even numbers in a list?"
   ]
  },
  {
   "cell_type": "code",
   "execution_count": 10,
   "id": "d49c7f68",
   "metadata": {},
   "outputs": [
    {
     "name": "stdout",
     "output_type": "stream",
     "text": [
      "Enter only INTEGERS\n",
      "\n",
      "Enter elements in LIST with space in between: 1 2 3 4 5 6 7 8 9 10 11 12 13 14 15 16\n",
      "\n",
      "Even numbers: \n",
      "2\n",
      "4\n",
      "6\n",
      "8\n",
      "10\n",
      "12\n",
      "14\n",
      "16\n"
     ]
    }
   ],
   "source": [
    "def evenNum(numlist):\n",
    "    return (num for num in numlist if num%2 == 0)\n",
    "\n",
    "\n",
    "if __name__ == '__main__':\n",
    "    data = []\n",
    "    try:\n",
    "        print('Enter only INTEGERS\\n')\n",
    "        data = list(map(int, input('Enter elements in LIST with space in between: ').split()))\n",
    "        even = evenNum(data)\n",
    "        print('\\nEven numbers: ')\n",
    "        for num in even:\n",
    "            print(num)\n",
    "    \n",
    "    except ValueError as v:\n",
    "        print(v)"
   ]
  },
  {
   "cell_type": "markdown",
   "id": "7716b399",
   "metadata": {},
   "source": [
    "#### Question 8: Write a Python program to print odd numbers in a List?"
   ]
  },
  {
   "cell_type": "code",
   "execution_count": 11,
   "id": "f78f3dfc",
   "metadata": {},
   "outputs": [
    {
     "name": "stdout",
     "output_type": "stream",
     "text": [
      "Enter only INTEGERS\n",
      "\n",
      "Enter elements in LIST with space in between: 1 2 3 4 5 6 7 8 9 10 11 12 13 14 15 16\n",
      "\n",
      "Odd Numbers:  [1, 3, 5, 7, 9, 11, 13, 15]\n"
     ]
    }
   ],
   "source": [
    "def oddNum(numlist):\n",
    "    return [num for num in numlist if num%2 != 0]\n",
    "\n",
    "\n",
    "if __name__ == '__main__':\n",
    "    data = []\n",
    "    try:\n",
    "        print('Enter only INTEGERS\\n')\n",
    "        data = list(map(int, input('Enter elements in LIST with space in between: ').split()))\n",
    "        odd = oddNum(data)\n",
    "        print('\\nOdd Numbers: ', odd)\n",
    "    \n",
    "    except ValueError as v:\n",
    "        print(v)"
   ]
  },
  {
   "cell_type": "markdown",
   "id": "be2b1e4e",
   "metadata": {},
   "source": [
    "#### Question 9: Write a Python program to Remove empty List from List?"
   ]
  },
  {
   "cell_type": "code",
   "execution_count": 12,
   "id": "532850dd",
   "metadata": {},
   "outputs": [
    {
     "name": "stdout",
     "output_type": "stream",
     "text": [
      "Given list:  [[], 44, 'hi', 55, [], [], 2]\n",
      "\n",
      "Output:  [44, 'hi', 55, 2]\n"
     ]
    }
   ],
   "source": [
    "def RemoveEmpty(ilist):\n",
    "    return [num for num in ilist if num]\n",
    "\n",
    "if __name__ == '__main__':\n",
    "    \n",
    "    data = [[], 44, 'hi', 55, [], [], 2]\n",
    "    print('Given list: ', data)\n",
    "    print('\\nOutput: ',RemoveEmpty(data))\n",
    "    "
   ]
  },
  {
   "cell_type": "markdown",
   "id": "20b87c72",
   "metadata": {},
   "source": [
    "#### Question 10: Write a Python program to Cloning or Copying a list?"
   ]
  },
  {
   "cell_type": "code",
   "execution_count": 14,
   "id": "832a2cb3",
   "metadata": {},
   "outputs": [
    {
     "name": "stdout",
     "output_type": "stream",
     "text": [
      "\n",
      "Original List:  [1, 2, 'hi', 3, True, 55]\n",
      "\n",
      "Cloned List:  [1, 2, 'hi', 3, True, 55]\n"
     ]
    }
   ],
   "source": [
    "def listCloner(thelist):\n",
    "    newlist = []\n",
    "    newlist.extend(thelist)\n",
    "    return newlist\n",
    "\n",
    "\n",
    "if __name__ == '__main__':\n",
    "    \n",
    "    data = [1 ,2 ,'hi', 3, True, 55]\n",
    "    print('\\nOriginal List: ', data)\n",
    "    print('\\nCloned List: ', listCloner(data))\n"
   ]
  },
  {
   "cell_type": "markdown",
   "id": "1971cee3",
   "metadata": {},
   "source": [
    "#### Question 11: Write a Python program to Count occurrences of an element in a list?"
   ]
  },
  {
   "cell_type": "code",
   "execution_count": 25,
   "id": "8e80b49d",
   "metadata": {},
   "outputs": [
    {
     "name": "stdout",
     "output_type": "stream",
     "text": [
      "\n",
      "Original List:  [5, 6, 2, 2, 9, 'a', 6, 'b', 1, 'c', 2, 'c', 'b', 6, 1, 'c', 6]\n",
      "\n",
      "5 occur ONCE\n",
      "6 occur 4 times\n",
      "2 occur 3 times\n",
      "9 occur ONCE\n",
      "a occur ONCE\n",
      "b occur 2 times\n",
      "1 occur 2 times\n",
      "c occur 3 times\n"
     ]
    }
   ],
   "source": [
    "from collections import Counter\n",
    "\n",
    "\n",
    "def CountElement(thelist):\n",
    "    new = Counter(thelist)\n",
    "    return new\n",
    "        \n",
    "        \n",
    "if __name__ == '__main__':\n",
    "    data = [5,6, 2, 2,9,'a', 6, 'b', 1, 'c', 2, 'c', 'b', 6, 1, 'c', 6]\n",
    "    print('\\nOriginal List: ', data)\n",
    "    count = CountElement(data)\n",
    "    print()\n",
    "    for i in count.items():\n",
    "        if i[1] == 1:\n",
    "            print(i[0],'occur ONCE')\n",
    "        else:\n",
    "            print(i[0],'occur', i[1],'times')\n",
    "   \n"
   ]
  }
 ],
 "metadata": {
  "kernelspec": {
   "display_name": "Python 3 (ipykernel)",
   "language": "python",
   "name": "python3"
  },
  "language_info": {
   "codemirror_mode": {
    "name": "ipython",
    "version": 3
   },
   "file_extension": ".py",
   "mimetype": "text/x-python",
   "name": "python",
   "nbconvert_exporter": "python",
   "pygments_lexer": "ipython3",
   "version": "3.9.12"
  }
 },
 "nbformat": 4,
 "nbformat_minor": 5
}
