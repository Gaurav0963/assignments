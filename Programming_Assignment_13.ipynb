{
 "cells": [
  {
   "cell_type": "markdown",
   "id": "fe6185e5",
   "metadata": {},
   "source": [
    "# PROGRAMMING ASSIGNMENT 13"
   ]
  },
  {
   "cell_type": "markdown",
   "id": "517c7a3d",
   "metadata": {},
   "source": [
    "### Question 1"
   ]
  },
  {
   "cell_type": "code",
   "execution_count": 22,
   "id": "92b0eecf",
   "metadata": {},
   "outputs": [
    {
     "name": "stdout",
     "output_type": "stream",
     "text": [
      "Enter String: 100,150,180\n",
      "\n",
      "18,22,24,\n",
      "\n",
      "Enter 'y' to Continue, ANY OTHER key to exit: n\n",
      "\n",
      "\t\t\tTHANKYOU\n"
     ]
    }
   ],
   "source": [
    "# Write a program that calculates and prints the value according to the given formula:\n",
    "# Q = Square root of [(2 * C * D)/H]\n",
    "# Following are the fixed values of C and H: C is 50. H is 30.\n",
    "\n",
    "\n",
    "def SqaureRoot(mylist):\n",
    "    C = 50\n",
    "    H = 30\n",
    "    for D in mylist:\n",
    "        Q = int(((2 * C * D)/H)**0.5)\n",
    "        yield Q\n",
    "    \n",
    "    \n",
    "if __name__ == '__main__':\n",
    "    while True:\n",
    "        try:\n",
    "            data = list(map(int, input('Enter String: ').strip().split(',')))\n",
    "            print()\n",
    "            for item in SqaureRoot(data):\n",
    "                print(item, end =',')\n",
    "            \n",
    "        except ValueError as v:\n",
    "            print(v)\n",
    "        \n",
    "        ch = input(\"\\n\\nEnter 'y' to Continue, ANY OTHER key to exit: \" )\n",
    "        if ch == 'y' or ch =='Y':\n",
    "            continue\n",
    "        else:\n",
    "            print('\\n\\t\\t\\tTHANKYOU')\n",
    "            break\n",
    "    \n",
    "    "
   ]
  },
  {
   "cell_type": "markdown",
   "id": "1087f5a9",
   "metadata": {},
   "source": [
    "### Question 2:"
   ]
  },
  {
   "cell_type": "code",
   "execution_count": 10,
   "id": "a9a8d559",
   "metadata": {},
   "outputs": [
    {
     "name": "stdout",
     "output_type": "stream",
     "text": [
      "\n",
      "Enter ROWS, COLUMNS: 3,5\n",
      "\n",
      "[[0, 0, 0, 0, 0], [0, 1, 2, 3, 4], [0, 2, 4, 6, 8]]\n",
      "\n",
      "Enter 'y' to Continue, ANY OTHER key to exit: n\n",
      "\n",
      "\t\t\tTHANKYOU\n"
     ]
    }
   ],
   "source": [
    "# Write a program which takes 2 digits, X,Y as input and generates a 2-dimensional array. \n",
    "# The element value in the i-th row and j-th column of the array should be i*j.\n",
    "\n",
    "\n",
    "def array2d(rows, columns):\n",
    "    A = []\n",
    "    for i in range(rows):\n",
    "        row = []\n",
    "        for j in range(columns):\n",
    "            row.append(i*j)\n",
    "        A.append(row)\n",
    "    return A\n",
    "    \n",
    "    \n",
    "if __name__ == '__main__':\n",
    "    while True:\n",
    "        try:\n",
    "            ar = list(map(int, input('\\nEnter ROWS, COLUMNS: ').strip().split(',')))  \n",
    "            print()\n",
    "            print(array2d(ar[0], ar[1]))\n",
    "            \n",
    "        except ValueError as v:\n",
    "            print(v)\n",
    "        \n",
    "        ch = input(\"\\nEnter 'y' to Continue, ANY OTHER key to exit: \" )\n",
    "        if ch == 'y' or ch =='Y':\n",
    "            continue\n",
    "        else:\n",
    "            print('\\n\\t\\t\\tTHANKYOU')\n",
    "            break"
   ]
  },
  {
   "cell_type": "markdown",
   "id": "6afb1242",
   "metadata": {},
   "source": [
    "### Question 3:\n"
   ]
  },
  {
   "cell_type": "code",
   "execution_count": 17,
   "id": "5021ab19",
   "metadata": {},
   "outputs": [
    {
     "name": "stdout",
     "output_type": "stream",
     "text": [
      "\n",
      "Enter Comma Seperated Words: without,hello,bag,world\n",
      "\n",
      "OUPUT:  bag,hello,without,world\n",
      "\n",
      "Enter 'y' to Continue, ANY OTHER key to exit: n\n",
      "\n",
      "\t\t\tTHANKYOU\n"
     ]
    }
   ],
   "source": [
    "# Write a program that accepts a comma separated sequence of words as input and prints the\n",
    "# words in a comma-separated sequence after sorting them alphabetically.\n",
    "\n",
    "def sortedwords(string):\n",
    "    words = [word for word in string.strip().split(',')]\n",
    "    return ','.join(sorted(words))\n",
    "    \n",
    "\n",
    "if __name__ == '__main__':\n",
    "    while True:\n",
    "        try:\n",
    "            string = input('\\nEnter Comma Seperated Words: ')\n",
    "            print('\\nOUPUT: ', sortedwords(string))\n",
    "            \n",
    "        except ValueError as v:\n",
    "            print(v)\n",
    "        \n",
    "        ch = input(\"\\nEnter 'y' to Continue, ANY OTHER key to exit: \" )\n",
    "        if ch == 'y' or ch =='Y':\n",
    "            continue\n",
    "        else:\n",
    "            print('\\n\\t\\t\\tTHANKYOU')\n",
    "            break"
   ]
  },
  {
   "cell_type": "markdown",
   "id": "d35953ec",
   "metadata": {},
   "source": [
    "### Question 4:\n"
   ]
  },
  {
   "cell_type": "code",
   "execution_count": 1,
   "id": "fe71a183",
   "metadata": {},
   "outputs": [
    {
     "name": "stdout",
     "output_type": "stream",
     "text": [
      "\n",
      "ENTER SENTENCE: hello world and practice makes perfect and hello world again\n",
      "\n",
      "UNIQUE & SORTED:  again and hello makes perfect practice world\n",
      "\n",
      "Enter 'y' to Continue, ANY OTHER key to exit: n\n",
      "\n",
      "\t\t\tTHANKYOU\n"
     ]
    }
   ],
   "source": [
    "# Write a program that accepts a sequence of whitespace separated words as input and prints\n",
    "# the words after removing all duplicate words and sorting them alphanumerically.\n",
    "\n",
    "\n",
    "def Unique_Sorted(string):\n",
    "    wordlist = [i for i in string.strip().split()]\n",
    "    newlist = []\n",
    "    for word in wordlist:\n",
    "            if word in newlist:\n",
    "                continue\n",
    "            else:\n",
    "                newlist.append(word)\n",
    "                \n",
    "    newlist.sort()\n",
    "    return ' '.join(newlist)\n",
    "\n",
    "if __name__ == '__main__':\n",
    "    while True:\n",
    "        data = input('\\nENTER SENTENCE: ')\n",
    "        print('\\nUNIQUE & SORTED: ', Unique_Sorted(data))\n",
    "        \n",
    "        ch = input(\"\\nEnter 'y' to Continue, ANY OTHER key to exit: \" )\n",
    "        if ch == 'y' or ch =='Y':\n",
    "            continue\n",
    "        else:\n",
    "            print('\\n\\t\\t\\tTHANKYOU')\n",
    "            break"
   ]
  },
  {
   "cell_type": "markdown",
   "id": "9c264482",
   "metadata": {},
   "source": [
    "### Question 5:\n"
   ]
  },
  {
   "cell_type": "code",
   "execution_count": 2,
   "id": "cdcf48f3",
   "metadata": {},
   "outputs": [
    {
     "name": "stdout",
     "output_type": "stream",
     "text": [
      "\n",
      "INPUT: hello world! 123\n",
      "\n",
      "LETTERS 10\n",
      "DIGITS 3\n",
      "\n",
      "Enter 'y' to Continue, ANY OTHER key to exit: n\n",
      "\n",
      "\t\t\tTHANKYOU\n"
     ]
    }
   ],
   "source": [
    "# Write a program that accepts a sentence and calculate the number of letters and digits.\n",
    "\n",
    "def digits_n_letters(data):\n",
    "    digit, letter = 0, 0\n",
    "    thelist = []\n",
    "    for i in data:\n",
    "        if ord(i) in range(48, 58):\n",
    "            digit += 1\n",
    "        elif ord(i) in range(65, 91) or ord(i) in range(97, 123):\n",
    "            letter += 1\n",
    "    \n",
    "    thelist.append(digit)\n",
    "    thelist.append(letter)\n",
    "    return thelist\n",
    "\n",
    "if __name__ == '__main__':\n",
    "    while True:\n",
    "        data = input('\\nINPUT: ')\n",
    "        res = digits_n_letters(data)\n",
    "        print('\\nLETTERS', res[1])\n",
    "        print('DIGITS', res[0])\n",
    "        \n",
    "        ch = input(\"\\nEnter 'y' to Continue, ANY OTHER key to exit: \" )\n",
    "        if ch == 'y' or ch =='Y':\n",
    "            continue\n",
    "        else:\n",
    "            print('\\n\\t\\t\\tTHANKYOU')\n",
    "            break"
   ]
  },
  {
   "cell_type": "markdown",
   "id": "c8e72a83",
   "metadata": {},
   "source": [
    "### Question 6:\n"
   ]
  },
  {
   "cell_type": "code",
   "execution_count": 89,
   "id": "c70141f8",
   "metadata": {},
   "outputs": [
    {
     "name": "stdout",
     "output_type": "stream",
     "text": [
      "\n",
      "ENTER a sequence of comma separated passwords :ABd1234@1,a F1#,2w3E*,2We3345,ABd1234*1,asdfASDF1234@,1aA$23\n",
      "\n",
      "ABd1234@1\n",
      "1aA$23\n"
     ]
    }
   ],
   "source": [
    "# A website requires the users to input username and password to register. \n",
    "# Write a program to check the validity of password input by users.\n",
    "\n",
    "import re\n",
    "\n",
    "\n",
    "data = input('\\nENTER a sequence of comma separated passwords :')\n",
    "print()\n",
    "password_list = [i for i in data.strip().split(',')]\n",
    "    \n",
    "for password in password_list:\n",
    "    \n",
    "    if len(password) in range(6, 13):\n",
    "        \n",
    "        matches = re.finditer(r\"(?=.*[$#@])(?=.*\\d)(?=.*[a-z])(?=.*[A-Z])[$#@\\w^_]{6,12}\", password)\n",
    "        \n",
    "        for match in matches:\n",
    "            print(match.group())\n",
    "    "
   ]
  }
 ],
 "metadata": {
  "kernelspec": {
   "display_name": "Python 3 (ipykernel)",
   "language": "python",
   "name": "python3"
  },
  "language_info": {
   "codemirror_mode": {
    "name": "ipython",
    "version": 3
   },
   "file_extension": ".py",
   "mimetype": "text/x-python",
   "name": "python",
   "nbconvert_exporter": "python",
   "pygments_lexer": "ipython3",
   "version": "3.9.12"
  }
 },
 "nbformat": 4,
 "nbformat_minor": 5
}
