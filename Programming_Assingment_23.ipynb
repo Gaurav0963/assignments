{
 "cells": [
  {
   "cell_type": "code",
   "execution_count": 16,
   "id": "4652bf24",
   "metadata": {},
   "outputs": [
    {
     "name": "stdout",
     "output_type": "stream",
     "text": [
      "__SYMMETRICAL__\n",
      "\n",
      "Enter Number: 12\n",
      "False\n",
      "\n",
      "Enter 'y' to continue, Press ANY OTHER key to exit: n\n"
     ]
    }
   ],
   "source": [
    "# QUESTION : 1\n",
    "# Create a function that takes a number as an argument and returns True or False depending on \n",
    "# whether the number is symmetrical or not. A number is symmetrical when it is the same as its reverse.\n",
    "\n",
    "def is_symmetrical(num):\n",
    "    if str(num) == str(num)[::-1]:\n",
    "        return True\n",
    "    else:\n",
    "        return False\n",
    "\n",
    "if __name__ == '__main__':\n",
    "    \n",
    "    print('__SYMMETRICAL__')\n",
    "    \n",
    "    while True:\n",
    "        try:   \n",
    "            number = int(input('\\nEnter Number: '))\n",
    "            print(is_symmetrical(number))\n",
    "        \n",
    "        except ValueError as v:\n",
    "            print(v)\n",
    "        \n",
    "        choice = input(\"\\nEnter 'y' to continue, Press ANY OTHER key to exit: \")\n",
    "        if choice == 'y' or choice =='Y':\n",
    "            continue\n",
    "        else:\n",
    "            break \n",
    "    \n",
    "    "
   ]
  },
  {
   "cell_type": "code",
   "execution_count": 10,
   "id": "328bd0ba",
   "metadata": {},
   "outputs": [
    {
     "name": "stdout",
     "output_type": "stream",
     "text": [
      "__STRING of NUMBERS__\n",
      "\n",
      "Enter string of numbers separated by a comma and space\n",
      "\n",
      "Input: 1, m, 5\n",
      "could not convert string to float: 'm'\n",
      "\n",
      "Enter 'y' to continue, Press ANY OTHER key to exit: y\n",
      "\n",
      "Input: 1,1,2\n",
      "could not convert string to float: '1,1,2'\n",
      "\n",
      "Enter 'y' to continue, Press ANY OTHER key to exit: 55 h\n"
     ]
    }
   ],
   "source": [
    "# QUESTION: 2\n",
    "# Given a string of numbers separated by a comma and space, return the product of the numbers.\n",
    "\n",
    "def multiply_nums(str_num):\n",
    "    product = 1\n",
    "    num1 = (float(i) for i in str_num.split(', '))    \n",
    "    for i in num1:\n",
    "        product = product*i\n",
    "    \n",
    "    return product\n",
    "\n",
    "\n",
    "if __name__ == '__main__':\n",
    "    \n",
    "    print('__STRING of NUMBERS__\\n')\n",
    "    print('Enter string of numbers separated by a comma and space')\n",
    "    \n",
    "    while True:\n",
    "        try:  \n",
    "            number = input('\\nInput: ')\n",
    "            print('Output:',multiply_nums(number))\n",
    "        \n",
    "        except ValueError as v:\n",
    "            print(v)\n",
    "            \n",
    "        choice = input(\"\\nEnter 'y' to continue, Press ANY OTHER key to exit: \")\n",
    "        if choice == 'y' or choice =='Y':\n",
    "            continue\n",
    "        else:\n",
    "            break "
   ]
  },
  {
   "cell_type": "code",
   "execution_count": 25,
   "id": "5ce28b97",
   "metadata": {},
   "outputs": [
    {
     "name": "stdout",
     "output_type": "stream",
     "text": [
      "\n",
      "Number: 9119\n",
      "Output: 811181\n",
      "\n",
      "Enter 'y' to continue, Press ANY OTHER key to exit: y\n",
      "\n",
      "Number: 2483\n",
      "Output: 416649\n",
      "\n",
      "Enter 'y' to continue, Press ANY OTHER key to exit: y\n",
      "\n",
      "Number: 3212\n",
      "Output: 9414\n",
      "\n",
      "Enter 'y' to continue, Press ANY OTHER key to exit: n\n"
     ]
    }
   ],
   "source": [
    "# Question 3\n",
    "# Create a function that squares every digit of a number.\n",
    "# NOTE: The function receives an integer and must return an integer.\n",
    "\n",
    "\n",
    "def square_digits(integer):\n",
    "        \n",
    "    arr = [str(int(i)**2) for i in str(integer)]  #list comprehension is a bit complicated to read but VERY LESS execution time.\n",
    "    \n",
    "    return int(''.join(arr)) #returning as integer\n",
    "\n",
    "\n",
    "if __name__ == '__main__':\n",
    "    \n",
    "    while True:\n",
    "        try:   \n",
    "            number = int(input('\\nNumber: '))\n",
    "            print('Output:',square_digits(number))\n",
    "        \n",
    "        except ValueError as v:\n",
    "            print(v)\n",
    "        \n",
    "        choice = input(\"\\nEnter 'y' to continue, Press ANY OTHER key to exit: \")\n",
    "        if choice == 'y' or choice =='Y':\n",
    "            continue\n",
    "        else:\n",
    "            break "
   ]
  },
  {
   "cell_type": "code",
   "execution_count": 17,
   "id": "52a33e57",
   "metadata": {},
   "outputs": [
    {
     "name": "stdout",
     "output_type": "stream",
     "text": [
      "ONLY Enter INTEGERS in LIST with Space in between\n",
      "\n",
      "Elemets of list: 3 3 3 2 1\n",
      "Input: [3, 3, 3, 2, 1]\n",
      "Output: [1, 2, 3]\n",
      "\n",
      "Enter 'y' to continue, Press ANY OTHER key to exit: y\n",
      "Elemets of list: 4 4 4 4 4\n",
      "Input: [4, 4, 4, 4, 4]\n",
      "Output: [4]\n",
      "\n",
      "Enter 'y' to continue, Press ANY OTHER key to exit: y\n",
      "Elemets of list: 1 2 3 4 5 6\n",
      "Input: [1, 2, 3, 4, 5, 6]\n",
      "Output: [1, 2, 3, 4, 5, 6]\n",
      "\n",
      "Enter 'y' to continue, Press ANY OTHER key to exit: n\n"
     ]
    }
   ],
   "source": [
    "# QUESTION 4: \n",
    "#     Create a function that sorts a list and removes all duplicate items from it.\n",
    "\n",
    "def setify(numlist):\n",
    "    \n",
    "    list_to_set = set(numlist)\n",
    "\n",
    "    new_list = list(list_to_set)\n",
    "\n",
    "    return sorted(new_list)\n",
    "\n",
    "\n",
    "if __name__ == '__main__':\n",
    "    \n",
    "    print('ONLY Enter INTEGERS in LIST with Space in between\\n')\n",
    "    \n",
    "    while True:\n",
    "        try:   \n",
    "            mylist = list(map(int, input('Elemets of list: ').split()))\n",
    "            \n",
    "            print('Input:', mylist)\n",
    "    \n",
    "            print('Output:', setify(mylist))\n",
    "        \n",
    "        except ValueError as v:\n",
    "            print(v)\n",
    "        \n",
    "        choice = input(\"\\nEnter 'y' to continue, Press ANY OTHER key to exit: \")\n",
    "        if choice == 'y' or choice =='Y':\n",
    "            continue\n",
    "        else:\n",
    "            break "
   ]
  },
  {
   "cell_type": "code",
   "execution_count": 24,
   "id": "2174aaba",
   "metadata": {},
   "outputs": [
    {
     "name": "stdout",
     "output_type": "stream",
     "text": [
      "\t\t\t\tMEAN\n",
      "\n",
      "Number: 42\n",
      "Mean: 3\n",
      "\n",
      "Enter 'y' to continue, Press ANY OTHER key to exit: y\n",
      "\n",
      "Number: 12345\n",
      "Mean: 3\n",
      "\n",
      "Enter 'y' to continue, Press ANY OTHER key to exit: y\n",
      "\n",
      "Number: 666\n",
      "Mean: 6\n",
      "\n",
      "Enter 'y' to continue, Press ANY OTHER key to exit: n\n"
     ]
    }
   ],
   "source": [
    "# Question 5\n",
    "# Create a function that returns the mean of all digits.\n",
    "# NOTE : The mean will always be an integer.\n",
    "\n",
    "def mean(num):\n",
    "    \n",
    "    add = sum(int(i) for i in str(num))\n",
    "    \n",
    "    return add//len(str(num)) #condition in question --> mean will always be an integer\n",
    "\n",
    "\n",
    "if __name__ == '__main__':\n",
    "    \n",
    "    print('\\t\\t\\t\\tMEAN')\n",
    "    \n",
    "    while True:\n",
    "        try:   \n",
    "            number = int(input('\\nNumber: '))\n",
    "            print('Mean:',mean(number))\n",
    "        \n",
    "        except ValueError as v:\n",
    "            print(v)\n",
    "        \n",
    "        choice = input(\"\\nEnter 'y' to continue, Press ANY OTHER key to exit: \")\n",
    "        if choice == 'y' or choice =='Y':\n",
    "            continue\n",
    "        else:\n",
    "            break "
   ]
  }
 ],
 "metadata": {
  "kernelspec": {
   "display_name": "Python 3 (ipykernel)",
   "language": "python",
   "name": "python3"
  },
  "language_info": {
   "codemirror_mode": {
    "name": "ipython",
    "version": 3
   },
   "file_extension": ".py",
   "mimetype": "text/x-python",
   "name": "python",
   "nbconvert_exporter": "python",
   "pygments_lexer": "ipython3",
   "version": "3.9.12"
  }
 },
 "nbformat": 4,
 "nbformat_minor": 5
}
