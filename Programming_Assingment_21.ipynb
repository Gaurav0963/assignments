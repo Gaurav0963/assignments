{
 "cells": [
  {
   "cell_type": "markdown",
   "id": "2b671b48",
   "metadata": {},
   "source": [
    "# PROGRAMMING ASSIGNMENT 21"
   ]
  },
  {
   "cell_type": "markdown",
   "id": "e6cc15e9",
   "metadata": {},
   "source": [
    "CREATING JUST THE FUNCTIONS AS QUESTION DID NOT SPECIFICALLY ASKS TO WRITE THE WHOLE PROGRAM."
   ]
  },
  {
   "cell_type": "code",
   "execution_count": 70,
   "id": "df77862b",
   "metadata": {},
   "outputs": [
    {
     "name": "stdout",
     "output_type": "stream",
     "text": [
      "Enter Elements with SPACE in between\n",
      "\n",
      "List Elements: 5 6 7 8 9\n",
      "Enter the number:1\n",
      "\n",
      "OUTPUT--> [6, 7, 8, 9, 1]\n",
      "\n",
      "Enter 'y' to Continue, ANY OTHER key to exit: Y\n",
      "\n",
      "List Elements: \n",
      "\n",
      "\"No list has been selected\"\n",
      "\n",
      "Enter 'y' to Continue, ANY OTHER key to exit: N\n",
      "\n",
      "\t\t\tTHANKYOU\n"
     ]
    }
   ],
   "source": [
    "# QUESTOIN 1:\n",
    "# Write a function that takes a list and a number as arguments. Add the number to the end of the list, \n",
    "# then remove the first element of the list. The function should then return the updated list.\n",
    "\n",
    "def next_in_line(List, element):\n",
    "    newlist = List[1:]\n",
    "    newlist.append(element)\n",
    "    \n",
    "    return newlist\n",
    "    \n",
    "    \n",
    "if __name__ == '__main__':\n",
    "    \n",
    "    print('Enter Elements with SPACE in between')\n",
    "    \n",
    "    while True:\n",
    "        \n",
    "        try:\n",
    "            List = list(map(int, input('\\nList Elements: ').split()))\n",
    "            \n",
    "            if List == []:\n",
    "                print('\\n\"No list has been selected\"')\n",
    "            \n",
    "            else:\n",
    "                ele = int(input('Enter the number:' ))\n",
    "                print('\\nOUTPUT-->', next_in_line(List, ele))\n",
    "                        \n",
    "        except ValueError as v:\n",
    "            print(v)\n",
    "        \n",
    "        ch = input(\"\\nEnter 'y' to Continue, ANY OTHER key to exit: \" )\n",
    "        if ch == 'y' or ch =='Y':\n",
    "            continue\n",
    "        else:\n",
    "            print('\\n\\t\\t\\tTHANKYOU')\n",
    "            break"
   ]
  },
  {
   "cell_type": "code",
   "execution_count": 56,
   "id": "eaf979ae",
   "metadata": {},
   "outputs": [
    {
     "data": {
      "text/plain": [
       "65700"
      ]
     },
     "execution_count": 56,
     "metadata": {},
     "output_type": "execute_result"
    }
   ],
   "source": [
    "# QUESTION : 2\n",
    "# Create the function that takes a list of dictionaries and returns the sum of people budgets.\n",
    "\n",
    "\n",
    "def get_budgets(dict_list):\n",
    "    \n",
    "    return sum(val['budget'] for val in dict_list)\n",
    "    \n",
    "    \n",
    "    \n",
    "get_budgets([\n",
    "{ 'name': 'John', 'age': 21, 'budget': 23000 },\n",
    "{ 'name': 'Steve', 'age': 32, 'budget': 40000 },\n",
    "{ 'name': 'Martin', 'age': 16, 'budget': 2700 }\n",
    "])\n",
    " "
   ]
  },
  {
   "cell_type": "code",
   "execution_count": 58,
   "id": "f0aa14f7",
   "metadata": {},
   "outputs": [
    {
     "data": {
      "text/plain": [
       "'acehkr'"
      ]
     },
     "execution_count": 58,
     "metadata": {},
     "output_type": "execute_result"
    }
   ],
   "source": [
    "# QUESTION : 3\n",
    "# Create a function that takes a string and returns a string with its letters in alphabetical order.\n",
    "\n",
    "\n",
    "def alphabet_soup(string):\n",
    "    return ''.join(sorted(string))\n",
    "\n",
    "alphabet_soup('hacker')"
   ]
  },
  {
   "cell_type": "code",
   "execution_count": 62,
   "id": "1a4857fb",
   "metadata": {},
   "outputs": [
    {
     "data": {
      "text/plain": [
       "18193.97"
      ]
     },
     "execution_count": 62,
     "metadata": {},
     "output_type": "execute_result"
    }
   ],
   "source": [
    "# QUESTION 4:\n",
    "# Create a function that accepts the principal p, the term in years t, the interest rate r, and the\n",
    "# number of compounding periods per year n. The function returns the value at the end of term rounded to the nearest cent.\n",
    "\n",
    "\n",
    "def compound_interest(p, t, r, n):\n",
    "    amount = p * pow((1 + (r/n)), n*t)\n",
    "    \n",
    "    return round(amount, 2) \n",
    "\n",
    "\n",
    "\n",
    "compound_interest(10000, 10, 0.06, 12)\n",
    "    "
   ]
  },
  {
   "cell_type": "code",
   "execution_count": 69,
   "id": "7f3b9fbc",
   "metadata": {},
   "outputs": [
    {
     "data": {
      "text/plain": [
       "[10, 56, 20, 3]"
      ]
     },
     "execution_count": 69,
     "metadata": {},
     "output_type": "execute_result"
    }
   ],
   "source": [
    "# QUESTION : 5\n",
    "# Write a function that takes a list of elements and returns only the integers.\n",
    "\n",
    "\n",
    "def return_only_integer(mylist):\n",
    "    return [i for i in mylist if type(i) == int]\n",
    "\n",
    "\n",
    "return_only_integer([10, '121', 56, 20, 'car', 3, 'lion', True, 11.11])        "
   ]
  }
 ],
 "metadata": {
  "kernelspec": {
   "display_name": "Python 3 (ipykernel)",
   "language": "python",
   "name": "python3"
  },
  "language_info": {
   "codemirror_mode": {
    "name": "ipython",
    "version": 3
   },
   "file_extension": ".py",
   "mimetype": "text/x-python",
   "name": "python",
   "nbconvert_exporter": "python",
   "pygments_lexer": "ipython3",
   "version": "3.9.12"
  }
 },
 "nbformat": 4,
 "nbformat_minor": 5
}
