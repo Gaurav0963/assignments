{
 "cells": [
  {
   "cell_type": "markdown",
   "id": "5df8f8e8",
   "metadata": {},
   "source": [
    "# ASSIGNMENT 20"
   ]
  },
  {
   "cell_type": "markdown",
   "id": "985b965d",
   "metadata": {},
   "source": [
    "### QUESTION 1"
   ]
  },
  {
   "cell_type": "code",
   "execution_count": 1,
   "id": "310e0f07",
   "metadata": {},
   "outputs": [],
   "source": [
    "# Set the variable test1 to the string 'This is a test of the emergency text system' and save test1 to a\n",
    "# file named test.txt.\n",
    "\n",
    "\n",
    "test1 = 'This is a test of the emergency text system'\n",
    "with open('test.txt', 'wt') as f:\n",
    "    f.write(test1)\n",
    "    "
   ]
  },
  {
   "cell_type": "markdown",
   "id": "1fb642a8",
   "metadata": {},
   "source": [
    "### QUESTION 2"
   ]
  },
  {
   "cell_type": "code",
   "execution_count": 10,
   "id": "694bdf8c",
   "metadata": {},
   "outputs": [
    {
     "name": "stdout",
     "output_type": "stream",
     "text": [
      "test2: This is a test of the emergency text system\n",
      "\n",
      "Are test1 and test2 same? : True\n"
     ]
    }
   ],
   "source": [
    "# Read the contents of the file test.txt into the variable test2. Is there a difference between test 1 and test 2?\n",
    "\n",
    "with open('test.txt', 'rt') as fread:\n",
    "    test2 = fread.read()\n",
    "    \n",
    "print('test2:', test2)\n",
    "\n",
    "# following line of code will return True if there is no difference between test1 and test2\n",
    "\n",
    "print('\\nAre test1 and test2 same? :', test1==test2)"
   ]
  },
  {
   "cell_type": "markdown",
   "id": "1f5ac3e4",
   "metadata": {},
   "source": [
    "### QUESTION 3"
   ]
  },
  {
   "cell_type": "code",
   "execution_count": 5,
   "id": "224fb025",
   "metadata": {},
   "outputs": [],
   "source": [
    "data ='''title,author,year\n",
    "The Weirdstone of Brisingamen,Alan Garner,1960\n",
    "Perdido Street Station,China Miéville,2000\n",
    "Thud!,Terry Pratchett,2005\n",
    "The Spellman Files,Lisa Lutz,2007\n",
    "Small Gods,Terry Pratchett,1992'''\n",
    "\n",
    "with open('books.csv', 'wt') as f1:\n",
    "    f1.write(data)"
   ]
  },
  {
   "cell_type": "markdown",
   "id": "4dbbf38e",
   "metadata": {},
   "source": [
    "### QUESTION 4"
   ]
  },
  {
   "cell_type": "code",
   "execution_count": 26,
   "id": "8c9dc208",
   "metadata": {},
   "outputs": [],
   "source": [
    "# Use the sqlite3 module to create a SQLite database called books.db, and a table called books with\n",
    "# these fields: title (text), author (text), and year (integer).\n",
    "\n",
    "import sqlite3\n",
    "mydb = sqlite3.connect('books.db')\n",
    "cur = mydb.cursor()\n",
    "cur.execute('''create table book (title text, author text, year int)''')\n",
    "mydb.commit()\n"
   ]
  },
  {
   "cell_type": "code",
   "execution_count": 25,
   "id": "c3293f6c",
   "metadata": {},
   "outputs": [
    {
     "data": {
      "text/plain": [
       "<sqlite3.Cursor at 0x29e6829e500>"
      ]
     },
     "execution_count": 25,
     "metadata": {},
     "output_type": "execute_result"
    }
   ],
   "source": [
    "# cur.execute('''drop table book''')"
   ]
  },
  {
   "cell_type": "markdown",
   "id": "39c9b2c4",
   "metadata": {},
   "source": [
    "### QUESTION 5"
   ]
  },
  {
   "cell_type": "code",
   "execution_count": 28,
   "id": "de267ff5",
   "metadata": {},
   "outputs": [],
   "source": [
    "# Read books.csv and insert its data into the book table.\n",
    "\n",
    "import csv\n",
    "import sqlite3\n",
    "string = 'insert into book values(?, ?, ?)'\n",
    "with open('books.csv', 'rt') as f3:\n",
    "    books = csv.DictReader(f3)\n",
    "    for book in books:\n",
    "        cur.execute(string, (book['title'], book['author'], book['year']))\n",
    "mydb.commit()"
   ]
  },
  {
   "cell_type": "markdown",
   "id": "8cfe7148",
   "metadata": {},
   "source": [
    "### QUESTION 6"
   ]
  },
  {
   "cell_type": "code",
   "execution_count": 29,
   "id": "ec205877",
   "metadata": {},
   "outputs": [
    {
     "name": "stdout",
     "output_type": "stream",
     "text": [
      "[('Perdido Street Station',), ('Small Gods',), ('The Spellman Files',), ('The Weirdstone of Brisingamen',), ('Thud!',)]\n"
     ]
    }
   ],
   "source": [
    "# Select and print the title column from the book table in alphabetical order.\n",
    "\n",
    "cur.execute('select title from books order by title asc')\n",
    "print(cur.fetchall())"
   ]
  },
  {
   "cell_type": "markdown",
   "id": "eb02d88d",
   "metadata": {},
   "source": [
    "### QUESTION 7"
   ]
  },
  {
   "cell_type": "code",
   "execution_count": 30,
   "id": "cc2fd4cd",
   "metadata": {},
   "outputs": [
    {
     "data": {
      "text/html": [
       "<div>\n",
       "<style scoped>\n",
       "    .dataframe tbody tr th:only-of-type {\n",
       "        vertical-align: middle;\n",
       "    }\n",
       "\n",
       "    .dataframe tbody tr th {\n",
       "        vertical-align: top;\n",
       "    }\n",
       "\n",
       "    .dataframe thead th {\n",
       "        text-align: right;\n",
       "    }\n",
       "</style>\n",
       "<table border=\"1\" class=\"dataframe\">\n",
       "  <thead>\n",
       "    <tr style=\"text-align: right;\">\n",
       "      <th></th>\n",
       "      <th>title</th>\n",
       "      <th>author</th>\n",
       "      <th>year</th>\n",
       "    </tr>\n",
       "  </thead>\n",
       "  <tbody>\n",
       "    <tr>\n",
       "      <th>0</th>\n",
       "      <td>The Weirdstone of Brisingamen</td>\n",
       "      <td>Alan Garner</td>\n",
       "      <td>1960</td>\n",
       "    </tr>\n",
       "    <tr>\n",
       "      <th>1</th>\n",
       "      <td>Small Gods</td>\n",
       "      <td>Terry Pratchett</td>\n",
       "      <td>1992</td>\n",
       "    </tr>\n",
       "    <tr>\n",
       "      <th>2</th>\n",
       "      <td>Perdido Street Station</td>\n",
       "      <td>China Miéville</td>\n",
       "      <td>2000</td>\n",
       "    </tr>\n",
       "    <tr>\n",
       "      <th>3</th>\n",
       "      <td>Thud!</td>\n",
       "      <td>Terry Pratchett</td>\n",
       "      <td>2005</td>\n",
       "    </tr>\n",
       "    <tr>\n",
       "      <th>4</th>\n",
       "      <td>The Spellman Files</td>\n",
       "      <td>Lisa Lutz</td>\n",
       "      <td>2007</td>\n",
       "    </tr>\n",
       "  </tbody>\n",
       "</table>\n",
       "</div>"
      ],
      "text/plain": [
       "                           title           author  year\n",
       "0  The Weirdstone of Brisingamen      Alan Garner  1960\n",
       "1                     Small Gods  Terry Pratchett  1992\n",
       "2         Perdido Street Station   China Miéville  2000\n",
       "3                          Thud!  Terry Pratchett  2005\n",
       "4             The Spellman Files        Lisa Lutz  2007"
      ]
     },
     "execution_count": 30,
     "metadata": {},
     "output_type": "execute_result"
    }
   ],
   "source": [
    "# From the book table, select and print all columns in the order of publication.\n",
    "\n",
    "cur.execute('select title, author, year from books order by year')\n",
    "\n",
    "\n",
    "df = pd.DataFrame(cur.fetchall(), columns=['title','author','year'])\n",
    "df"
   ]
  },
  {
   "cell_type": "markdown",
   "id": "206bc94f",
   "metadata": {},
   "source": [
    "### QUESTION 8"
   ]
  },
  {
   "cell_type": "code",
   "execution_count": 35,
   "id": "fabd78e1",
   "metadata": {},
   "outputs": [
    {
     "name": "stdout",
     "output_type": "stream",
     "text": [
      "Perdido Street Station, China Miéville, 2000\n",
      "Small Gods, Terry Pratchett, 1992\n",
      "The Spellman Files, Lisa Lutz, 2007\n",
      "The Weirdstone of Brisingamen, Alan Garner, 1960\n",
      "Thud!, Terry Pratchett, 2005\n"
     ]
    }
   ],
   "source": [
    "# Use the sqlalchemy module to connect to the sqlite3 database books.db that you just made in exercise 6.\n",
    "\n",
    "import sqlalchemy\n",
    "\n",
    "connect = sqlalchemy.create_engine(\"sqlite:///books.db\")\n",
    "\n",
    "for row in connect.execute('select * from books order by title'):\n",
    "    print(*row, sep=', ')"
   ]
  },
  {
   "cell_type": "markdown",
   "id": "025e9f9c",
   "metadata": {},
   "source": [
    "### QUESTION 9"
   ]
  },
  {
   "cell_type": "code",
   "execution_count": 36,
   "id": "c7578034",
   "metadata": {},
   "outputs": [
    {
     "name": "stdout",
     "output_type": "stream",
     "text": [
      "Collecting redis\n",
      "  Downloading redis-4.3.4-py3-none-any.whl (246 kB)\n",
      "Collecting deprecated>=1.2.3\n",
      "  Downloading Deprecated-1.2.13-py2.py3-none-any.whl (9.6 kB)\n",
      "Requirement already satisfied: packaging>=20.4 in c:\\users\\gaurav\\anaconda3\\lib\\site-packages (from redis) (21.3)\n",
      "Collecting async-timeout>=4.0.2\n",
      "  Downloading async_timeout-4.0.2-py3-none-any.whl (5.8 kB)\n",
      "Requirement already satisfied: wrapt<2,>=1.10 in c:\\users\\gaurav\\anaconda3\\lib\\site-packages (from deprecated>=1.2.3->redis) (1.12.1)\n",
      "Requirement already satisfied: pyparsing!=3.0.5,>=2.0.2 in c:\\users\\gaurav\\anaconda3\\lib\\site-packages (from packaging>=20.4->redis) (3.0.4)\n",
      "Installing collected packages: deprecated, async-timeout, redis\n",
      "  Attempting uninstall: async-timeout\n",
      "    Found existing installation: async-timeout 4.0.1\n",
      "    Uninstalling async-timeout-4.0.1:\n",
      "      Successfully uninstalled async-timeout-4.0.1\n",
      "Successfully installed async-timeout-4.0.2 deprecated-1.2.13 redis-4.3.4\n"
     ]
    }
   ],
   "source": [
    "# Install the Redis server and the Python redis library (pip install redis) on your computer. \n",
    "# Create a Redis hash called test with the fields count (1) and name ('Fester Bestertester'). \n",
    "# Print all the fields for test.\n",
    "\n",
    "\n",
    "!pip install redis"
   ]
  },
  {
   "cell_type": "code",
   "execution_count": 27,
   "id": "b610ffd1",
   "metadata": {},
   "outputs": [],
   "source": [
    "import redis\n",
    "r = redis.Redis(host='localhost', port=6379, db=0, password=None, socket_timeout=None, socket_connect_timeout=None, socket_keepalive=None, socket_keepalive_options=None, connection_pool=None, unix_socket_path=None, encoding='utf-8', encoding_errors='strict', charset=None, errors=None, decode_responses=True, retry_on_timeout=False, retry_on_error=None, ssl=False, ssl_keyfile=None, ssl_certfile=None, ssl_cert_reqs='required', ssl_ca_certs=None, ssl_ca_path=None, ssl_ca_data=None, ssl_check_hostname=False, ssl_password=None, ssl_validate_ocsp=False, ssl_validate_ocsp_stapled=False, ssl_ocsp_context=None, ssl_ocsp_expected_cert=None, max_connections=None, single_connection_client=False, health_check_interval=0, client_name=None, username=None, retry=None, redis_connect_func=None)"
   ]
  },
  {
   "cell_type": "code",
   "execution_count": 24,
   "id": "ca3f773b",
   "metadata": {
    "scrolled": true
   },
   "outputs": [
    {
     "name": "stderr",
     "output_type": "stream",
     "text": [
      "C:\\Users\\Gaurav\\AppData\\Local\\Temp\\ipykernel_7600\\1024986923.py:2: DeprecationWarning: Redis.hmset() is deprecated. Use Redis.hset() instead.\n",
      "  r.hmset('test', {'count':1, 'name':'Fester Bestertester'})\n"
     ]
    },
    {
     "ename": "ConnectionError",
     "evalue": "Error 10061 connecting to localhost:6379. No connection could be made because the target machine actively refused it.",
     "output_type": "error",
     "traceback": [
      "\u001b[1;31m---------------------------------------------------------------------------\u001b[0m",
      "\u001b[1;31mConnectionRefusedError\u001b[0m                    Traceback (most recent call last)",
      "File \u001b[1;32m~\\anaconda3\\lib\\site-packages\\redis\\connection.py:611\u001b[0m, in \u001b[0;36mConnection.connect\u001b[1;34m(self)\u001b[0m\n\u001b[0;32m    610\u001b[0m \u001b[38;5;28;01mtry\u001b[39;00m:\n\u001b[1;32m--> 611\u001b[0m     sock \u001b[38;5;241m=\u001b[39m \u001b[38;5;28;43mself\u001b[39;49m\u001b[38;5;241;43m.\u001b[39;49m\u001b[43mretry\u001b[49m\u001b[38;5;241;43m.\u001b[39;49m\u001b[43mcall_with_retry\u001b[49m\u001b[43m(\u001b[49m\n\u001b[0;32m    612\u001b[0m \u001b[43m        \u001b[49m\u001b[38;5;28;43;01mlambda\u001b[39;49;00m\u001b[43m:\u001b[49m\u001b[43m \u001b[49m\u001b[38;5;28;43mself\u001b[39;49m\u001b[38;5;241;43m.\u001b[39;49m\u001b[43m_connect\u001b[49m\u001b[43m(\u001b[49m\u001b[43m)\u001b[49m\u001b[43m,\u001b[49m\u001b[43m \u001b[49m\u001b[38;5;28;43;01mlambda\u001b[39;49;00m\u001b[43m \u001b[49m\u001b[43merror\u001b[49m\u001b[43m:\u001b[49m\u001b[43m \u001b[49m\u001b[38;5;28;43mself\u001b[39;49m\u001b[38;5;241;43m.\u001b[39;49m\u001b[43mdisconnect\u001b[49m\u001b[43m(\u001b[49m\u001b[43merror\u001b[49m\u001b[43m)\u001b[49m\n\u001b[0;32m    613\u001b[0m \u001b[43m    \u001b[49m\u001b[43m)\u001b[49m\n\u001b[0;32m    614\u001b[0m \u001b[38;5;28;01mexcept\u001b[39;00m socket\u001b[38;5;241m.\u001b[39mtimeout:\n",
      "File \u001b[1;32m~\\anaconda3\\lib\\site-packages\\redis\\retry.py:46\u001b[0m, in \u001b[0;36mRetry.call_with_retry\u001b[1;34m(self, do, fail)\u001b[0m\n\u001b[0;32m     45\u001b[0m \u001b[38;5;28;01mtry\u001b[39;00m:\n\u001b[1;32m---> 46\u001b[0m     \u001b[38;5;28;01mreturn\u001b[39;00m \u001b[43mdo\u001b[49m\u001b[43m(\u001b[49m\u001b[43m)\u001b[49m\n\u001b[0;32m     47\u001b[0m \u001b[38;5;28;01mexcept\u001b[39;00m \u001b[38;5;28mself\u001b[39m\u001b[38;5;241m.\u001b[39m_supported_errors \u001b[38;5;28;01mas\u001b[39;00m error:\n",
      "File \u001b[1;32m~\\anaconda3\\lib\\site-packages\\redis\\connection.py:612\u001b[0m, in \u001b[0;36mConnection.connect.<locals>.<lambda>\u001b[1;34m()\u001b[0m\n\u001b[0;32m    610\u001b[0m \u001b[38;5;28;01mtry\u001b[39;00m:\n\u001b[0;32m    611\u001b[0m     sock \u001b[38;5;241m=\u001b[39m \u001b[38;5;28mself\u001b[39m\u001b[38;5;241m.\u001b[39mretry\u001b[38;5;241m.\u001b[39mcall_with_retry(\n\u001b[1;32m--> 612\u001b[0m         \u001b[38;5;28;01mlambda\u001b[39;00m: \u001b[38;5;28;43mself\u001b[39;49m\u001b[38;5;241;43m.\u001b[39;49m\u001b[43m_connect\u001b[49m\u001b[43m(\u001b[49m\u001b[43m)\u001b[49m, \u001b[38;5;28;01mlambda\u001b[39;00m error: \u001b[38;5;28mself\u001b[39m\u001b[38;5;241m.\u001b[39mdisconnect(error)\n\u001b[0;32m    613\u001b[0m     )\n\u001b[0;32m    614\u001b[0m \u001b[38;5;28;01mexcept\u001b[39;00m socket\u001b[38;5;241m.\u001b[39mtimeout:\n",
      "File \u001b[1;32m~\\anaconda3\\lib\\site-packages\\redis\\connection.py:677\u001b[0m, in \u001b[0;36mConnection._connect\u001b[1;34m(self)\u001b[0m\n\u001b[0;32m    676\u001b[0m \u001b[38;5;28;01mif\u001b[39;00m err \u001b[38;5;129;01mis\u001b[39;00m \u001b[38;5;129;01mnot\u001b[39;00m \u001b[38;5;28;01mNone\u001b[39;00m:\n\u001b[1;32m--> 677\u001b[0m     \u001b[38;5;28;01mraise\u001b[39;00m err\n\u001b[0;32m    678\u001b[0m \u001b[38;5;28;01mraise\u001b[39;00m \u001b[38;5;167;01mOSError\u001b[39;00m(\u001b[38;5;124m\"\u001b[39m\u001b[38;5;124msocket.getaddrinfo returned an empty list\u001b[39m\u001b[38;5;124m\"\u001b[39m)\n",
      "File \u001b[1;32m~\\anaconda3\\lib\\site-packages\\redis\\connection.py:665\u001b[0m, in \u001b[0;36mConnection._connect\u001b[1;34m(self)\u001b[0m\n\u001b[0;32m    664\u001b[0m \u001b[38;5;66;03m# connect\u001b[39;00m\n\u001b[1;32m--> 665\u001b[0m \u001b[43msock\u001b[49m\u001b[38;5;241;43m.\u001b[39;49m\u001b[43mconnect\u001b[49m\u001b[43m(\u001b[49m\u001b[43msocket_address\u001b[49m\u001b[43m)\u001b[49m\n\u001b[0;32m    667\u001b[0m \u001b[38;5;66;03m# set the socket_timeout now that we're connected\u001b[39;00m\n",
      "\u001b[1;31mConnectionRefusedError\u001b[0m: [WinError 10061] No connection could be made because the target machine actively refused it",
      "\nDuring handling of the above exception, another exception occurred:\n",
      "\u001b[1;31mConnectionError\u001b[0m                           Traceback (most recent call last)",
      "Input \u001b[1;32mIn [24]\u001b[0m, in \u001b[0;36m<cell line: 1>\u001b[1;34m()\u001b[0m\n\u001b[0;32m      1\u001b[0m \u001b[38;5;28;01mtry\u001b[39;00m:\n\u001b[1;32m----> 2\u001b[0m     \u001b[43mr\u001b[49m\u001b[38;5;241;43m.\u001b[39;49m\u001b[43mhmset\u001b[49m\u001b[43m(\u001b[49m\u001b[38;5;124;43m'\u001b[39;49m\u001b[38;5;124;43mtest\u001b[39;49m\u001b[38;5;124;43m'\u001b[39;49m\u001b[43m,\u001b[49m\u001b[43m \u001b[49m\u001b[43m{\u001b[49m\u001b[38;5;124;43m'\u001b[39;49m\u001b[38;5;124;43mcount\u001b[39;49m\u001b[38;5;124;43m'\u001b[39;49m\u001b[43m:\u001b[49m\u001b[38;5;241;43m1\u001b[39;49m\u001b[43m,\u001b[49m\u001b[43m \u001b[49m\u001b[38;5;124;43m'\u001b[39;49m\u001b[38;5;124;43mname\u001b[39;49m\u001b[38;5;124;43m'\u001b[39;49m\u001b[43m:\u001b[49m\u001b[38;5;124;43m'\u001b[39;49m\u001b[38;5;124;43mFester Bestertester\u001b[39;49m\u001b[38;5;124;43m'\u001b[39;49m\u001b[43m}\u001b[49m\u001b[43m)\u001b[49m\n\u001b[0;32m      3\u001b[0m     r\u001b[38;5;241m.\u001b[39mhgetall(\u001b[38;5;124m'\u001b[39m\u001b[38;5;124mtest\u001b[39m\u001b[38;5;124m'\u001b[39m)\n\u001b[0;32m      4\u001b[0m \u001b[38;5;28;01mexcept\u001b[39;00m \u001b[38;5;167;01mConnectionRefusedError\u001b[39;00m \u001b[38;5;28;01mas\u001b[39;00m cre:\n",
      "File \u001b[1;32m~\\anaconda3\\lib\\site-packages\\redis\\commands\\core.py:4870\u001b[0m, in \u001b[0;36mHashCommands.hmset\u001b[1;34m(self, name, mapping)\u001b[0m\n\u001b[0;32m   4868\u001b[0m \u001b[38;5;28;01mfor\u001b[39;00m pair \u001b[38;5;129;01min\u001b[39;00m mapping\u001b[38;5;241m.\u001b[39mitems():\n\u001b[0;32m   4869\u001b[0m     items\u001b[38;5;241m.\u001b[39mextend(pair)\n\u001b[1;32m-> 4870\u001b[0m \u001b[38;5;28;01mreturn\u001b[39;00m \u001b[38;5;28;43mself\u001b[39;49m\u001b[38;5;241;43m.\u001b[39;49m\u001b[43mexecute_command\u001b[49m\u001b[43m(\u001b[49m\u001b[38;5;124;43m\"\u001b[39;49m\u001b[38;5;124;43mHMSET\u001b[39;49m\u001b[38;5;124;43m\"\u001b[39;49m\u001b[43m,\u001b[49m\u001b[43m \u001b[49m\u001b[43mname\u001b[49m\u001b[43m,\u001b[49m\u001b[43m \u001b[49m\u001b[38;5;241;43m*\u001b[39;49m\u001b[43mitems\u001b[49m\u001b[43m)\u001b[49m\n",
      "File \u001b[1;32m~\\anaconda3\\lib\\site-packages\\redis\\client.py:1235\u001b[0m, in \u001b[0;36mRedis.execute_command\u001b[1;34m(self, *args, **options)\u001b[0m\n\u001b[0;32m   1233\u001b[0m pool \u001b[38;5;241m=\u001b[39m \u001b[38;5;28mself\u001b[39m\u001b[38;5;241m.\u001b[39mconnection_pool\n\u001b[0;32m   1234\u001b[0m command_name \u001b[38;5;241m=\u001b[39m args[\u001b[38;5;241m0\u001b[39m]\n\u001b[1;32m-> 1235\u001b[0m conn \u001b[38;5;241m=\u001b[39m \u001b[38;5;28mself\u001b[39m\u001b[38;5;241m.\u001b[39mconnection \u001b[38;5;129;01mor\u001b[39;00m pool\u001b[38;5;241m.\u001b[39mget_connection(command_name, \u001b[38;5;241m*\u001b[39m\u001b[38;5;241m*\u001b[39moptions)\n\u001b[0;32m   1237\u001b[0m \u001b[38;5;28;01mtry\u001b[39;00m:\n\u001b[0;32m   1238\u001b[0m     \u001b[38;5;28;01mreturn\u001b[39;00m conn\u001b[38;5;241m.\u001b[39mretry\u001b[38;5;241m.\u001b[39mcall_with_retry(\n\u001b[0;32m   1239\u001b[0m         \u001b[38;5;28;01mlambda\u001b[39;00m: \u001b[38;5;28mself\u001b[39m\u001b[38;5;241m.\u001b[39m_send_command_parse_response(\n\u001b[0;32m   1240\u001b[0m             conn, command_name, \u001b[38;5;241m*\u001b[39margs, \u001b[38;5;241m*\u001b[39m\u001b[38;5;241m*\u001b[39moptions\n\u001b[0;32m   1241\u001b[0m         ),\n\u001b[0;32m   1242\u001b[0m         \u001b[38;5;28;01mlambda\u001b[39;00m error: \u001b[38;5;28mself\u001b[39m\u001b[38;5;241m.\u001b[39m_disconnect_raise(conn, error),\n\u001b[0;32m   1243\u001b[0m     )\n",
      "File \u001b[1;32m~\\anaconda3\\lib\\site-packages\\redis\\connection.py:1387\u001b[0m, in \u001b[0;36mConnectionPool.get_connection\u001b[1;34m(self, command_name, *keys, **options)\u001b[0m\n\u001b[0;32m   1383\u001b[0m     \u001b[38;5;28mself\u001b[39m\u001b[38;5;241m.\u001b[39m_in_use_connections\u001b[38;5;241m.\u001b[39madd(connection)\n\u001b[0;32m   1385\u001b[0m \u001b[38;5;28;01mtry\u001b[39;00m:\n\u001b[0;32m   1386\u001b[0m     \u001b[38;5;66;03m# ensure this connection is connected to Redis\u001b[39;00m\n\u001b[1;32m-> 1387\u001b[0m     \u001b[43mconnection\u001b[49m\u001b[38;5;241;43m.\u001b[39;49m\u001b[43mconnect\u001b[49m\u001b[43m(\u001b[49m\u001b[43m)\u001b[49m\n\u001b[0;32m   1388\u001b[0m     \u001b[38;5;66;03m# connections that the pool provides should be ready to send\u001b[39;00m\n\u001b[0;32m   1389\u001b[0m     \u001b[38;5;66;03m# a command. if not, the connection was either returned to the\u001b[39;00m\n\u001b[0;32m   1390\u001b[0m     \u001b[38;5;66;03m# pool before all data has been read or the socket has been\u001b[39;00m\n\u001b[0;32m   1391\u001b[0m     \u001b[38;5;66;03m# closed. either way, reconnect and verify everything is good.\u001b[39;00m\n\u001b[0;32m   1392\u001b[0m     \u001b[38;5;28;01mtry\u001b[39;00m:\n",
      "File \u001b[1;32m~\\anaconda3\\lib\\site-packages\\redis\\connection.py:617\u001b[0m, in \u001b[0;36mConnection.connect\u001b[1;34m(self)\u001b[0m\n\u001b[0;32m    615\u001b[0m     \u001b[38;5;28;01mraise\u001b[39;00m \u001b[38;5;167;01mTimeoutError\u001b[39;00m(\u001b[38;5;124m\"\u001b[39m\u001b[38;5;124mTimeout connecting to server\u001b[39m\u001b[38;5;124m\"\u001b[39m)\n\u001b[0;32m    616\u001b[0m \u001b[38;5;28;01mexcept\u001b[39;00m \u001b[38;5;167;01mOSError\u001b[39;00m \u001b[38;5;28;01mas\u001b[39;00m e:\n\u001b[1;32m--> 617\u001b[0m     \u001b[38;5;28;01mraise\u001b[39;00m \u001b[38;5;167;01mConnectionError\u001b[39;00m(\u001b[38;5;28mself\u001b[39m\u001b[38;5;241m.\u001b[39m_error_message(e))\n\u001b[0;32m    619\u001b[0m \u001b[38;5;28mself\u001b[39m\u001b[38;5;241m.\u001b[39m_sock \u001b[38;5;241m=\u001b[39m sock\n\u001b[0;32m    620\u001b[0m \u001b[38;5;28;01mtry\u001b[39;00m:\n",
      "\u001b[1;31mConnectionError\u001b[0m: Error 10061 connecting to localhost:6379. No connection could be made because the target machine actively refused it."
     ]
    }
   ],
   "source": [
    "\n",
    "try:\n",
    "    r.hmset('test', {'count':1, 'name':'Fester Bestertester'})\n",
    "    r.hgetall('test')\n",
    "except ConnectionRefusedError as cre:\n",
    "    print(cre)\n",
    "except ConnectionError as ce:\n",
    "    print(ce)\n",
    "except KeyboardInterrupt as k:\n",
    "    print('interrupting kernal')"
   ]
  },
  {
   "cell_type": "markdown",
   "id": "8bbc2449",
   "metadata": {},
   "source": [
    "#### Microsoft had a Windows port of redis, which is now deprecated. can not seem to connect to redis running server. The following code will run fine on linux.\n"
   ]
  },
  {
   "cell_type": "code",
   "execution_count": null,
   "id": "739abb4c",
   "metadata": {},
   "outputs": [],
   "source": [
    "r.hset('test', {'count':1, 'name':'Fester Bestertester'})\n",
    "r.hgetall('test')"
   ]
  },
  {
   "cell_type": "markdown",
   "id": "50e2179c",
   "metadata": {},
   "source": [
    "### QUESTION 10"
   ]
  },
  {
   "cell_type": "code",
   "execution_count": null,
   "id": "760a0a45",
   "metadata": {},
   "outputs": [],
   "source": [
    "r.hget('test', 'count')"
   ]
  },
  {
   "cell_type": "code",
   "execution_count": null,
   "id": "e51dc1af",
   "metadata": {},
   "outputs": [],
   "source": [
    "r.hincrby('test', 'count', 3)"
   ]
  }
 ],
 "metadata": {
  "kernelspec": {
   "display_name": "Python 3 (ipykernel)",
   "language": "python",
   "name": "python3"
  },
  "language_info": {
   "codemirror_mode": {
    "name": "ipython",
    "version": 3
   },
   "file_extension": ".py",
   "mimetype": "text/x-python",
   "name": "python",
   "nbconvert_exporter": "python",
   "pygments_lexer": "ipython3",
   "version": "3.9.12"
  }
 },
 "nbformat": 4,
 "nbformat_minor": 5
}
