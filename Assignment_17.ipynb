{
 "cells": [
  {
   "cell_type": "markdown",
   "id": "2d1f3f8c",
   "metadata": {},
   "source": [
    "# ASSIGNMENT 17"
   ]
  },
  {
   "cell_type": "markdown",
   "id": "d6c19c9d",
   "metadata": {},
   "source": [
    "### QUESTION 1"
   ]
  },
  {
   "cell_type": "code",
   "execution_count": 1,
   "id": "84172faa",
   "metadata": {},
   "outputs": [
    {
     "name": "stdout",
     "output_type": "stream",
     "text": [
      "just right\n"
     ]
    }
   ],
   "source": [
    "# Assign the value 7 to the variable guess_me. Then, write the conditional tests (if, else, and elif) to\n",
    "# print the string 'too low' if guess_me is less than 7, 'too high' if greater than 7, and 'just right' if equal to 7.\n",
    "\n",
    "guess_me = 7\n",
    "\n",
    "if guess_me < 7:\n",
    "    print(\"too low\")\n",
    "elif guess_me > 7:\n",
    "    print(\"too high\")\n",
    "else:\n",
    "    print('just right')"
   ]
  },
  {
   "cell_type": "markdown",
   "id": "03f8ea7e",
   "metadata": {},
   "source": [
    "### QUESTION 2"
   ]
  },
  {
   "cell_type": "code",
   "execution_count": 4,
   "id": "2489a33c",
   "metadata": {},
   "outputs": [
    {
     "name": "stdout",
     "output_type": "stream",
     "text": [
      "too low\n",
      "too low\n",
      "too low\n",
      "too low\n",
      "too low\n",
      "too low\n",
      "found it!\n"
     ]
    }
   ],
   "source": [
    "# 2. Assign the value 7 to the variable guess_me and the value 1 to the variable start. Write a while\n",
    "# loop that compares start with guess_me. Print too low if start is less than guess me. If start equals\n",
    "# guess_me, print 'found it!' and exit the loop. If start is greater than guess_me, print 'oops' and exit\n",
    "# the loop. Increment start at the end of the loop.\n",
    "\n",
    "\n",
    "guess_me = 7\n",
    "start = 1\n",
    "\n",
    "while True:\n",
    "    if start < guess_me:\n",
    "        print(\"too low\")\n",
    "    elif start == guess_me:\n",
    "        print('found it!')\n",
    "        break\n",
    "    else :\n",
    "        print('oops')\n",
    "        break\n",
    "    \n",
    "    start += 1\n",
    "    \n",
    "    "
   ]
  },
  {
   "cell_type": "markdown",
   "id": "c593001e",
   "metadata": {},
   "source": [
    "### QUESTION 3"
   ]
  },
  {
   "cell_type": "code",
   "execution_count": 5,
   "id": "897637af",
   "metadata": {},
   "outputs": [
    {
     "name": "stdout",
     "output_type": "stream",
     "text": [
      "3\n",
      "2\n",
      "1\n",
      "0\n"
     ]
    }
   ],
   "source": [
    "# Print the following values of the list [3, 2, 1, 0] using a for loop.\n",
    "\n",
    "List = [3, 2, 1, 0]\n",
    "for i in List:\n",
    "    print(i)"
   ]
  },
  {
   "cell_type": "markdown",
   "id": "8ad2a8ba",
   "metadata": {},
   "source": [
    "### QUESTION 4"
   ]
  },
  {
   "cell_type": "code",
   "execution_count": 7,
   "id": "56214928",
   "metadata": {},
   "outputs": [
    {
     "name": "stdout",
     "output_type": "stream",
     "text": [
      "[0, 2, 4, 6, 8]\n"
     ]
    }
   ],
   "source": [
    "# Use a list comprehension to make a list of the even numbers in range(10)\n",
    "\n",
    "even = [i for i in range(10) if (i%2==0)]\n",
    "print(even)"
   ]
  },
  {
   "cell_type": "markdown",
   "id": "5fab79aa",
   "metadata": {},
   "source": [
    "### QUESTION 5"
   ]
  },
  {
   "cell_type": "code",
   "execution_count": 11,
   "id": "0839677e",
   "metadata": {},
   "outputs": [
    {
     "name": "stdout",
     "output_type": "stream",
     "text": [
      "{0: 0, 1: 1, 2: 4, 3: 9, 4: 16, 5: 25, 6: 36, 7: 49, 8: 64, 9: 81}\n"
     ]
    }
   ],
   "source": [
    "# Use a dictionary comprehension to create the dictionary squares. \n",
    "# Use range(10) to return the keys, and use the square of each key as its value.\n",
    "\n",
    "from pprint import pprint\n",
    "\n",
    "square_dict = {i:i**2 for i in range(10) }\n",
    "pprint(square_dict)"
   ]
  },
  {
   "cell_type": "markdown",
   "id": "15a17745",
   "metadata": {},
   "source": [
    "### QUESTION 6"
   ]
  },
  {
   "cell_type": "code",
   "execution_count": 16,
   "id": "b2513bb7",
   "metadata": {},
   "outputs": [
    {
     "name": "stdout",
     "output_type": "stream",
     "text": [
      "<class 'set'>\n",
      "{1, 3, 5, 7, 9}\n"
     ]
    }
   ],
   "source": [
    "# Construct the set odd from the odd numbers in the range using a set comprehension (10).\n",
    "\n",
    "odd = {i for i in range(10) if i % 2 != 0}\n",
    "print(type(odd))\n",
    "print(odd)"
   ]
  },
  {
   "cell_type": "markdown",
   "id": "56199fb5",
   "metadata": {},
   "source": [
    "### QUESTION 7"
   ]
  },
  {
   "cell_type": "code",
   "execution_count": 19,
   "id": "b5a47e63",
   "metadata": {},
   "outputs": [
    {
     "name": "stdout",
     "output_type": "stream",
     "text": [
      "Got 0\n",
      "Got 1\n",
      "Got 2\n",
      "Got 3\n",
      "Got 4\n",
      "Got 5\n",
      "Got 6\n",
      "Got 7\n",
      "Got 8\n",
      "Got 9\n"
     ]
    }
   ],
   "source": [
    "# Use a generator comprehension to return the string 'Got ' and a number for the numbers in\n",
    "# range(10). Iterate through this by using a for loop.\n",
    "\n",
    "got = ('Got ' + str(i) for i in range(10))\n",
    "for i in got:\n",
    "    print(i)"
   ]
  },
  {
   "cell_type": "markdown",
   "id": "7c216ac1",
   "metadata": {},
   "source": [
    "### QUESTION 8"
   ]
  },
  {
   "cell_type": "code",
   "execution_count": 20,
   "id": "d6cf02e5",
   "metadata": {},
   "outputs": [
    {
     "name": "stdout",
     "output_type": "stream",
     "text": [
      "['Harry', 'Ron', 'Hermione']\n"
     ]
    }
   ],
   "source": [
    "# Define a function called good that returns the list ['Harry', 'Ron', 'Hermione'].\n",
    "\n",
    "def good():\n",
    "    return ['Harry', 'Ron', 'Hermione']\n",
    "\n",
    "print(good())"
   ]
  },
  {
   "cell_type": "markdown",
   "id": "66306528",
   "metadata": {},
   "source": [
    "### QUESTION 9"
   ]
  },
  {
   "cell_type": "code",
   "execution_count": 24,
   "id": "e8dbc23b",
   "metadata": {},
   "outputs": [
    {
     "name": "stdout",
     "output_type": "stream",
     "text": [
      "Third Value: 5\n"
     ]
    }
   ],
   "source": [
    "# Define a generator function called get_odds that returns the odd numbers from range(10). \n",
    "# Use a for loop to find and print the third value returned.\n",
    "\n",
    "def get_odds():\n",
    "    for i in range(10):\n",
    "        if i%2 != 0:\n",
    "            yield i\n",
    "\n",
    "for idx, val in enumerate(get_odds()):\n",
    "    if idx == 2:\n",
    "        print('Third Value:', val)"
   ]
  },
  {
   "cell_type": "markdown",
   "id": "de9d5236",
   "metadata": {},
   "source": [
    "### QUESTION 10"
   ]
  },
  {
   "cell_type": "code",
   "execution_count": 29,
   "id": "a6847260",
   "metadata": {},
   "outputs": [
    {
     "name": "stdout",
     "output_type": "stream",
     "text": [
      "Caught an oops\n"
     ]
    }
   ],
   "source": [
    "# Define an exception called OopsException. Raise this exception to see what happens. \n",
    "# Then write the code to catch this exception and print 'Caught an oops'.\n",
    "\n",
    "\n",
    "class OopsException(Exception):\n",
    "    pass\n",
    "\n",
    "\n",
    "def catch_ex(num):\n",
    "    if type(num) != int:\n",
    "        raise OopsException(num)\n",
    "\n",
    "        \n",
    "# catch_ex('hi')\n",
    "try:\n",
    "    catch_ex('hi')\n",
    "except OopsException:\n",
    "    print('Caught an oops')"
   ]
  },
  {
   "cell_type": "markdown",
   "id": "fb907983",
   "metadata": {},
   "source": [
    "### QUESTION 11"
   ]
  },
  {
   "cell_type": "code",
   "execution_count": 32,
   "id": "40520c92",
   "metadata": {},
   "outputs": [
    {
     "name": "stdout",
     "output_type": "stream",
     "text": [
      "<class 'dict'>\n",
      "{'Creature of Habit': 'A nun turns into a monster', 'Crewel Fate': 'A haunted yarn shop'}\n"
     ]
    }
   ],
   "source": [
    "# Use zip() to make a dictionary called movies that pairs these lists: titles = ['Creature of Habit','Crewel Fate'] \n",
    "# and plots = ['A nun turns into a monster', 'A haunted yarn shop'].\n",
    "\n",
    "\n",
    "titles = ['Creature of Habit','Crewel Fate'] \n",
    "plots = ['A nun turns into a monster', 'A haunted yarn shop']\n",
    "\n",
    "dictt ={key:val for key, val in zip(titles, plots)}\n",
    "print(type(dictt))\n",
    "print(dictt)"
   ]
  }
 ],
 "metadata": {
  "kernelspec": {
   "display_name": "Python 3 (ipykernel)",
   "language": "python",
   "name": "python3"
  },
  "language_info": {
   "codemirror_mode": {
    "name": "ipython",
    "version": 3
   },
   "file_extension": ".py",
   "mimetype": "text/x-python",
   "name": "python",
   "nbconvert_exporter": "python",
   "pygments_lexer": "ipython3",
   "version": "3.9.12"
  }
 },
 "nbformat": 4,
 "nbformat_minor": 5
}
