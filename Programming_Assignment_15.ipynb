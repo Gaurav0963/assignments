{
 "cells": [
  {
   "cell_type": "markdown",
   "id": "19e2a3f2",
   "metadata": {},
   "source": [
    "# PROGRAMMING ASSIGNMENT 15"
   ]
  },
  {
   "cell_type": "markdown",
   "id": "9d19a6bc",
   "metadata": {},
   "source": [
    "### Question 1:\n",
    "Please write a program using generator to print the numbers which can be divisible by 5 and\n",
    "7 between 0 and n in comma separated form while n is input by console."
   ]
  },
  {
   "cell_type": "code",
   "execution_count": 1,
   "id": "877715d9",
   "metadata": {},
   "outputs": [
    {
     "name": "stdout",
     "output_type": "stream",
     "text": [
      "Enter Number: 100\n",
      "\n",
      "Number Divisible by 5 and 7: 0, 35, 70, \n",
      "\n",
      "Enter 'y' to Continue, ANY OTHER key to exit: n\n",
      "\n",
      "\t\t\tTHANKYOU\n"
     ]
    }
   ],
   "source": [
    "def divideby(num):\n",
    "    for i in range(num+1):\n",
    "        if i%5==0 and i%7==0:\n",
    "            yield i\n",
    "            \n",
    "\n",
    "if __name__ == '__main__':\n",
    "    while True:\n",
    "        try:\n",
    "            n = int(input('Enter Number: '))\n",
    "            print('\\nNumber Divisible by 5 and 7: ', end='')\n",
    "    \n",
    "            for i in divideby(n):\n",
    "                print(i, end=', ')\n",
    "            \n",
    "        except ValueError as v:\n",
    "            print(v)\n",
    "        \n",
    "        ch = input(\"\\n\\nEnter 'y' to Continue, ANY OTHER key to exit: \" )\n",
    "        if ch == 'y' or ch =='Y':\n",
    "            continue\n",
    "        else:\n",
    "            print('\\n\\t\\t\\tTHANKYOU')\n",
    "            break            "
   ]
  },
  {
   "cell_type": "markdown",
   "id": "879be91f",
   "metadata": {},
   "source": [
    "### Question 2:\n",
    "Please write a program using generator to print the even numbers between 0 and n in comma\n",
    "separated form while n is input by console."
   ]
  },
  {
   "cell_type": "code",
   "execution_count": 2,
   "id": "603fab69",
   "metadata": {},
   "outputs": [
    {
     "name": "stdout",
     "output_type": "stream",
     "text": [
      "Enter Number: 10\n",
      "\n",
      "Even Numbers: \n",
      "0, 2, 4, 6, 8, 10, \n",
      "\n",
      "Enter 'y' to Continue, ANY OTHER key to exit: n\n",
      "\n",
      "\t\t\tTHANKYOU\n"
     ]
    }
   ],
   "source": [
    "def even(number):\n",
    "    for num in range(number+1):\n",
    "        if num%2 == 0:\n",
    "            yield num\n",
    "    \n",
    "    \n",
    "if __name__ == '__main__':\n",
    "    while True:\n",
    "        try:\n",
    "            n = int(input('Enter Number: '))\n",
    "            print('\\nEven Numbers: ')\n",
    "    \n",
    "            for i in even(n):\n",
    "                print(i, end=', ')\n",
    "            \n",
    "        except ValueError as v:\n",
    "            print(v)\n",
    "        \n",
    "        ch = input(\"\\n\\nEnter 'y' to Continue, ANY OTHER key to exit: \" )\n",
    "        if ch == 'y' or ch =='Y':\n",
    "            continue\n",
    "        else:\n",
    "            print('\\n\\t\\t\\tTHANKYOU')\n",
    "            break     "
   ]
  },
  {
   "cell_type": "markdown",
   "id": "da96cfce",
   "metadata": {},
   "source": [
    "### Question 3:\n",
    "Please write a program using list comprehension to print the Fibonacci Sequence in comma\n",
    "separated form with a given n input by console."
   ]
  },
  {
   "cell_type": "code",
   "execution_count": 3,
   "id": "44498c22",
   "metadata": {},
   "outputs": [
    {
     "name": "stdout",
     "output_type": "stream",
     "text": [
      "Enter Number: 7\n",
      "\n",
      "Fibonacci Sequence: \n",
      "0, 1, 1, 2, 3, 5, 8, 13, \n",
      "\n",
      "Enter 'y' to Continue, ANY OTHER key to exit: n\n",
      "\n",
      "\t\t\tTHANKYOU\n"
     ]
    }
   ],
   "source": [
    "\n",
    "\n",
    "def fibonacci(num):\n",
    "    fib=[0,1]  \n",
    "    [fib.append(fib[-2] + fib[-1]) for n in range(num-1)]\n",
    "    return fib\n",
    "        \n",
    "        \n",
    "if __name__ == '__main__':\n",
    "    while True:\n",
    "        try:\n",
    "            n = int(input('Enter Number: '))\n",
    "            print('\\nFibonacci Sequence: ')\n",
    "    \n",
    "            for i in fibonacci(n):\n",
    "                print(i, end=', ')\n",
    "            \n",
    "        except ValueError as v:\n",
    "            print(v)\n",
    "        \n",
    "        ch = input(\"\\n\\nEnter 'y' to Continue, ANY OTHER key to exit: \" )\n",
    "        if ch == 'y' or ch =='Y':\n",
    "            continue\n",
    "        else:\n",
    "            print('\\n\\t\\t\\tTHANKYOU')\n",
    "            break     "
   ]
  },
  {
   "cell_type": "markdown",
   "id": "1a8139e3",
   "metadata": {},
   "source": [
    "### Question 4:"
   ]
  },
  {
   "cell_type": "code",
   "execution_count": 5,
   "id": "b6a45f16",
   "metadata": {},
   "outputs": [
    {
     "name": "stdout",
     "output_type": "stream",
     "text": [
      "Enter email address: username@companyname.com\n",
      "username\n"
     ]
    }
   ],
   "source": [
    "#program to print 'username' from the email address : username@companyname.com \n",
    "\n",
    "email = list(input('Enter email address: ').split('@'))\n",
    "print(email[0])\n"
   ]
  },
  {
   "cell_type": "markdown",
   "id": "6ca3971a",
   "metadata": {},
   "source": [
    "### Question 5:\n",
    "Define a class named Shape and its subclass Square. The Square class has an init function\n",
    "which takes a length as argument. Both classes have a area function which can print the area\n",
    "of the shape where Shape's area is 0 by default."
   ]
  },
  {
   "cell_type": "code",
   "execution_count": 6,
   "id": "cf43b00e",
   "metadata": {},
   "outputs": [
    {
     "name": "stdout",
     "output_type": "stream",
     "text": [
      "Square Area:  25\n",
      "Shape Area:  0\n",
      "Default Area:  0\n"
     ]
    }
   ],
   "source": [
    "class Shape:\n",
    "    def area(self):\n",
    "        return 0\n",
    "    \n",
    "class Square(Shape):\n",
    "    def __init__(self, l=0):\n",
    "        self.length = l\n",
    "    \n",
    "    def area(self):\n",
    "        return self.length**2\n",
    "    \n",
    "sh = Shape()\n",
    "sq = Square(5)\n",
    "\n",
    "print('Square Area: ', sq.area())\n",
    "print('Shape Area: ', sh.area())\n",
    "print('Default Area: ', Square().area())"
   ]
  }
 ],
 "metadata": {
  "kernelspec": {
   "display_name": "Python 3 (ipykernel)",
   "language": "python",
   "name": "python3"
  },
  "language_info": {
   "codemirror_mode": {
    "name": "ipython",
    "version": 3
   },
   "file_extension": ".py",
   "mimetype": "text/x-python",
   "name": "python",
   "nbconvert_exporter": "python",
   "pygments_lexer": "ipython3",
   "version": "3.9.12"
  }
 },
 "nbformat": 4,
 "nbformat_minor": 5
}
