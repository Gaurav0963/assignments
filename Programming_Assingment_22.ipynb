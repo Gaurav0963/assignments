{
 "cells": [
  {
   "cell_type": "code",
   "execution_count": 2,
   "id": "92b253d9",
   "metadata": {},
   "outputs": [
    {
     "name": "stdout",
     "output_type": "stream",
     "text": [
      "\n",
      "Input Lower Limit: 1\n",
      "Input Upper Limit: 10\n",
      "Enter Divisor: 3\n",
      "\n",
      "OUTPUT: [3, 6, 9]\n",
      "\n",
      "Enter 'y' to Continue,\n",
      "Press ANY OTHER key to exit: y\n",
      "\n",
      "Input Lower Limit: 15\n",
      "Input Upper Limit: 20\n",
      "Enter Divisor: 7\n",
      "\n",
      "OUTPUT: []\n",
      "\n",
      "Enter 'y' to Continue,\n",
      "Press ANY OTHER key to exit: y\n",
      "\n",
      "Input Lower Limit: 7\n",
      "Input Upper Limit: 9\n",
      "Enter Divisor: 2\n",
      "\n",
      "OUTPUT: [8]\n",
      "\n",
      "Enter 'y' to Continue,\n",
      "Press ANY OTHER key to exit: n\n",
      "\n",
      "\t\t\t\tTHANKYOU\n"
     ]
    }
   ],
   "source": [
    "# QUESTION: 1\n",
    "# Create a function that takes three parameters where:\n",
    "#  x is the start of the range (inclusive).\n",
    "#  y is the end of the range (inclusive).\n",
    "#  n is the divisor to be checked against.\n",
    "# Return an ordered list with numbers in the range that are divisible by the third parameter n.\n",
    "# Return an empty list if there are no numbers that are divisible by n.\n",
    "\n",
    "\n",
    "def list_operation(lower, upper, divisor):\n",
    "    \n",
    "    return [item for item in range(lower, upper+1) if item % divisor == 0]\n",
    "\n",
    "\n",
    "if __name__ == '__main__':\n",
    "    \n",
    "    while True:\n",
    "        \n",
    "        try:\n",
    "            low = int(input('\\nInput Lower Limit: '))\n",
    "            up = int(input('Input Upper Limit: '))\n",
    "            div = int(input('Enter Divisor: '))\n",
    "            print('\\nOUTPUT:', list_operation(low, up, div))\n",
    "        \n",
    "        except ValueError as V:\n",
    "            print(V)\n",
    "        \n",
    "        ch = input(\"\\nEnter 'y' to Continue,\\nPress ANY OTHER key to exit: \")\n",
    "        if ch == 'y' or ch =='Y':\n",
    "            continue\n",
    "        else:\n",
    "            print('\\n\\t\\t\\t\\tTHANKYOU')\n",
    "            break\n",
    "            "
   ]
  },
  {
   "cell_type": "code",
   "execution_count": 46,
   "id": "6d0c966a",
   "metadata": {},
   "outputs": [
    {
     "name": "stdout",
     "output_type": "stream",
     "text": [
      "Enter elements (with space in between) for,\n",
      "LIST 1:1 2 3 4 5\n",
      "LIST 2:0 1 2 3 4\n"
     ]
    },
    {
     "data": {
      "text/plain": [
       "True"
      ]
     },
     "execution_count": 46,
     "metadata": {},
     "output_type": "execute_result"
    }
   ],
   "source": [
    "# QUESTION 2:\n",
    "# Create a function that takes in two lists and returns True if the second list follows the first list by one element, \n",
    "# and False otherwise. In other words, determine if the second list is the first list shifted to the right by 1.\n",
    "# NOTES:\n",
    "# Both input lists will be of the SAME LENGTH, and will have a minimum length of 2.\n",
    "# The values of the 0-indexed element in the second list and the n-1th indexed element in the first list do not matter.\n",
    "\n",
    "\n",
    "def simon_says(A, B):      #A and B are two lists\n",
    "    \n",
    "    for i in range(1, len(A)):      #using range() because both lists have SAME LENGTH, if not then USE zip()\n",
    "        if A[i-1] != B[i]:      #checking if ALL elements satisfies the condition \n",
    "            return False\n",
    "    else:\n",
    "        return True\n",
    "\n",
    "print('Enter elements (with space in between) for,')\n",
    "\n",
    "try:\n",
    "    list_A = list(map(float, input('LIST 1:').split()))\n",
    "    list_B = list(map(float, input('LIST 2:').split()))\n",
    "\n",
    "except ValueError as v:\n",
    "    print(v)\n",
    "    \n",
    "simon_says(list_A, list_B)"
   ]
  },
  {
   "cell_type": "code",
   "execution_count": 40,
   "id": "4f528dc9",
   "metadata": {},
   "outputs": [
    {
     "name": "stdout",
     "output_type": "stream",
     "text": [
      "Welcome FRIENDS to \"not so secret\" society\n",
      "\n",
      "\n",
      "Total Friends in the Group: 6\n",
      "Name of Friend 1: Chandler Bing\n",
      "Name of Friend 2: Ross Geller\n",
      "Name of Friend 3: Monica Geller\n",
      "Name of Friend 4: Rachel Green\n",
      "Name of Friend 5: Phoebe Buffay\n",
      "Name of Friend 6: Joey Tribbiani\n",
      "\n",
      "The List Of FRIENDS\n",
      " ['Chandler Bing', 'Ross Geller', 'Monica Geller', 'Rachel Green', 'Phoebe Buffay', 'Joey Tribbiani']\n"
     ]
    },
    {
     "data": {
      "text/plain": [
       "'CJMPRR'"
      ]
     },
     "execution_count": 40,
     "metadata": {},
     "output_type": "execute_result"
    }
   ],
   "source": [
    "# QUESTION 3:\n",
    "# A group of friends have decided to start a secret society. The name will be the first letter of each of their names, sorted in alphabetical order.\n",
    "# Create a function that takes in a list of names and returns the name of the secret society.\n",
    "\n",
    "\n",
    "def society_name(secret_list):\n",
    "    \n",
    "    return ''.join(sorted([val[0] for idx, val in enumerate(secret_list)]))\n",
    "\n",
    "\n",
    "if __name__ == '__main__':\n",
    "    \n",
    "    print('Welcome FRIENDS to \"not so secret\" society\\n')\n",
    "    names = []\n",
    "    try:\n",
    "        friends = int(input('\\nTotal Friends in the Group: '))\n",
    "        for fun in range(friends):\n",
    "            names.append(input('Name of Friend {}: '.format(fun+1)))\n",
    "            \n",
    "        print('\\nThe List Of FRIENDS\\n', names)\n",
    "        \n",
    "    except ValueError as V:\n",
    "        print(V)\n",
    "        \n",
    "society_name(names)            \n",
    "        "
   ]
  },
  {
   "cell_type": "code",
   "execution_count": 41,
   "id": "24802d01",
   "metadata": {},
   "outputs": [
    {
     "name": "stdout",
     "output_type": "stream",
     "text": [
      "\t\t\t\tWORD ISOGRAM\n",
      "\n",
      "Enter the Word: isogram\n",
      "OUTPUT --> True\n",
      "\n",
      "\n",
      "Enter 'y' to Continue,\n",
      "Press ANY OTHER key to exit: y\n",
      "\n",
      "Enter the Word: paSsword\n",
      "OUTPUT --> False\n",
      "\n",
      "\n",
      "Enter 'y' to Continue,\n",
      "Press ANY OTHER key to exit: y\n",
      "\n",
      "Enter the Word: consecutive\n",
      "OUTPUT --> False\n",
      "\n",
      "\n",
      "Enter 'y' to Continue,\n",
      "Press ANY OTHER key to exit: n\n",
      "\n",
      "\t\t\t\tTHANKYOU\n"
     ]
    }
   ],
   "source": [
    "# # Question 4:\n",
    "# # An isogram is a word that has no duplicate letters. Create a function that takes a string and returns either True or False depending on whether or not its an isogram\n",
    "# NOTES:\n",
    "#  Ignore letter case (should not be case sensitive).\n",
    "#  All test cases contain valid one word strings.\n",
    "\n",
    "\n",
    "from collections import Counter\n",
    "\n",
    "def is_isogram(string):\n",
    "    lower = string.lower()\n",
    "    my_dict = Counter(lower)\n",
    "    #checking if any letter is repeating by counting its occurance in the word\n",
    "    \n",
    "    for value in my_dict.values():\n",
    "        if value > 1:\n",
    "            return False\n",
    "    return True\n",
    "    \n",
    "\n",
    "if __name__ == '__main__':\n",
    "    \n",
    "    print('\\t\\t\\t\\tWORD ISOGRAM')\n",
    "    \n",
    "    while True:\n",
    "        \n",
    "        string = input(\"\\nEnter the Word: \")\n",
    "        \n",
    "        if string == '':\n",
    "            print(\"\\nString CAN'T BE EMPTY\")\n",
    "         \n",
    "        elif string.isalpha() == False:\n",
    "            print('\\nPlease enter a word')\n",
    "        \n",
    "        else:\n",
    "            print('OUTPUT -->', is_isogram(string))\n",
    "        \n",
    "        ch = input(\"\\n\\nEnter 'y' to Continue,\\nPress ANY OTHER key to exit: \")\n",
    "        if ch == 'y' or ch =='Y':\n",
    "            continue\n",
    "        else:\n",
    "            print('\\n\\t\\t\\t\\tTHANKYOU')\n",
    "            break"
   ]
  },
  {
   "cell_type": "code",
   "execution_count": 42,
   "id": "a9bbce96",
   "metadata": {},
   "outputs": [
    {
     "name": "stdout",
     "output_type": "stream",
     "text": [
      "\n",
      "Enter the String: abc\n",
      "OUTPUT --> True\n",
      "\n",
      "Enter 'y' to Continue,\n",
      "Press ANY OTHER key to exit: y\n",
      "\n",
      "Enter the String: edabit\n",
      "OUTPUT --> False\n",
      "\n",
      "Enter 'y' to Continue,\n",
      "Press ANY OTHER key to exit: y\n",
      "\n",
      "Enter the String: 123\n",
      "OUTPUT --> True\n",
      "\n",
      "Enter 'y' to Continue,\n",
      "Press ANY OTHER key to exit: y\n",
      "\n",
      "Enter the String: xyzz\n",
      "OUTPUT --> True\n",
      "\n",
      "Enter 'y' to Continue,\n",
      "Press ANY OTHER key to exit: n\n",
      "\n",
      "\t\t\t\tTHANKYOU\n"
     ]
    }
   ],
   "source": [
    "# QUESTION 5:\n",
    "# Create a function that takes a string and returns True or False, depending on whether the characters are in order or not.\n",
    "# NOTE : User dont have to handle empty string\n",
    "\n",
    "def is_in_order(string):\n",
    "    new_string = ''.join(sorted(string))\n",
    "    if string == new_string:\n",
    "        return True\n",
    "    \n",
    "    return False\n",
    "    \n",
    "    \n",
    "if __name__ == '__main__':\n",
    "    \n",
    "    while True:\n",
    "        \n",
    "        string = input(\"\\nEnter the String: \")\n",
    "        if string == '':\n",
    "            print(\"\\nString CAN'T BE EMPTY\")\n",
    "        else:\n",
    "            print('OUTPUT -->', is_in_order(string))\n",
    "        \n",
    "        ch = input(\"\\nEnter 'y' to Continue,\\nPress ANY OTHER key to exit: \")\n",
    "        if ch == 'y' or ch =='Y':\n",
    "            continue\n",
    "        else:\n",
    "            print('\\n\\t\\t\\t\\tTHANKYOU')\n",
    "            break\n",
    "            \n",
    "    "
   ]
  }
 ],
 "metadata": {
  "kernelspec": {
   "display_name": "Python 3 (ipykernel)",
   "language": "python",
   "name": "python3"
  },
  "language_info": {
   "codemirror_mode": {
    "name": "ipython",
    "version": 3
   },
   "file_extension": ".py",
   "mimetype": "text/x-python",
   "name": "python",
   "nbconvert_exporter": "python",
   "pygments_lexer": "ipython3",
   "version": "3.9.12"
  }
 },
 "nbformat": 4,
 "nbformat_minor": 5
}
