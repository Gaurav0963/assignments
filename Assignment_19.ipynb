{
 "cells": [
  {
   "cell_type": "markdown",
   "id": "f2baaf45",
   "metadata": {},
   "source": [
    "# ASSIGNMENT 19"
   ]
  },
  {
   "cell_type": "markdown",
   "id": "cd2e61e8",
   "metadata": {},
   "source": [
    "### QUESTION 1"
   ]
  },
  {
   "cell_type": "code",
   "execution_count": 1,
   "id": "b4eca274",
   "metadata": {},
   "outputs": [
    {
     "name": "stdout",
     "output_type": "stream",
     "text": [
      "<class '__main__.Thing'>\n",
      "<__main__.Thing object at 0x0000027CBBE5E640>\n"
     ]
    }
   ],
   "source": [
    "# Make a class called Thing with no contents and print it. Then, create an object called example\n",
    "# from this class and also print it. Are the printed values the same or different?\n",
    "\n",
    "\n",
    "class Thing:\n",
    "    pass\n",
    "print(Thing)\n",
    "\n",
    "example = Thing()\n",
    "print(example)"
   ]
  },
  {
   "cell_type": "markdown",
   "id": "d0e91110",
   "metadata": {},
   "source": [
    "### QUESTION 2"
   ]
  },
  {
   "cell_type": "code",
   "execution_count": 2,
   "id": "3e5af2e7",
   "metadata": {},
   "outputs": [
    {
     "name": "stdout",
     "output_type": "stream",
     "text": [
      "abc\n"
     ]
    }
   ],
   "source": [
    "# Create a new class called Thing2 and add the value 'abc' to the letters class attribute. \n",
    "# Letters should be printed.\n",
    "\n",
    "class Thing2:\n",
    "    letters = 'abc'\n",
    "    \n",
    "print(Thing2.letters)"
   ]
  },
  {
   "cell_type": "markdown",
   "id": "00fcb2ca",
   "metadata": {},
   "source": [
    "### QUESTION 3"
   ]
  },
  {
   "cell_type": "code",
   "execution_count": 3,
   "id": "17ed56d5",
   "metadata": {},
   "outputs": [
    {
     "name": "stdout",
     "output_type": "stream",
     "text": [
      "xyz\n"
     ]
    }
   ],
   "source": [
    "# Make yet another class called, of course, Thing3. This time, assign the value 'xyz' to an instance\n",
    "# (object) attribute called letters. Print letters. Do you need to make an object from the class to do this?\n",
    "\n",
    "class Thing3:  \n",
    "    def __init__(self):\n",
    "        self.letters = 'xyz'\n",
    "        \n",
    "# print(Thing3.letters) will give AttributeError because the variable named letters belongs to the object of Thing3\n",
    "# and not to the Thing3 class itself.\n",
    "\n",
    "obj = Thing3()\n",
    "print(obj.letters)"
   ]
  },
  {
   "cell_type": "markdown",
   "id": "dfc1d088",
   "metadata": {},
   "source": [
    "### QUESTION 4"
   ]
  },
  {
   "cell_type": "code",
   "execution_count": 4,
   "id": "d28aef36",
   "metadata": {},
   "outputs": [
    {
     "name": "stdout",
     "output_type": "stream",
     "text": [
      "Hydrogen H 1\n"
     ]
    }
   ],
   "source": [
    "# Create an Element class with the instance attributes name, symbol, and number. Create a class\n",
    "# object with the values 'Hydrogen', 'H' and 1.\n",
    "\n",
    "\n",
    "class Element:\n",
    "    def __init__(self, name, symbol, number):\n",
    "        self.name = name\n",
    "        self.symbol = symbol\n",
    "        self.number = number\n",
    "        \n",
    "obj = Element('Hydrogen', 'H', 1)\n",
    "print(obj.name, obj.symbol, obj.number)"
   ]
  },
  {
   "cell_type": "markdown",
   "id": "38187c6a",
   "metadata": {},
   "source": [
    "### QUESTION 5"
   ]
  },
  {
   "cell_type": "code",
   "execution_count": 5,
   "id": "69588aac",
   "metadata": {},
   "outputs": [
    {
     "name": "stdout",
     "output_type": "stream",
     "text": [
      "Hydrogen H 1\n"
     ]
    }
   ],
   "source": [
    "# Make a dictionary with these keys and values: 'name': 'Hydrogen', 'symbol': 'H', 'number': 1. \n",
    "# Then, create an object called hydrogen from class Element using this dictionary.\n",
    "\n",
    "\n",
    "dic = {'name': 'Hydrogen', 'symbol': 'H', 'number': 1}\n",
    "\n",
    "# hydrogen = Element(dic['name'], dic['symbol'], dic['number'])\n",
    "\n",
    "hydrogen = Element(**dic) #using ** to pass dict values\n",
    "\n",
    "print(hydrogen.name, hydrogen.symbol, hydrogen.number)\n"
   ]
  },
  {
   "cell_type": "markdown",
   "id": "e0248ac4",
   "metadata": {},
   "source": [
    "### QUESTION 6"
   ]
  },
  {
   "cell_type": "code",
   "execution_count": 6,
   "id": "41b51616",
   "metadata": {},
   "outputs": [
    {
     "name": "stdout",
     "output_type": "stream",
     "text": [
      "Name: Hydrogen, Symbol:  H, Number:  1\n"
     ]
    }
   ],
   "source": [
    "# For the Element class, define a method called dump() that prints the values of the object’s\n",
    "# attributes (name, symbol, and number). Create the hydrogen object from this new definition and\n",
    "# use dump() to print its attributes.\n",
    "\n",
    "class Element:\n",
    "    def __init__(self, name, symbol, number):\n",
    "        self.name = name\n",
    "        self.symbol = symbol\n",
    "        self.number = number\n",
    "        \n",
    "    def dump(self):\n",
    "        print('Name:', self.name, end=', ')\n",
    "        print('Symbol: ', self.symbol, end=', ')\n",
    "        print('Number: ', self.number)\n",
    "        \n",
    "hydrogen = Element('Hydrogen', 'H', 1)\n",
    "hydrogen.dump()\n",
    "    "
   ]
  },
  {
   "cell_type": "markdown",
   "id": "b1e56fa1",
   "metadata": {},
   "source": [
    "### QUESTION 7"
   ]
  },
  {
   "cell_type": "code",
   "execution_count": 7,
   "id": "0849710a",
   "metadata": {},
   "outputs": [
    {
     "name": "stdout",
     "output_type": "stream",
     "text": [
      "<__main__.Element object at 0x0000027CBBE72130>\n",
      "name=Hydrogen, symbol=H, number=1\n"
     ]
    }
   ],
   "source": [
    "# Call print(hydrogen). In the definition of Element, change the name of method dump to __str__,\n",
    "# create a new hydrogen object, and call print(hydrogen) again.\n",
    "\n",
    "\n",
    "print(hydrogen)\n",
    "\n",
    "class Element:\n",
    "    def __init__(self, name, symbol, number):\n",
    "        self.name = name\n",
    "        self.symbol = symbol\n",
    "        self.number = number\n",
    "        \n",
    "    def __str__(self):\n",
    "        return ('name=%s, symbol=%s, number=%s' %(self.name, self.symbol, self.number))\n",
    "\n",
    "hydrogen = Element('Hydrogen', 'H', 1)\n",
    "print(hydrogen)\n"
   ]
  },
  {
   "cell_type": "markdown",
   "id": "31352ba6",
   "metadata": {},
   "source": [
    "### QUESTION 8"
   ]
  },
  {
   "cell_type": "code",
   "execution_count": 8,
   "id": "0f80dc9d",
   "metadata": {},
   "outputs": [
    {
     "name": "stdout",
     "output_type": "stream",
     "text": [
      "Hydrogen\n",
      "H\n",
      "1\n"
     ]
    }
   ],
   "source": [
    "# Modify Element to make the attributes name, symbol, and number private. Define a getter\n",
    "# property for each to return its value.\n",
    "\n",
    "\n",
    "class Element:\n",
    "    def __init__(self, name, symbol, number):\n",
    "        self.__name = name\n",
    "        self.__symbol = symbol\n",
    "        self.__number = number\n",
    "    \n",
    "    @property    \n",
    "    def name(self):\n",
    "        return self.__name\n",
    "    \n",
    "    @property     \n",
    "    def symbol(self):\n",
    "        return self.__symbol\n",
    "    \n",
    "    @property     \n",
    "    def number(self):\n",
    "        return self.__number\n",
    "    \n",
    "hydrogen = Element('Hydrogen', 'H', 1)\n",
    "print(hydrogen.name)\n",
    "print(hydrogen.symbol)\n",
    "print(hydrogen.number)"
   ]
  },
  {
   "cell_type": "markdown",
   "id": "bd994999",
   "metadata": {},
   "source": [
    "### QUESTION 9"
   ]
  },
  {
   "cell_type": "code",
   "execution_count": 9,
   "id": "ff0cfb2f",
   "metadata": {},
   "outputs": [
    {
     "name": "stdout",
     "output_type": "stream",
     "text": [
      "berries\n",
      "clover\n",
      "campers\n"
     ]
    }
   ],
   "source": [
    "# Define three classes: Bear, Rabbit, and Octothorpe. For each, define only one method: eats(). \n",
    "# This should return 'berries' (Bear), 'clover' (Rabbit), or 'campers' (Octothorpe). \n",
    "# Create one object from each and print what it eats.\n",
    "\n",
    "class Bear:\n",
    "    def eats(self):\n",
    "        return 'berries'\n",
    "    \n",
    "class Rabbit:\n",
    "    def eats(self):\n",
    "        return 'clover'\n",
    "    \n",
    "class Octothorpe():\n",
    "    def eats(self):\n",
    "        return 'campers'\n",
    "    \n",
    "b = Bear()\n",
    "r = Rabbit()\n",
    "o = Octothorpe()\n",
    "\n",
    "print(b.eats())\n",
    "print(r.eats())\n",
    "print(o.eats())"
   ]
  },
  {
   "cell_type": "markdown",
   "id": "009d5797",
   "metadata": {},
   "source": [
    "### QUESTION 10"
   ]
  },
  {
   "cell_type": "code",
   "execution_count": 10,
   "id": "64aa1bd0",
   "metadata": {},
   "outputs": [
    {
     "name": "stdout",
     "output_type": "stream",
     "text": [
      "Each component does following things: \n",
      "Laser disintegrates\n",
      "Claw crushs \n",
      "SmartPhone rings \n"
     ]
    }
   ],
   "source": [
    "# Define these classes: Laser, Claw, and SmartPhone. Each has only one method: does(). \n",
    "# This returns 'disintegrate' (Laser), 'crush' (Claw), or 'ring' (SmartPhone). Then, define the class Robot that\n",
    "# has one instance (object) of each of these. Define a does() method for the Robot that prints what its component objects do.\n",
    "\n",
    "\n",
    "class Laser:\n",
    "    def does(self):\n",
    "        return 'disintegrate'\n",
    "    \n",
    "class Claw:\n",
    "    def does(self):\n",
    "        return 'crush'\n",
    "    \n",
    "class SmartPhone:\n",
    "    def does(self):\n",
    "        return 'ring'\n",
    "    \n",
    "class Robot:\n",
    "    def __init__(self):\n",
    "        self.laser = Laser()\n",
    "        self.claw = Claw()\n",
    "        self.smartphone = SmartPhone()\n",
    "        \n",
    "    def does(self):\n",
    "        return ('''Each component does following things: \\nLaser %ss\\nClaw %ss \\nSmartPhone %ss ''' \n",
    "                %(self.laser.does(), self.claw.does(), self.smartphone.does()) )\n",
    "     \n",
    "r = Robot()\n",
    "print(r.does())"
   ]
  }
 ],
 "metadata": {
  "kernelspec": {
   "display_name": "Python 3 (ipykernel)",
   "language": "python",
   "name": "python3"
  },
  "language_info": {
   "codemirror_mode": {
    "name": "ipython",
    "version": 3
   },
   "file_extension": ".py",
   "mimetype": "text/x-python",
   "name": "python",
   "nbconvert_exporter": "python",
   "pygments_lexer": "ipython3",
   "version": "3.9.12"
  }
 },
 "nbformat": 4,
 "nbformat_minor": 5
}
