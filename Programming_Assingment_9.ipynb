{
 "cells": [
  {
   "cell_type": "markdown",
   "id": "aba0dcdd",
   "metadata": {},
   "source": [
    "# PROGRAMMING ASSIGNMENT 9"
   ]
  },
  {
   "cell_type": "markdown",
   "id": "50026f2d",
   "metadata": {},
   "source": [
    "1. Write a Python program to check if the given number is a Disarium Number?\n",
    "2. Write a Python program to print all disarium numbers between 1 to 100?\n",
    "3. Write a Python program to check if the given number is Happy Number?\n",
    "4. Write a Python program to print all happy numbers between 1 and 100?\n",
    "5. Write a Python program to determine whether the given number is a Harshad Number?\n",
    "6. Write a Python program to print all pronic numbers between 1 and 100?"
   ]
  },
  {
   "cell_type": "markdown",
   "id": "15cb46e1",
   "metadata": {},
   "source": [
    "#### Question 1 : Write a Python program to check if the given number is a Disarium Number?"
   ]
  },
  {
   "cell_type": "code",
   "execution_count": 9,
   "id": "ec7252dd",
   "metadata": {},
   "outputs": [
    {
     "name": "stdout",
     "output_type": "stream",
     "text": [
      "\n",
      "\t\t\tDISARIUM NUMBER CHECK\n",
      "\n",
      "Enter Number: 135\n",
      "YES 135 is DISARIUM Number\n",
      "\n",
      "Enter 'y' to Continue, ANY OTHER key to exit: y\n",
      "\n",
      "Enter Number: 80\n",
      "NOT a DISARIUM\n",
      "\n",
      "Enter 'y' to Continue, ANY OTHER key to exit: y\n",
      "\n",
      "Enter Number: 8\n",
      "YES 8 is DISARIUM Number\n",
      "\n",
      "Enter 'y' to Continue, ANY OTHER key to exit: y\n",
      "\n",
      "Enter Number: 89\n",
      "YES 89 is DISARIUM Number\n",
      "\n",
      "Enter 'y' to Continue, ANY OTHER key to exit: n\n",
      "\n",
      "\t\t\t\tTHANKYOU\n"
     ]
    }
   ],
   "source": [
    "def disarium(number):\n",
    "    sum1 = 0\n",
    "    if len(str(number)) > 1: #single digit number will automatically be disarium number\n",
    "        for idx, val in enumerate(str(number)):\n",
    "            sum1 += pow(int(val), idx+1)\n",
    "        return sum1\n",
    "    return number  \n",
    "  \n",
    "\n",
    "if __name__ == '__main__':\n",
    "    \n",
    "    print('\\n\\t\\t\\tDISARIUM NUMBER CHECK')\n",
    "    while True:\n",
    "        try:\n",
    "            n = int(input('\\nEnter Number: '))\n",
    "            result = disarium(n)\n",
    "            if n == result:\n",
    "                print('YES', n, 'is DISARIUM Number')\n",
    "            else:\n",
    "                print('NOT a DISARIUM')\n",
    "            \n",
    "        except ValueError as v:\n",
    "            print(v)\n",
    "        \n",
    "        ch = input(\"\\nEnter 'y' to Continue, ANY OTHER key to exit: \" )\n",
    "        if ch == 'y' or ch =='Y':\n",
    "            continue\n",
    "        else:\n",
    "            print('\\n\\t\\t\\t\\tTHANKYOU')\n",
    "            break"
   ]
  },
  {
   "cell_type": "markdown",
   "id": "7205750a",
   "metadata": {},
   "source": [
    "#### Question 2: Write a Python program to print all disarium numbers between 1 to 100?"
   ]
  },
  {
   "cell_type": "code",
   "execution_count": 10,
   "id": "1af03cc7",
   "metadata": {},
   "outputs": [
    {
     "name": "stdout",
     "output_type": "stream",
     "text": [
      "\n",
      "Enter lower limit: 1\n",
      "Enter upper limit: 100\n",
      "\n",
      "DISRIUM NUMBER between 1 and 100:\n",
      "[1, 2, 3, 4, 5, 6, 7, 8, 9, 89]\n",
      "\n",
      "Enter 'y' to Continue, ANY OTHER key to exit: n\n",
      "\n",
      "\t\t\tTHANKYOU\n"
     ]
    }
   ],
   "source": [
    "def print_all_disarium(lower, upper):\n",
    "    mylist = []\n",
    "    for number in range(lower, upper+1):\n",
    "        sum1 = 0\n",
    "        for idx, val in enumerate(str(number)):\n",
    "            sum1 += pow(int(val), idx+1)\n",
    "        if sum1 == number:\n",
    "            mylist.append(number)\n",
    "    return mylist\n",
    "\n",
    "\n",
    "if __name__ == '__main__':\n",
    "    while True:\n",
    "        try:\n",
    "            lower, upper = int(input('\\nEnter lower limit: ')), int(input('Enter upper limit: '))\n",
    "            print('\\nDISRIUM NUMBER between {} and {}:'.format(lower, upper))\n",
    "            print(print_all_disarium(lower, upper))\n",
    "            \n",
    "        except ValueError as v:\n",
    "            print(v)\n",
    "        \n",
    "        ch = input(\"\\nEnter 'y' to Continue, ANY OTHER key to exit: \" )\n",
    "        if ch == 'y' or ch =='Y':\n",
    "            continue\n",
    "        else:\n",
    "            print('\\n\\t\\t\\tTHANKYOU')\n",
    "            break\n",
    "            \n",
    "    "
   ]
  },
  {
   "cell_type": "markdown",
   "id": "908c10d5",
   "metadata": {},
   "source": [
    "#### Question 3: Python program to check if the given number is Happy Number"
   ]
  },
  {
   "cell_type": "code",
   "execution_count": 27,
   "id": "4cb041bd",
   "metadata": {},
   "outputs": [
    {
     "name": "stdout",
     "output_type": "stream",
     "text": [
      "\t\t\t\tHAPPY NUMBER CHECK\n",
      "\n",
      "Enter Number: 13\n",
      "True\n",
      "\n",
      "Enter 'y' to Continue, ANY OTHER key to exit: n\n",
      "\n",
      "\t\t\tTHANKYOU\n"
     ]
    }
   ],
   "source": [
    "def sq_sum(num):\n",
    "    add = 0\n",
    "    for i in str(num):\n",
    "        add += pow(int(i), 2)\n",
    "    return add\n",
    "    \n",
    "\n",
    "def happy(number):\n",
    "    onelist = []\n",
    "    n = number\n",
    "    while True:\n",
    "        res = sq_sum(n)\n",
    "        if res in set(onelist):\n",
    "            return False\n",
    "        elif res ==  1:\n",
    "            return True\n",
    "        elif res != 1 and res == number:\n",
    "            return False\n",
    "        else:\n",
    "            onelist.append(res)\n",
    "            n = res\n",
    "            continue\n",
    "    \n",
    "    \n",
    "\n",
    "if __name__ == '__main__':\n",
    "    \n",
    "    print('\\t\\t\\t\\tHAPPY NUMBER CHECK')\n",
    "    \n",
    "    while True:\n",
    "        try:\n",
    "            num = int(input('\\nEnter Number: '))\n",
    "            res = happy(num)\n",
    "            print(res)\n",
    "            \n",
    "        except ValueError as v:\n",
    "            print(v)\n",
    "        \n",
    "        ch = input(\"\\nEnter 'y' to Continue, ANY OTHER key to exit: \" )\n",
    "        if ch == 'y' or ch =='Y':\n",
    "            continue\n",
    "        else:\n",
    "            print('\\n\\t\\t\\tTHANKYOU')\n",
    "            break"
   ]
  },
  {
   "cell_type": "markdown",
   "id": "094f7766",
   "metadata": {},
   "source": [
    "#### Question 4: Write a Python program to print all happy numbers between 1 and 100?"
   ]
  },
  {
   "cell_type": "code",
   "execution_count": 30,
   "id": "7f2626c9",
   "metadata": {},
   "outputs": [
    {
     "name": "stdout",
     "output_type": "stream",
     "text": [
      "\n",
      "Enter Lower Limit: 1\n",
      "Enter Upper Limit: 100\n",
      "\n",
      "List of Happy Numbers:\n",
      " [1, 7, 10, 13, 19, 23, 28, 31, 32, 44, 49, 68, 70, 79, 82, 86, 91, 94, 97, 100]\n",
      "\n",
      "Enter 'y' to Continue, ANY OTHER key to exit: n\n",
      "\n",
      "\t\t\tTHANKYOU\n"
     ]
    }
   ],
   "source": [
    "def square_sum(num):\n",
    "    add = 0\n",
    "    for i in str(num):\n",
    "        add += pow(int(i), 2)\n",
    "    return add\n",
    "\n",
    "\n",
    "def print_all_happy(low, upper):\n",
    "    \n",
    "    happylist = []\n",
    "    \n",
    "    for num in range(low, upper+1):\n",
    "        result = happy(num)           #calling happy function from previous code (Question number 4)\n",
    "        if result == True:\n",
    "            happylist.append(num)\n",
    "    return happylist\n",
    "\n",
    "\n",
    "if __name__ == '__main__':\n",
    "    while True:\n",
    "        try:\n",
    "            lower, upper = int(input('\\nEnter Lower Limit: ')), int(input('Enter Upper Limit: '))\n",
    "            print('\\nList of Happy Numbers:\\n', print_all_happy(lower, upper) )\n",
    "            \n",
    "        except ValueError as v:\n",
    "            print(v)\n",
    "        \n",
    "        ch = input(\"\\nEnter 'y' to Continue, ANY OTHER key to exit: \" )\n",
    "        if ch == 'y' or ch =='Y':\n",
    "            continue\n",
    "        else:\n",
    "            print('\\n\\t\\t\\tTHANKYOU')\n",
    "            break\n",
    "        "
   ]
  },
  {
   "cell_type": "markdown",
   "id": "fe43ef68",
   "metadata": {},
   "source": [
    "#### Question 5: Write a Python program to determine whether the given number is a Harshad Number?"
   ]
  },
  {
   "cell_type": "code",
   "execution_count": 7,
   "id": "6fd7a80c",
   "metadata": {},
   "outputs": [
    {
     "name": "stdout",
     "output_type": "stream",
     "text": [
      "\n",
      "Enter Number: 135\n",
      "135 is a Harshad Number:  True\n",
      "\n",
      "Enter 'y' to Continue, ANY OTHER key to exit: y\n",
      "\n",
      "Enter Number: 19\n",
      "19 is a Harshad Number:  False\n",
      "\n",
      "Enter 'y' to Continue, ANY OTHER key to exit: n\n",
      "\n",
      "\t\t\tTHANKYOU\n"
     ]
    }
   ],
   "source": [
    "def harshad(number):\n",
    "    sum1 = sum(int(digit) for digit in str(number))\n",
    "    return (number%sum1 == 0)\n",
    "\n",
    "\n",
    "if __name__ == '__main__':\n",
    "    while True:\n",
    "        try:\n",
    "            num = int(input(\"\\nEnter Number: \"))\n",
    "            print(num, 'is a Harshad Number: ', harshad(num))\n",
    "            \n",
    "        except ValueError as v:\n",
    "            print(v)\n",
    "        \n",
    "        ch = input(\"\\nEnter 'y' to Continue, ANY OTHER key to exit: \" )\n",
    "        if ch == 'y' or ch =='Y':\n",
    "            continue\n",
    "        else:\n",
    "            print('\\n\\t\\t\\tTHANKYOU')\n",
    "            break\n",
    "        "
   ]
  },
  {
   "cell_type": "markdown",
   "id": "de20be7e",
   "metadata": {},
   "source": [
    "#### Question 6: Write a Python program to print all PRONIC numbers between 1 and 100?"
   ]
  },
  {
   "cell_type": "code",
   "execution_count": 40,
   "id": "5124067a",
   "metadata": {},
   "outputs": [
    {
     "name": "stdout",
     "output_type": "stream",
     "text": [
      "\t\t\t\tPRONIC NUMBERS\n",
      "\n",
      "Enter Lower Limit: 1\n",
      "Enter Upper Limit: 100\n",
      "\n",
      "List of Pronic Numbers betweeb 1 and 100: [2, 6, 12, 20, 30, 42, 56, 72, 90]\n",
      "\n",
      "Enter 'y' to Continue, ANY OTHER key to exit: n\n",
      "\n",
      "\t\t\t\tTHANKYOU\n"
     ]
    }
   ],
   "source": [
    "def pronic(lower, upper):  \n",
    "    \n",
    "#     for num in range(lower, upper):\n",
    "#         for i in range(num+1):\n",
    "#             if i*(i+1) == num:\n",
    "#                 pronic.append(num)\n",
    "#                 break\n",
    "# \n",
    "## above nested for loop written below using list comprehension with a if condition, saves code execution time\n",
    "\n",
    "    pronic_nums = [num for num in range(lower, upper) for i in range(num+1) if i*(i+1)==num]           \n",
    "    return pronic_nums\n",
    "        \n",
    "    \n",
    "    \n",
    "if __name__ == '__main__':\n",
    "    \n",
    "    print('\\t\\t\\t\\tPRONIC NUMBERS')\n",
    "    \n",
    "    while True:\n",
    "        try:\n",
    "            lower, upper = int(input('\\nEnter Lower Limit: ')), int(input('Enter Upper Limit: '))\n",
    "            print('\\nList of Pronic Numbers betweeb {} and {}: {}'.format(lower, upper, pronic(lower, upper)))\n",
    "            \n",
    "        except ValueError as v:\n",
    "            print(v)\n",
    "        \n",
    "        ch = input(\"\\nEnter 'y' to Continue, ANY OTHER key to exit: \" )\n",
    "        if ch == 'y' or ch =='Y':\n",
    "            continue\n",
    "        else:\n",
    "            print('\\n\\t\\t\\t\\tTHANKYOU')\n",
    "            break\n",
    "\n",
    "\n"
   ]
  }
 ],
 "metadata": {
  "kernelspec": {
   "display_name": "Python 3 (ipykernel)",
   "language": "python",
   "name": "python3"
  },
  "language_info": {
   "codemirror_mode": {
    "name": "ipython",
    "version": 3
   },
   "file_extension": ".py",
   "mimetype": "text/x-python",
   "name": "python",
   "nbconvert_exporter": "python",
   "pygments_lexer": "ipython3",
   "version": "3.9.12"
  }
 },
 "nbformat": 4,
 "nbformat_minor": 5
}
