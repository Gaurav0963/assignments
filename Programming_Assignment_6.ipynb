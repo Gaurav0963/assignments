{
 "cells": [
  {
   "cell_type": "code",
   "execution_count": 26,
   "id": "a3084a2a",
   "metadata": {},
   "outputs": [
    {
     "name": "stdout",
     "output_type": "stream",
     "text": [
      "\t\t\t\t\tFIBONACCI SEQUENCE\n",
      "\n",
      "Enter Number of terms : 33\n",
      "0 1 1 2 3 5 8 13 21 34 55 89 144 233 377 610 987 1597 2584 4181 6765 10946 17711 28657 46368 75025 121393 196418 317811 514229 832040 1346269 2178309 "
     ]
    }
   ],
   "source": [
    "# QUESTION 1: Write a Python Program to Display Fibonacci Sequence Using Recursion?\n",
    "\n",
    "def Rec_Fibonacci(n):\n",
    "    if n <= 1:\n",
    "        return n\n",
    "    else:\n",
    "        return(Rec_Fibonacci(n-1) + Rec_Fibonacci(n-2))\n",
    "\n",
    "\n",
    "if __name__ == '__main__': \n",
    "    \n",
    "    print('\\t\\t\\t\\t\\tFIBONACCI SEQUENCE\\n')\n",
    "    try:\n",
    "        num = int(input(\"Enter Number of terms : \"))\n",
    "        if num>0:\n",
    "            for i in range(num):\n",
    "                print(Rec_Fibonacci(i), end=' ')\n",
    "        else:\n",
    "            print('\\nPlease enter positive number > ZERO')\n",
    "\n",
    "    except ValueError:\n",
    "        print('\\nIncorrect Input: Numerical Input Expected')"
   ]
  },
  {
   "cell_type": "code",
   "execution_count": 28,
   "id": "5c711556",
   "metadata": {},
   "outputs": [
    {
     "name": "stdout",
     "output_type": "stream",
     "text": [
      "I want to find Factorial of: 12\n",
      "\n",
      "12! = 479001600\n"
     ]
    }
   ],
   "source": [
    "# QUESTION 2: Write a Python Program to Find Factorial of Number Using Recursion?\n",
    "\n",
    "def rec_fact(num):\n",
    "    if num == 0:\n",
    "        return 1\n",
    "    return rec_fact(num-1)*num\n",
    "\n",
    "try:\n",
    "    n = int(input('I want to find Factorial of: '))\n",
    "    if n>0:\n",
    "        result = rec_fact(n)\n",
    "        print('\\n{}! = {}'.format(n, result))\n",
    "    else:\n",
    "        print(\"\\nFunction can't take Negative Values\")\n",
    "\n",
    "except ValueError:\n",
    "    print(\"\\nIncorrect Input\")"
   ]
  },
  {
   "cell_type": "code",
   "execution_count": 33,
   "id": "160e874a",
   "metadata": {},
   "outputs": [
    {
     "name": "stdout",
     "output_type": "stream",
     "text": [
      "Body Mass Index Calculator\n",
      "\n",
      "Weight (in kilograms): 72\n",
      "Height (in meters): 1.78\n",
      "\n",
      "BMI = 22.72\n"
     ]
    }
   ],
   "source": [
    "# QUESTION 3: Write a Python Program to calculate your Body Mass Index?\n",
    "\n",
    "def BMI(weight, height):\n",
    "    bmi = weight / (height**2)\n",
    "    return bmi\n",
    "\n",
    "if __name__ == '__main__':\n",
    "    print('Body Mass Index Calculator')\n",
    "    try:\n",
    "        w = float(input('\\nWeight (in kilograms): '))\n",
    "        h = float(input('Height (in meters): '))\n",
    "        result = BMI(w, h)\n",
    "        print('\\nBMI = {:.2f}'. format(result))\n",
    "    except ValueError as v:\n",
    "        print('\\n', v)"
   ]
  },
  {
   "cell_type": "code",
   "execution_count": 37,
   "id": "b973c32e",
   "metadata": {},
   "outputs": [
    {
     "name": "stdout",
     "output_type": "stream",
     "text": [
      "NATURAL LOG CALCULATOR\n",
      "\n",
      "Enter Number: 12.5\n",
      "ln(12.5) = 2.5257\n",
      "\n",
      "Enter 'y' to continue; press any other key to exit:  y\n",
      "Enter Number: 3\n",
      "ln(3.0) = 1.0986\n",
      "\n",
      "Enter 'y' to continue; press any other key to exit:  n\n"
     ]
    }
   ],
   "source": [
    "# QUESTION 4: Write a Python Program to calculate the natural logarithm of any number?\n",
    "\n",
    "from math import log \n",
    "\n",
    "print('NATURAL LOG CALCULATOR\\n')\n",
    "try:\n",
    "    while True:\n",
    "        num = float(input('Enter Number: '))\n",
    "        print('ln({}) = {:.4f}'.format(num, log(num)))\n",
    "        choice = input(\"\\nEnter 'y' to continue; press any other key to exit:  \")\n",
    "        if choice == 'y' or choice == 'Y':\n",
    "            continue\n",
    "        else:\n",
    "            print('\\nPROGRAM EXIT')\n",
    "            break\n",
    "\n",
    "except ValueError as v:\n",
    "    print(v)\n",
    "\n"
   ]
  },
  {
   "cell_type": "code",
   "execution_count": 38,
   "id": "180685d7",
   "metadata": {},
   "outputs": [
    {
     "name": "stdout",
     "output_type": "stream",
     "text": [
      "CUBE SUM OF FIRST n NATURAL NUMBERS\n",
      "\n",
      "Enter number: 3\n",
      "\n",
      "Sum of Cubes = 36\n",
      "\n",
      "press y to continue, press any other key to exit: y\n",
      "Enter number: 4\n",
      "\n",
      "Sum of Cubes = 100\n",
      "\n",
      "press y to continue, press any other key to exit: b\n"
     ]
    }
   ],
   "source": [
    "# QUESTION 5: Write a Python Program for cube sum of first n natural numbers?\n",
    "\n",
    "def cube_sum(n):\n",
    "    csum = 0\n",
    "    for i in range(1, n+1):\n",
    "        csum += i**3\n",
    "    return csum\n",
    "\n",
    "print('CUBE SUM OF FIRST n NATURAL NUMBERS\\n')\n",
    "\n",
    "try:\n",
    "    while True:\n",
    "        num = int(input('Enter number: '))\n",
    "        if num > 0:\n",
    "            ans = cube_sum(num)\n",
    "            print('\\nSum of Cubes =', ans)\n",
    "        else:\n",
    "            print('\\n0 is not a natural number')\n",
    "        choice = input('\\npress y to continue, press any other key to exit: ')\n",
    "        if choice == 'y' or choice == 'Y':\n",
    "            continue\n",
    "        else:\n",
    "            break\n",
    "        \n",
    "except ValueError as v:\n",
    "    print(v)"
   ]
  },
  {
   "cell_type": "code",
   "execution_count": null,
   "id": "5ce469c5",
   "metadata": {},
   "outputs": [],
   "source": []
  }
 ],
 "metadata": {
  "kernelspec": {
   "display_name": "Python 3 (ipykernel)",
   "language": "python",
   "name": "python3"
  },
  "language_info": {
   "codemirror_mode": {
    "name": "ipython",
    "version": 3
   },
   "file_extension": ".py",
   "mimetype": "text/x-python",
   "name": "python",
   "nbconvert_exporter": "python",
   "pygments_lexer": "ipython3",
   "version": "3.9.12"
  }
 },
 "nbformat": 4,
 "nbformat_minor": 5
}
