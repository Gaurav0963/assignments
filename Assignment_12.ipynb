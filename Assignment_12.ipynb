{
 "cells": [
  {
   "cell_type": "markdown",
   "id": "fa7ca6b8",
   "metadata": {},
   "source": [
    "# ASSIGNMENT 12"
   ]
  },
  {
   "cell_type": "markdown",
   "id": "a245bd30",
   "metadata": {},
   "source": [
    "1. In what modes should the PdfFileReader() and PdfFileWriter() File objects will be opened?\n",
    "2. From a PdfFileReader object, how do you get a Page object for page 5?\n",
    "3. What PdfFileReader variable stores the number of pages in the PDF document?\n",
    "4. If a PdfFileReader object’s PDF is encrypted with the password swordfish, what must you do\n",
    "before you can obtain Page objects from it?\n",
    "5. What methods do you use to rotate a page?\n",
    "6. What is the difference between a Run object and a Paragraph object?\n",
    "7. How do you obtain a list of Paragraph objects for a Document object that’s stored in a variable\n",
    "named doc?\n",
    "8. What type of object has bold, underline, italic, strike, and outline variables?\n",
    "9. What is the difference between False, True, and None for the bold variable?\n",
    "10. How do you create a Document object for a new Word document?\n",
    "11. How do you add a paragraph with the text &#39;Hello, there!&#39; to a Document object stored in a\n",
    "variable named doc?\n",
    "12. What integers represent the levels of headings available in Word documents?"
   ]
  },
  {
   "cell_type": "markdown",
   "id": "c65bb8ab",
   "metadata": {},
   "source": [
    "### ANSWER 1:\n",
    "\n",
    "1. PdfFileReader(): Read-binary ('rb')  \n",
    "2. PdfFileWriter(): write-binary ('wb') \n"
   ]
  },
  {
   "cell_type": "markdown",
   "id": "69ab31d9",
   "metadata": {},
   "source": [
    "### ANSWER 2:\n",
    "    First page starts from page 0, we need to call getPage(4) which will return a Page object for page 5."
   ]
  },
  {
   "cell_type": "markdown",
   "id": "9bc2047c",
   "metadata": {},
   "source": [
    "### ANSWER 3:\n",
    "    The numPages variable stores the number of pages in the PdfFileReader object as an integer."
   ]
  },
  {
   "cell_type": "markdown",
   "id": "6e18e491",
   "metadata": {},
   "source": [
    "### ANSWER 4:\n",
    "    Before we could obtain the page obect from the file we must decrypt the file by calling the decrypt function:         \n",
    "    decrypt('swordfish')"
   ]
  },
  {
   "cell_type": "markdown",
   "id": "418568cb",
   "metadata": {},
   "source": [
    "### ANSWER 5:\n",
    "    The rotateClockwise() and rotateCounterClockwise() methods. The degrees to rotate is passed as an integer argument."
   ]
  },
  {
   "cell_type": "markdown",
   "id": "5505b436",
   "metadata": {},
   "source": [
    "### ANSWER 6:\n",
    "    A document contains multiple paragraphs. \n",
    "    A paragraph begins on a new line and contains multiple runs. \n",
    "    Runs are contiguous groups of characters within a paragraph."
   ]
  },
  {
   "cell_type": "markdown",
   "id": "c9094086",
   "metadata": {},
   "source": [
    "### ANSWER 7:\n",
    "    To obtain a list of Paragraph objects for a Document object that’s stored in a variable named doc,\n",
    "    we will use doc.paragraphs.\n"
   ]
  },
  {
   "cell_type": "markdown",
   "id": "ac3a39d2",
   "metadata": {},
   "source": [
    "### ANSWER 8:\n",
    "    A Run object has bold, underline, italic, strike, and outline variables.\n"
   ]
  },
  {
   "cell_type": "markdown",
   "id": "daed9277",
   "metadata": {},
   "source": [
    "### ANSWER 9:\n",
    "    True always makes the Run object bold.\n",
    "    False will never make Run object bold, irrespective of the style’s bold setting. \n",
    "    None will make the Run object just use the style’s bold setting."
   ]
  },
  {
   "cell_type": "markdown",
   "id": "af49f1f6",
   "metadata": {},
   "source": [
    "### ANSWER 10:\n",
    "    We can create the document object for a new Word document by calling docx.Document() function."
   ]
  },
  {
   "cell_type": "markdown",
   "id": "73769ac7",
   "metadata": {},
   "source": [
    "### ANSWER 11: doc.add_paragraph('Hello there!')\n",
    "    The add_paragraph() document method adds a new paragraph of text to the document and returns a reference to the\n",
    "    Paragraph object that was added.\n",
    "         NOTE : add_paragraph() accepts an optional second argument that is a string of the Paragraph object’s style."
   ]
  },
  {
   "cell_type": "markdown",
   "id": "6463f7c2",
   "metadata": {},
   "source": [
    "### ANSWER 12: integers 0, 1, 2, 3, and 4.\n",
    "    The arguments to add_heading() are a string of the heading text and an integer from 0 to 4. \n",
    "    The integer 0 makes the heading the Title style, which is used for the top of the document. \n",
    "    Integers 1 to 4 are for various heading levels, with 1 being the main heading and 4 the lowest subheading. \n",
    "    The add_heading() function returns a Paragraph object to save you the step of extracting it from the Document object as a separate step."
   ]
  }
 ],
 "metadata": {
  "kernelspec": {
   "display_name": "Python 3 (ipykernel)",
   "language": "python",
   "name": "python3"
  },
  "language_info": {
   "codemirror_mode": {
    "name": "ipython",
    "version": 3
   },
   "file_extension": ".py",
   "mimetype": "text/x-python",
   "name": "python",
   "nbconvert_exporter": "python",
   "pygments_lexer": "ipython3",
   "version": "3.9.12"
  }
 },
 "nbformat": 4,
 "nbformat_minor": 5
}
