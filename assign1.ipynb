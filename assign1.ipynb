{
 "cells": [
  {
   "cell_type": "raw",
   "id": "5325d834",
   "metadata": {},
   "source": [
    "Answer 1:\n",
    "    Values: 'Hello', -87.8, 6\n",
    "    expressions: *, -, + and /    "
   ]
  },
  {
   "cell_type": "raw",
   "id": "324092b9",
   "metadata": {},
   "source": [
    "Answer 2:\n",
    "    \n",
    "    Strings are anything that is written within two single '' or double quotes \" \", for example., 'hi', '89', \">/?*-/+\". \n",
    "    Also, strings can not hold any value and will return str datatype when type function is used, i.e type('hi') will\n",
    "    return output as str.\n",
    "    NOTE: strings can also be written in triple quotes for eg., '''He said, \"how are you\"''', when single quotes and/or \n",
    "        double quotes are the part of the string then it is appropritate to use triple quotes to avoid any error.\n",
    "        \n",
    "    Variables are used to store some data in them, which can be a string, integer, float or boolean type. \n",
    "    NOTE: 1. Variables are case sensitive.\n",
    "          2. variable must start with a letter or underscore character_ but a variable can end with a number/underscore or \n",
    "             have number(s)/underscore(s) in between.\n",
    "          3. Variable must not be a reserved Keyword in python i.e., sum, int, str are reserved keywords in python and \n",
    "             therefore can't be used as variables."
   ]
  },
  {
   "cell_type": "raw",
   "id": "de61428a",
   "metadata": {},
   "source": [
    "Answer 3:\n",
    "    \n",
    "    1. str data type: anything written inside single 'hi', double \"hi\" or triple-single '''hi''' \n",
    "        or triple-doube \"\"\"hi\"\"\" quotes will be considered as str or string data type.\n",
    "        --> str data type is iterable by defaut.\n",
    "    \n",
    "    2. int data type: int data type covers all the integer values, i.e, minus infinity to positive infinity.\n",
    "        -9, -6, 9, 0, 1 are some examples of integer data type.\n",
    "        -->int data tye in not iterable and therefore can't be made iterator using iter() function.\n",
    "        \n",
    "    3. None Type: None type hold no value at all and should not be confused with 0, which is an integer. "
   ]
  },
  {
   "cell_type": "raw",
   "id": "818f6f7e",
   "metadata": {},
   "source": [
    "Answer 4:\n",
    "    \n",
    "    Expression is a such a combination of operations and one or more variables that results in desired values.\n",
    "    An expression always evaluates itself.\n",
    "    "
   ]
  },
  {
   "cell_type": "raw",
   "id": "1f836eef",
   "metadata": {},
   "source": [
    "Answer 5:\n",
    "    \n",
    "    An expression will always evaluate itself to a value. However, using the results obtained by the expression \n",
    "    the logical statements can be formed which drives the program. for rg., iterative statements, if-else statements etc.\n",
    "    Statements essentially execcutes the command.\n",
    "    \n",
    "    it is safe to say that an expression will have a time complexity of big-O(1) whereas it cant be said about the       \n",
    "    Statements, as loops have higher time complexities.\n",
    "    "
   ]
  },
  {
   "cell_type": "raw",
   "id": "e702c9fa",
   "metadata": {},
   "source": [
    "Answer 6:\n",
    "    \n",
    "    After running code, \n",
    "    bacon = 22\n",
    "    bacon + 1\n",
    "    variable bacon will still hold 22 as a value because bacon has not assigned the new value.  "
   ]
  },
  {
   "cell_type": "raw",
   "id": "5a80a4ab",
   "metadata": {},
   "source": [
    "Answer 7:\n",
    "    \n",
    "    Both the terms will have the same value, which is 'spamspamspam'. \n",
    "    "
   ]
  },
  {
   "cell_type": "raw",
   "id": "5ef5b99e",
   "metadata": {},
   "source": [
    "Answer 8:\n",
    "    \n",
    "    eggs is a valid variable name because to be a valid variable in python, it should start with a alphabet or underscore.\n",
    "    however 100 starts with a number it can't be a valid variable.\n",
    "    Reason:\n",
    "        eggs = 20, compiler will assign value 20 to variable eggs.\n",
    "        however, 100 = 20, will raise an error because 100 can't be equal to 20. \n",
    "        "
   ]
  },
  {
   "cell_type": "raw",
   "id": "74a72334",
   "metadata": {},
   "source": [
    "Answer 9:\n",
    "    \n",
    "    1. To get integer value of a number we use int() function.\n",
    "       example: num = 1.234\n",
    "                int(num) = 1\n",
    "    \n",
    "    2. To get floating-point number we use float() function.\n",
    "       example: num = 1\n",
    "                float(num) = 1.0\n",
    "        \n",
    "       NOTE: int() and float() only takes digits, which may or maynot be in string format.\n",
    "        \n",
    "    3. str() is used to convert to string data type.\n",
    "       example: str(None) = 'None'\n",
    "            str(True) = 'True'\n",
    "            str(47) = '47'"
   ]
  },
  {
   "cell_type": "raw",
   "id": "3705b80f",
   "metadata": {},
   "source": [
    "Answer 10:\n",
    "    \n",
    "    'I have eaten ' + 99 + ' burritos.'\n",
    "    \n",
    "    above code will not work as we are trying to add two different data types namely, int and str data tye, which is not       allowed in python. However, we can convert 99 from int type to str type.\n",
    "    \n",
    "    'I have eaten ' + str(99) + ' burritos.'\n",
    "               \n",
    "               or\n",
    "               \n",
    "    'I have eaten ' + '99' + ' burritos.'           "
   ]
  }
 ],
 "metadata": {
  "kernelspec": {
   "display_name": "Python 3 (ipykernel)",
   "language": "python",
   "name": "python3"
  },
  "language_info": {
   "codemirror_mode": {
    "name": "ipython",
    "version": 3
   },
   "file_extension": ".py",
   "mimetype": "text/x-python",
   "name": "python",
   "nbconvert_exporter": "python",
   "pygments_lexer": "ipython3",
   "version": "3.9.12"
  }
 },
 "nbformat": 4,
 "nbformat_minor": 5
}
