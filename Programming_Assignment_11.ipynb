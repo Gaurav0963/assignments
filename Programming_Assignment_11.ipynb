{
 "cells": [
  {
   "cell_type": "markdown",
   "id": "0ab18167",
   "metadata": {},
   "source": [
    "# PROGRAMMING ASSIGNMENT 11"
   ]
  },
  {
   "cell_type": "markdown",
   "id": "ef2cdf82",
   "metadata": {},
   "source": [
    "1. Write a Python program to find words which are greater than given length k?\n",
    "2. Write a Python program for removing i-th character from a string?\n",
    "3. Write a Python program to split and join a string?\n",
    "4. Write a Python to check if a given string is binary string or not?\n",
    "5. Write a Python program to find uncommon words from two Strings?\n",
    "6. Write a Python to find all duplicate characters in string?\n",
    "7. Write a Python Program to check if a string contains any special character?"
   ]
  },
  {
   "cell_type": "markdown",
   "id": "e07cfc6c",
   "metadata": {},
   "source": [
    "### Question 1:"
   ]
  },
  {
   "cell_type": "code",
   "execution_count": 11,
   "id": "3628e152",
   "metadata": {},
   "outputs": [
    {
     "name": "stdout",
     "output_type": "stream",
     "text": [
      "\n",
      "Sentence: Write a Python program to find words which are greater than given length k\n",
      "Word Length: 6\n",
      "\n",
      "OUTPUT: ['program', 'greater']\n",
      "\n",
      "\n",
      "Enter 'y' to Continue, ANY OTHER key to exit: n\n",
      "\n",
      "\t\t\tTHANKYOU\n"
     ]
    }
   ],
   "source": [
    "#  Write a Python program to find words which are greater than given length k?\n",
    "\n",
    "def GreaterThan(string, length):\n",
    "    wordlist = []\n",
    "    for word in string:\n",
    "        if len(word) > length:\n",
    "            wordlist.append(word)\n",
    "    \n",
    "    return wordlist\n",
    "    \n",
    "\n",
    "if __name__ == '__main__':\n",
    "    while True:\n",
    "        sentence = list(input('\\nSentence: ').strip().split())\n",
    "        k = int(input('Word Length: '))\n",
    "        print('\\nOUTPUT:', GreaterThan(sentence, k))\n",
    "        \n",
    "        ch = input(\"\\n\\nEnter 'y' to Continue, ANY OTHER key to exit: \" )\n",
    "        if ch == 'y' or ch =='Y':\n",
    "            continue\n",
    "        else:\n",
    "            print('\\n\\t\\t\\tTHANKYOU')\n",
    "            break"
   ]
  },
  {
   "cell_type": "markdown",
   "id": "5a23d538",
   "metadata": {},
   "source": [
    "### Question 2:"
   ]
  },
  {
   "cell_type": "code",
   "execution_count": 62,
   "id": "df79f5b0",
   "metadata": {},
   "outputs": [
    {
     "name": "stdout",
     "output_type": "stream",
     "text": [
      "\n",
      "Enter String: heAllo\n",
      "Enter Index(starts from 0): 2\n",
      "OUTPUT:  hello\n",
      "\n",
      "Enter 'y' to Continue, ANY OTHER key to exit: n\n",
      "\n",
      "\t\t\tTHANKYOU\n"
     ]
    }
   ],
   "source": [
    "# Write a Python program for removing i-th character from a string?\n",
    "\n",
    "\n",
    "def remove_i_th_character(string, index):\n",
    "    string = string[:index] + string[index+1:]\n",
    "    return string\n",
    "    \n",
    "\n",
    "if __name__ == '__main__':\n",
    "    while True:\n",
    "        try:\n",
    "            string = input('\\nEnter String: ')\n",
    "            idx = int(input('Enter Index(starts from 0): '))\n",
    "            print('OUTPUT: ', remove_i_th_character(string, idx))\n",
    "            \n",
    "        except ValueError as v:\n",
    "            print(v)\n",
    "        \n",
    "        ch = input(\"\\nEnter 'y' to Continue, ANY OTHER key to exit: \" )\n",
    "        if ch == 'y' or ch =='Y':\n",
    "            continue\n",
    "        else:\n",
    "            print('\\n\\t\\t\\tTHANKYOU')\n",
    "            break        "
   ]
  },
  {
   "cell_type": "markdown",
   "id": "66905788",
   "metadata": {},
   "source": [
    "### Question 3:"
   ]
  },
  {
   "cell_type": "code",
   "execution_count": 21,
   "id": "bc066c63",
   "metadata": {},
   "outputs": [
    {
     "name": "stdout",
     "output_type": "stream",
     "text": [
      "\n",
      "Enter Sentence: hi there\n",
      "\n",
      "After SPLITTING:  ['hi', 'there']\n",
      "\n",
      "After JOINING:  hi_there\n"
     ]
    }
   ],
   "source": [
    "# Write a Python program to split and join a string?\n",
    " \n",
    "    \n",
    "sentence = input('\\nEnter Sentence: ')\n",
    "splitted = [i for i in sentence.split()]\n",
    "print('\\nAfter SPLITTING: ', splitted)\n",
    "print('\\nAfter JOINING: ', '_'.join(splitted))\n",
    "            \n",
    "        "
   ]
  },
  {
   "cell_type": "markdown",
   "id": "c3079021",
   "metadata": {},
   "source": [
    "### Question 4:"
   ]
  },
  {
   "cell_type": "code",
   "execution_count": 35,
   "id": "4ee7bc7f",
   "metadata": {},
   "outputs": [
    {
     "name": "stdout",
     "output_type": "stream",
     "text": [
      "BINARY CHECK\n",
      "\n",
      "\n",
      "Enter String: 1010\n",
      "\n",
      "Is \"1010\" a Binary String: True\n",
      "\n",
      "Enter 'y' to Continue, ANY OTHER key to exit: y\n",
      "\n",
      "Enter String: 1010g\n",
      "\n",
      "Is \"1010g\" a Binary String: False\n",
      "\n",
      "Enter 'y' to Continue, ANY OTHER key to exit: n\n",
      "\n",
      "\t\t\tTHANKYOU\n"
     ]
    }
   ],
   "source": [
    "# Write a Python to check if a given string is binary string or not?\n",
    "\n",
    "\n",
    "def checkbinary(string):\n",
    "    \n",
    "    binary = ['0','1']\n",
    "    for i in set(string):\n",
    "        if i not in binary:\n",
    "            return False\n",
    "    \n",
    "    return True\n",
    "    \n",
    "\n",
    "if __name__ == '__main__':\n",
    "    print('BINARY CHECK\\n')\n",
    "    while True:\n",
    "        string = input('\\nEnter String: ')\n",
    "        print('\\nIs \"{}\" a Binary String: {}'.format(string, checkbinary(string)))\n",
    "        \n",
    "        ch = input(\"\\nEnter 'y' to Continue, ANY OTHER key to exit: \" )\n",
    "        if ch == 'y' or ch =='Y':\n",
    "            continue\n",
    "        else:\n",
    "            print('\\n\\t\\t\\tTHANKYOU')\n",
    "            break"
   ]
  },
  {
   "cell_type": "markdown",
   "id": "775c4f21",
   "metadata": {},
   "source": [
    "### Question 5:"
   ]
  },
  {
   "cell_type": "code",
   "execution_count": 38,
   "id": "05bbd45a",
   "metadata": {},
   "outputs": [
    {
     "name": "stdout",
     "output_type": "stream",
     "text": [
      "FIND UNCOMMON WORDS\n",
      "\n",
      "\n",
      "Enter String 1: blue black pink green hi hello\n",
      "Enter String 2: blue black pink green Red hello\n",
      "\n",
      "OUTPUT:  ['hi', 'Red']\n",
      "\n",
      "Enter 'y' to Continue, ANY OTHER key to exit: n\n",
      "\n",
      "\t\t\tTHANKYOU\n"
     ]
    }
   ],
   "source": [
    "# Write a Python program to find uncommon words from two Strings?\n",
    "\n",
    "\n",
    "def uncommon(string_A, string_B):\n",
    "    \n",
    "    newlist = []\n",
    "    for a in set(string_A):\n",
    "        if a not in set(string_B):\n",
    "            newlist.append(a)\n",
    "    \n",
    "    for b in string_B:\n",
    "        if (b not in string_A) and (b not in newlist):\n",
    "            newlist.append(b)\n",
    "    \n",
    "    return newlist\n",
    "    \n",
    "    \n",
    "if __name__ == '__main__':\n",
    "    \n",
    "    print('FIND UNCOMMON WORDS\\n')\n",
    "    \n",
    "    while True:\n",
    "        s1 = list(input('\\nEnter String 1: ').split())\n",
    "        s2 = list(input('Enter String 2: ').split())\n",
    "        print('\\nOUTPUT: ', uncommon(s1, s2))\n",
    "        \n",
    "        ch = input(\"\\nEnter 'y' to Continue, ANY OTHER key to exit: \" )\n",
    "        if ch == 'y' or ch =='Y':\n",
    "            continue\n",
    "        else:\n",
    "            print('\\n\\t\\t\\tTHANKYOU')\n",
    "            break"
   ]
  },
  {
   "cell_type": "markdown",
   "id": "d728da9c",
   "metadata": {},
   "source": [
    "### Queston 6: \n"
   ]
  },
  {
   "cell_type": "code",
   "execution_count": 42,
   "id": "c6c5e4ff",
   "metadata": {},
   "outputs": [
    {
     "name": "stdout",
     "output_type": "stream",
     "text": [
      "DUPLICATES IN A STRING\n",
      "\n",
      "\n",
      "Enter String: hello\n",
      "\n",
      "OUTPUT:  ['l']\n",
      "\n",
      "Enter 'y' to Continue, ANY OTHER key to exit: n\n",
      "\n",
      "\t\t\tTHANKYOU\n"
     ]
    }
   ],
   "source": [
    "# Write a Python to find all duplicate characters in string?\n",
    "\n",
    "\n",
    "from collections import Counter\n",
    "\n",
    "def duplicates(chars):\n",
    "    \n",
    "    myduplicate = []\n",
    "    mydict = Counter(chars)\n",
    "    \n",
    "    for key, value in mydict.items():\n",
    "        if value > 1:\n",
    "            myduplicate.append(key)\n",
    "    \n",
    "    return myduplicate\n",
    "\n",
    "\n",
    "if __name__ == '__main__':\n",
    "    \n",
    "    print('DUPLICATES IN A STRING\\n')\n",
    "    \n",
    "    while True:\n",
    "        string = input('\\nEnter String: ')\n",
    "        print('\\nOUTPUT: ', duplicates(string))\n",
    "        \n",
    "        ch = input(\"\\nEnter 'y' to Continue, ANY OTHER key to exit: \" )\n",
    "        if ch == 'y' or ch =='Y':\n",
    "            continue\n",
    "        else:\n",
    "            print('\\n\\t\\t\\tTHANKYOU')\n",
    "            break    "
   ]
  },
  {
   "cell_type": "markdown",
   "id": "fe6d88d6",
   "metadata": {},
   "source": [
    "### Question 7:"
   ]
  },
  {
   "cell_type": "code",
   "execution_count": 61,
   "id": "dd66f0e7",
   "metadata": {},
   "outputs": [
    {
     "name": "stdout",
     "output_type": "stream",
     "text": [
      "SPECIAL CHARACTERS IN A STRING\n",
      "\n",
      "\n",
      "Enter String: hello\n",
      "\n",
      "OUTPUT:  False\n",
      "\n",
      "Enter 'y' to Continue, ANY OTHER key to exit: y\n",
      "\n",
      "Enter String: hello?\n",
      "\n",
      "OUTPUT:  True\n",
      "\n",
      "Enter 'y' to Continue, ANY OTHER key to exit: n\n",
      "\n",
      "\t\t\tTHANKYOU\n"
     ]
    }
   ],
   "source": [
    "#  Write a Python Program to check if a string contains any special character?\n",
    "\n",
    "\n",
    "def checkSpecial(string):\n",
    "    special = '''<[{(~`@#%^&*_-+=:;\"',./?)}]>'''\n",
    "    for char in string:\n",
    "        if char in special:\n",
    "            return True\n",
    "    return False\n",
    "\n",
    "if __name__ == '__main__':\n",
    "    \n",
    "    print('SPECIAL CHARACTERS IN A STRING\\n')\n",
    "    \n",
    "    while True:\n",
    "        string = input('\\nEnter String: ')\n",
    "        print('\\nOUTPUT: ', checkSpecial(string))\n",
    "        \n",
    "        ch = input(\"\\nEnter 'y' to Continue, ANY OTHER key to exit: \" )\n",
    "        if ch == 'y' or ch =='Y':\n",
    "            continue\n",
    "        else:\n",
    "            print('\\n\\t\\t\\tTHANKYOU')\n",
    "            break    "
   ]
  }
 ],
 "metadata": {
  "kernelspec": {
   "display_name": "Python 3 (ipykernel)",
   "language": "python",
   "name": "python3"
  },
  "language_info": {
   "codemirror_mode": {
    "name": "ipython",
    "version": 3
   },
   "file_extension": ".py",
   "mimetype": "text/x-python",
   "name": "python",
   "nbconvert_exporter": "python",
   "pygments_lexer": "ipython3",
   "version": "3.9.12"
  }
 },
 "nbformat": 4,
 "nbformat_minor": 5
}
