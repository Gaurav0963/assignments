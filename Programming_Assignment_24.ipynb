{
 "cells": [
  {
   "cell_type": "markdown",
   "id": "a231ff25",
   "metadata": {},
   "source": [
    "# PROGRAMMING ASSIGNMENT 24"
   ]
  },
  {
   "cell_type": "markdown",
   "id": "ec53717e",
   "metadata": {},
   "source": [
    "### QUESTION 1"
   ]
  },
  {
   "cell_type": "code",
   "execution_count": 3,
   "id": "033b245f",
   "metadata": {},
   "outputs": [
    {
     "name": "stdout",
     "output_type": "stream",
     "text": [
      "\n",
      "Enter a Natural Number: 4\n",
      "LIST :  [1, 2, 3, 40]\n",
      "\n",
      "Enter y to continue; press any other key to exit: y\n",
      "\n",
      "Enter a Natural Number: 3\n",
      "LIST :  [1, 2, 3]\n",
      "\n",
      "Enter y to continue; press any other key to exit: y\n",
      "\n",
      "Enter a Natural Number: 25\n",
      "LIST :  [1, 2, 3, 40, 5, 6, 7, 80, 9, 10, 11, 120, 13, 14, 15, 160, 17, 18, 19, 200, 21, 22, 23, 240, 25]\n",
      "\n",
      "Enter y to continue; press any other key to exit: n\n",
      "\n",
      "\t\t\t\t EXITING...\n"
     ]
    }
   ],
   "source": [
    "# QUESTION 1 : Create a function that takes an integer and returns a list from 1 to the given number, where:\n",
    "# 1. If the number can be divided evenly by 4, amplify it by 10 (i.e. return 10 times the number).\n",
    "# 2. If the number cannot be divided evenly by 4, simply return the number.\n",
    "\n",
    "def amplify(num):\n",
    "    mylist = []\n",
    "    for i in range(1, num+1):\n",
    "        if i%4 == 0:\n",
    "            mylist.append(i*10)\n",
    "        else:\n",
    "            mylist.append(i)\n",
    "    return mylist\n",
    "\n",
    "if __name__ == '__main__':\n",
    "    \n",
    "    while True:\n",
    "        try:\n",
    "            n = int(input('\\nEnter a Natural Number: '))\n",
    "            result = amplify(n)\n",
    "            print('LIST : ', result)\n",
    "            choice = input('\\nEnter y to continue; press any other key to exit: ')\n",
    "            if choice == 'y' or choice == 'Y':\n",
    "                continue\n",
    "            else:\n",
    "                print('\\n\\t\\t\\t\\t EXITING...')\n",
    "                break\n",
    "            \n",
    "        \n",
    "        except ValueError as v:\n",
    "            print(v)\n",
    "            \n",
    "            "
   ]
  },
  {
   "cell_type": "markdown",
   "id": "cf7d0e94",
   "metadata": {},
   "source": [
    "### QUESTION 2"
   ]
  },
  {
   "cell_type": "code",
   "execution_count": 5,
   "id": "6876116e",
   "metadata": {},
   "outputs": [
    {
     "name": "stdout",
     "output_type": "stream",
     "text": [
      "\n",
      "Enter : 1 1 1 1 1 2 1 1 1\n",
      "\n",
      "Unique number is:  2.0\n",
      "\n",
      "Enter y to continue; press any other key to exit: y\n",
      "\n",
      "Enter : 0 0 0 0 0.77 0 0 0\n",
      "\n",
      "Unique number is:  0.77\n",
      "\n",
      "Enter y to continue; press any other key to exit: n\n",
      "\n",
      "\t\t\t\t EXITING...\n"
     ]
    }
   ],
   "source": [
    "# Create a function that takes a list of numbers and return the number that's unique.\n",
    "\n",
    "\n",
    "from collections import Counter\n",
    "\n",
    "def unique(array):\n",
    "    mydict = Counter(array)\n",
    "    for item in mydict.items():\n",
    "        if item[1] == 1:\n",
    "            return item[0]\n",
    "\n",
    "if __name__ == '__main__':\n",
    "    while True:\n",
    "        try:\n",
    "            data = list(map(float, input('\\nEnter : ').split()))\n",
    "            print('\\nUnique number is: ', unique(data))\n",
    "            choice = input('\\nEnter y to continue; press any other key to exit: ')\n",
    "            if choice == 'y' or choice == 'Y':\n",
    "                continue\n",
    "            else:\n",
    "                print('\\n\\t\\t\\t\\t EXITING...')\n",
    "                break\n",
    "            \n",
    "        except ValueError as v:\n",
    "            print(v)"
   ]
  },
  {
   "cell_type": "markdown",
   "id": "0589d321",
   "metadata": {},
   "source": [
    "### QUESTION 3"
   ]
  },
  {
   "cell_type": "code",
   "execution_count": 2,
   "id": "98745c1f",
   "metadata": {},
   "outputs": [
    {
     "name": "stdout",
     "output_type": "stream",
     "text": [
      "201\n",
      "50\n"
     ]
    }
   ],
   "source": [
    "# Getters methods are used to access the private attributes from a class.\n",
    "# We can also use property to call getter method.\n",
    "\n",
    "class Circle():\n",
    "    def __init__(self, r):\n",
    "        self.radius = r\n",
    "    \n",
    "    @property     \n",
    "    def getArea(self):\n",
    "        return self.radius**2*3.14\n",
    "    \n",
    "    @property\n",
    "    def getPerimeter(self):\n",
    "        return 2*self.radius*3.14\n",
    "\n",
    "NewCircle = Circle(8)\n",
    "print(round(NewCircle.getArea))\n",
    "print(round(NewCircle.getPerimeter))"
   ]
  },
  {
   "cell_type": "markdown",
   "id": "15f8e596",
   "metadata": {},
   "source": [
    "### QUESTION 4"
   ]
  },
  {
   "cell_type": "code",
   "execution_count": 13,
   "id": "dc3b8247",
   "metadata": {},
   "outputs": [
    {
     "name": "stdout",
     "output_type": "stream",
     "text": [
      "\n",
      "How many entries would you like to make: 4\n",
      "Entry 1: hello\n",
      "Entry 2: hola\n",
      "Entry 3: hi\n",
      "Entry 4: hey\n",
      "\n",
      "Sorted by Length(asc order):  ['hi', 'hey', 'hola', 'hello']\n",
      "\n",
      "Enter y to continue; press any other key to exit: y\n",
      "\n",
      "How many entries would you like to make: 1.2\n",
      "invalid literal for int() with base 10: '1.2'\n",
      "\n",
      "Enter y to continue; press any other key to exit: n\n",
      "\n",
      "\t\t\t\t EXITING...\n"
     ]
    }
   ],
   "source": [
    "# Create a function that takes a list of strings and return a list, sorted from shortest to longest.\n",
    "\n",
    "def sort_by_length(array):\n",
    "    array.sort(key=len)\n",
    "    return array\n",
    "\n",
    "if __name__ == '__main__':\n",
    "    while True:\n",
    "        lst = []\n",
    "        try:\n",
    "            num = int(input('\\nHow many entries would you like to make: '))\n",
    "            for i in range(num):\n",
    "                ar = input('Entry {}: '.format(i+1))\n",
    "                lst.append(ar)\n",
    "            print('\\nSorted by Length(asc order): ', sort_by_length(lst))    \n",
    "       \n",
    "        except ValueError as v:\n",
    "            print(v)\n",
    "       \n",
    "        choice = input('\\nEnter y to continue; press any other key to exit: ')\n",
    "        if choice == 'y' or choice == 'Y':\n",
    "            continue\n",
    "        else:\n",
    "            print('\\n\\t\\t\\t\\t EXITING...')\n",
    "            break\n",
    "            \n",
    "        \n",
    "    "
   ]
  },
  {
   "cell_type": "markdown",
   "id": "7cdf4ccf",
   "metadata": {},
   "source": [
    "### QUESTION 5"
   ]
  },
  {
   "cell_type": "code",
   "execution_count": 1,
   "id": "4f24bf1f",
   "metadata": {},
   "outputs": [
    {
     "name": "stdout",
     "output_type": "stream",
     "text": [
      "\n",
      "Enter First Number: 1\n",
      "Enter Second Number: 3\n",
      "Enter Third Number: 5\n",
      "\n",
      "\n",
      "False\n",
      "\n",
      "Enter y to continue; press any other key to exit: Y\n",
      "\n",
      "Enter First Number: 3\n",
      "Enter Second Number: 4\n",
      "Enter Third Number: 5\n",
      "\n",
      "\n",
      "True\n",
      "\n",
      "Enter y to continue; press any other key to exit: N\n",
      "\n",
      "\t\t\t\t EXITING...\n"
     ]
    }
   ],
   "source": [
    "# Create a function that validates whether three given integers form a Pythagorean triplet.\n",
    "# The sum of the squares of the two smallest integers must equal the square of the largest number to be validated.\n",
    "\n",
    "\n",
    "def is_triplet(a, b, c):\n",
    "    lst = []\n",
    "    lst.append(a)\n",
    "    lst.append(b)\n",
    "    lst.append(c)\n",
    "    lst.sort()\n",
    "    if (lst[0]**2 + lst[1]**2) == lst[2]**2:\n",
    "        return True\n",
    "    else:\n",
    "        return False\n",
    "    \n",
    "if __name__ == '__main__':\n",
    "    \n",
    "    while True:\n",
    "        try:\n",
    "            x = int(input('\\nEnter First Number: '))\n",
    "            y = int(input('Enter Second Number: '))\n",
    "            z = int(input('Enter Third Number: '))\n",
    "            print('\\n')\n",
    "            print(is_triplet(x, y, z))\n",
    "            \n",
    "        except ValueError as v:\n",
    "            print(v)\n",
    "        \n",
    "        choice = input('\\nEnter y to continue; press any other key to exit: ')\n",
    "        if choice == 'y' or choice == 'Y':\n",
    "            continue\n",
    "        else:\n",
    "            print('\\n\\t\\t\\t\\t EXITING...')\n",
    "            break\n",
    "            \n",
    "    "
   ]
  }
 ],
 "metadata": {
  "kernelspec": {
   "display_name": "Python 3 (ipykernel)",
   "language": "python",
   "name": "python3"
  },
  "language_info": {
   "codemirror_mode": {
    "name": "ipython",
    "version": 3
   },
   "file_extension": ".py",
   "mimetype": "text/x-python",
   "name": "python",
   "nbconvert_exporter": "python",
   "pygments_lexer": "ipython3",
   "version": "3.9.12"
  }
 },
 "nbformat": 4,
 "nbformat_minor": 5
}
