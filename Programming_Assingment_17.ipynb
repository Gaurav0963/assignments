{
 "cells": [
  {
   "cell_type": "markdown",
   "id": "e0260fa2",
   "metadata": {},
   "source": [
    "# PROGRAMMING ASSIGNMENT 17"
   ]
  },
  {
   "cell_type": "code",
   "execution_count": null,
   "id": "93ec5e67",
   "metadata": {},
   "outputs": [],
   "source": []
  },
  {
   "cell_type": "markdown",
   "id": "28a4df6b",
   "metadata": {},
   "source": [
    "### Question 1"
   ]
  },
  {
   "cell_type": "code",
   "execution_count": 1,
   "id": "f4fa7ed2",
   "metadata": {},
   "outputs": [
    {
     "data": {
      "text/plain": [
       "30"
      ]
     },
     "execution_count": 1,
     "metadata": {},
     "output_type": "execute_result"
    }
   ],
   "source": [
    "# Create a function that takes three arguments a, b, c and returns the sum of the\n",
    "# numbers that are evenly divided by c from the range a, b inclusive.\n",
    "\n",
    "\n",
    "def evenly_divisible(a, b, c):\n",
    "    \n",
    "    return sum(num for num in range(a, b+1) if num % c == 0)\n",
    "\n",
    "\n",
    "evenly_divisible(1, 10, 2)"
   ]
  },
  {
   "cell_type": "code",
   "execution_count": 2,
   "id": "2be2f80d",
   "metadata": {},
   "outputs": [
    {
     "data": {
      "text/plain": [
       "18"
      ]
     },
     "execution_count": 2,
     "metadata": {},
     "output_type": "execute_result"
    }
   ],
   "source": [
    "evenly_divisible(1, 10, 3)"
   ]
  },
  {
   "cell_type": "markdown",
   "id": "793e7357",
   "metadata": {},
   "source": [
    "### Question 2"
   ]
  },
  {
   "cell_type": "code",
   "execution_count": 12,
   "id": "62166863",
   "metadata": {},
   "outputs": [
    {
     "data": {
      "text/plain": [
       "True"
      ]
     },
     "execution_count": 12,
     "metadata": {},
     "output_type": "execute_result"
    }
   ],
   "source": [
    "# Create a function that returns True if a given inequality expression is correct and False otherwise.\n",
    "\n",
    "\n",
    "def correct_signs(data):\n",
    "    \n",
    "    result = eval(data)\n",
    "    \n",
    "    if result:\n",
    "        return True\n",
    "    return False\n",
    "        \n",
    "    \n",
    "correct_signs('1 < 2 < 6 < 9 > 3')"
   ]
  },
  {
   "cell_type": "code",
   "execution_count": 13,
   "id": "08363cf1",
   "metadata": {},
   "outputs": [
    {
     "data": {
      "text/plain": [
       "False"
      ]
     },
     "execution_count": 13,
     "metadata": {},
     "output_type": "execute_result"
    }
   ],
   "source": [
    "correct_signs('1 < 2 < 6 < 9 < 1')"
   ]
  },
  {
   "cell_type": "markdown",
   "id": "87b2640e",
   "metadata": {},
   "source": [
    "### Question 3"
   ]
  },
  {
   "cell_type": "code",
   "execution_count": 17,
   "id": "1276c182",
   "metadata": {},
   "outputs": [
    {
     "data": {
      "text/plain": [
       "'H*ll* w*rld'"
      ]
     },
     "execution_count": 17,
     "metadata": {},
     "output_type": "execute_result"
    }
   ],
   "source": [
    "# Create a function that replaces all the vowels in a string with a specified character.\n",
    "\n",
    "\n",
    "def replace_vowels(word, character):\n",
    "    \n",
    "    vowels = 'aieouAEIOU'\n",
    "    for letter in word:\n",
    "        if letter in vowels:\n",
    "            word = word.replace(letter, character)\n",
    "        \n",
    "    return word\n",
    "\n",
    "\n",
    "replace_vowels(\"Hello world\", '*')"
   ]
  },
  {
   "cell_type": "markdown",
   "id": "d6e2fa16",
   "metadata": {},
   "source": [
    "### Question 4"
   ]
  },
  {
   "cell_type": "code",
   "execution_count": 8,
   "id": "3200215a",
   "metadata": {},
   "outputs": [
    {
     "data": {
      "text/plain": [
       "720"
      ]
     },
     "execution_count": 8,
     "metadata": {},
     "output_type": "execute_result"
    }
   ],
   "source": [
    "# Write a function that calculates the factorial of a number recursively.\n",
    "\n",
    "\n",
    "def factorial(n):\n",
    "    if type(n) == int:\n",
    "        if n == 0:\n",
    "            return 1\n",
    "        elif n < 0:\n",
    "            return \"oops! can't calculate factorial for negative numbers\"\n",
    "        \n",
    "        return factorial(n-1)*n\n",
    "    \n",
    "    return \"Please Enter Positive INTEGER\"\n",
    "\n",
    "\n",
    "factorial(6)"
   ]
  },
  {
   "cell_type": "markdown",
   "id": "3298a372",
   "metadata": {},
   "source": [
    "### Question 5"
   ]
  },
  {
   "cell_type": "code",
   "execution_count": 10,
   "id": "fcada3e8",
   "metadata": {},
   "outputs": [
    {
     "data": {
      "text/plain": [
       "5"
      ]
     },
     "execution_count": 10,
     "metadata": {},
     "output_type": "execute_result"
    }
   ],
   "source": [
    "# Hamming distance is the number of characters that differ between two strings.\n",
    "# Create a function that computes the hamming distance between two strings.\n",
    "\n",
    "\n",
    "def hamming_distance(string1, string2):\n",
    "    \n",
    "    count = 0\n",
    "    \n",
    "    try:\n",
    "        for i, j in zip(string1, string2):\n",
    "            if i != j:\n",
    "                count+=1\n",
    "                \n",
    "    except TypeError as t: # if non-iterable obj is passed in the function because i am using zip() here\n",
    "        return t\n",
    "    \n",
    "    return count\n",
    "\n",
    "\n",
    "\n",
    "hamming_distance('aabcdef', 'abcdeff')\n",
    "# hamming_distance(1111, 2222)"
   ]
  },
  {
   "cell_type": "code",
   "execution_count": null,
   "id": "36eaaeea",
   "metadata": {},
   "outputs": [],
   "source": []
  }
 ],
 "metadata": {
  "kernelspec": {
   "display_name": "Python 3 (ipykernel)",
   "language": "python",
   "name": "python3"
  },
  "language_info": {
   "codemirror_mode": {
    "name": "ipython",
    "version": 3
   },
   "file_extension": ".py",
   "mimetype": "text/x-python",
   "name": "python",
   "nbconvert_exporter": "python",
   "pygments_lexer": "ipython3",
   "version": "3.9.12"
  }
 },
 "nbformat": 4,
 "nbformat_minor": 5
}
