{
 "cells": [
  {
   "cell_type": "code",
   "execution_count": 1,
   "id": "3ca1a123",
   "metadata": {},
   "outputs": [
    {
     "name": "stdout",
     "output_type": "stream",
     "text": [
      "\n",
      "Enter First Number: 12\n",
      "Enter Second Number: 13\n",
      "Enter Third Number: 13\n",
      "\n",
      "Equal Value : 2\n"
     ]
    }
   ],
   "source": [
    "# QUESTION : 1\n",
    "# Create a function that takes three integer arguments (a, b, c) and returns the amount of integers which are of equal value.\n",
    "\n",
    "def equal(a, b, c):\n",
    "    if a==b==c:\n",
    "        return 3\n",
    "    elif a==b or a==c or b==c:\n",
    "        return 2\n",
    "    else:\n",
    "        return 0\n",
    "\n",
    "try:\n",
    "    a = int(input('\\nEnter First Number: ')) \n",
    "    b = int(input('Enter Second Number: ')) \n",
    "    c = int(input('Enter Third Number: '))\n",
    "    result = equal(a, b, c)\n",
    "    print('\\nEqual Value :',result)\n",
    "        \n",
    "except ValueError as v:\n",
    "    print('')\n",
    "    print(v, '\\nInteger Input Expected')\n",
    "\n"
   ]
  },
  {
   "cell_type": "code",
   "execution_count": 6,
   "id": "7c052e41",
   "metadata": {},
   "outputs": [
    {
     "name": "stdout",
     "output_type": "stream",
     "text": [
      "Number of items: 5\n",
      "Key Value pair 1: t 20\n",
      "Key Value pair 2: y 25\n",
      "Key Value pair 3: e 5\n",
      "Key Value pair 4: o 15\n",
      "Key Value pair 5: j 10\n",
      "\n",
      "DICTIONARY: {'t': '20', 'y': '25', 'e': '5', 'o': '15', 'j': '10'}\n",
      "\n",
      "LIST of Key Value TUPLES:\n",
      " [('e', '5'), ('j', '10'), ('o', '15'), ('t', '20'), ('y', '25')]\n"
     ]
    }
   ],
   "source": [
    "# QUESTION : 2\n",
    "# Write a function that converts a dictionary into a list of keys-values tuples.\n",
    "\n",
    "def dict_to_list(data):\n",
    "    print('\\nDICTIONARY:', data)\n",
    "    return sorted(list(data.items()))\n",
    "\n",
    "if __name__ == '__main__':\n",
    "    try:\n",
    "        n = int(input('Number of items: '))          #n is the number of items user wants to enter\n",
    "        d ={}                     \n",
    "        for i in range(n):        \n",
    "            text = input('Key Value pair {}: '.format(i+1)).split()     #split the input text based on space & store in the list 'text'\n",
    "            d[text[0]] = text[1]\n",
    "        result = dict_to_list(d)\n",
    "        print('\\nLIST of Key Value TUPLES:\\n',result)\n",
    "    \n",
    "    except IndexError as ie:\n",
    "        print(ie, '\\nEnter keys <space> values')\n",
    "        \n",
    "    except ValueError as v:\n",
    "        print(v)\n",
    "    "
   ]
  },
  {
   "cell_type": "code",
   "execution_count": 7,
   "id": "890f29e8",
   "metadata": {},
   "outputs": [
    {
     "name": "stdout",
     "output_type": "stream",
     "text": [
      "NOTE :: Only LOWERCASE Alphabets are accepted in the dictionary,\n",
      "\teverything else will be discarded.\n",
      "\n",
      "Enter only lowercase aplhabets as keys: \n",
      "a 5 b 8 c\n",
      "\n",
      "Dictionary:\n",
      " {'a': 'A', 'b': 'B', 'c': 'C'}\n"
     ]
    }
   ],
   "source": [
    "# QUESTION : 3\n",
    "# Write a function that creates a dictionary with each (key, value) pair being the (lower case,upper case) versions of a letter, respectively.\n",
    "\n",
    "def Upper_Value(mylist):\n",
    "#   to discard anything other than LOWERCASE letters or words.\n",
    "    new_list = [i for i in mylist if i.islower()]\n",
    "    d = {i: i.upper() for i in new_list}\n",
    "    print('\\nDictionary:\\n',d)\n",
    "            \n",
    "if __name__ == '__main__':\n",
    "    print('NOTE :: Only LOWERCASE Alphabets are accepted in the dictionary,\\n\\teverything else will be discarded.')\n",
    "    ar = list(input(\"\\nEnter only lowercase aplhabets as keys: \\n\").split())\n",
    "    Upper_Value(ar)"
   ]
  },
  {
   "cell_type": "code",
   "execution_count": 8,
   "id": "76dc9267",
   "metadata": {},
   "outputs": [
    {
     "name": "stdout",
     "output_type": "stream",
     "text": [
      "This program will replace all vowels in string with a vowel specified by user\n",
      "\n",
      "Enter String: apples and bananas\n",
      "\n",
      "Enter vowel: u\n",
      "After Replacing : upplus und bununus\n"
     ]
    }
   ],
   "source": [
    "# QUESTION : 4\n",
    "# Write a function, that replaces all vowels in a string with a specified vowel.\n",
    "\n",
    "def vow_replace(string, vow):\n",
    "    for i in vowels:\n",
    "        string = string.replace(i, vow)\n",
    "    return string\n",
    "\n",
    "if __name__ == '__main__':\n",
    "    print('This program will replace all vowels in string with a vowel specified by user\\n')\n",
    "    vowels = 'aeiouAEIOU'\n",
    "    string = input('Enter String: ')\n",
    "    while True:\n",
    "        vowel = input('\\nEnter vowel: ')\n",
    "        \n",
    "#         checking if user enter exactly one vowel\n",
    "\n",
    "        if vowel in vowels and len(vowel) == 1:\n",
    "            res = vow_replace(string, vowel)\n",
    "            print('After Replacing :',res)\n",
    "            break\n",
    "        else:\n",
    "            print(\"INCORRECT INPUT\")\n",
    "            print('\\nChoose one vowel from (a,e,i,o,u)')\n",
    "            \n",
    "#             asking if user wishes to insert correct input\n",
    "            choice = input(\"\\nEnter 'y' to continue, press any other key to exit: \" )\n",
    "            if choice == 'y' or choice =='Y':\n",
    "                continue\n",
    "            else:\n",
    "                print('\\n\\nThankyou')\n",
    "                break\n",
    "        \n",
    "    "
   ]
  },
  {
   "cell_type": "code",
   "execution_count": 10,
   "id": "29eb4d98",
   "metadata": {},
   "outputs": [
    {
     "name": "stdout",
     "output_type": "stream",
     "text": [
      "Enter the String: to be or not to be!\n",
      "Result:  To Be oR NoT To Be!\n",
      "\n",
      "Enter 'y' to continue: y\n",
      "Enter the String: THIS IS MERMAID\n",
      "Result:  THis is meRmaiD\n",
      "\n",
      "Enter 'y' to continue: Y\n",
      "Enter the String: Oh what a beautiful morning.\n",
      "Result:  oH wHaT a BeauTiFuL moRNiNg.\n",
      "\n",
      "Enter 'y' to continue: n\n",
      "PROGRAM EXITING...\n"
     ]
    }
   ],
   "source": [
    "# QUESTION : 5\n",
    "# Create a function that takes a string as input and capitalizes a letter if its ASCII code is even and returns its lower case version if its ASCII code is odd.\n",
    "\n",
    "def ascii_capitalize(string):\n",
    "    alist=[]\n",
    "    for i in string:\n",
    "        if ord(i)%2 == 0:\n",
    "            alist.append(i.upper())\n",
    "        else:\n",
    "            alist.append(i.lower())\n",
    "    return ''.join(alist)            \n",
    "\n",
    "\n",
    "if __name__ == '__main__':\n",
    "    while True:\n",
    "        st = input('Enter the String: ')\n",
    "        result = ascii_capitalize(st)\n",
    "        print('Result: ',result)\n",
    "        choice = input(\"\\nEnter 'y' to continue: \")\n",
    "        if choice == 'y' or choice =='Y':\n",
    "            continue\n",
    "        else:\n",
    "            print('PROGRAM EXITING...')\n",
    "            break\n",
    "    \n",
    "   "
   ]
  },
  {
   "cell_type": "code",
   "execution_count": null,
   "id": "74731e2b",
   "metadata": {},
   "outputs": [],
   "source": []
  }
 ],
 "metadata": {
  "kernelspec": {
   "display_name": "Python 3 (ipykernel)",
   "language": "python",
   "name": "python3"
  },
  "language_info": {
   "codemirror_mode": {
    "name": "ipython",
    "version": 3
   },
   "file_extension": ".py",
   "mimetype": "text/x-python",
   "name": "python",
   "nbconvert_exporter": "python",
   "pygments_lexer": "ipython3",
   "version": "3.9.12"
  }
 },
 "nbformat": 4,
 "nbformat_minor": 5
}
