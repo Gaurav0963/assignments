{
 "cells": [
  {
   "cell_type": "code",
   "execution_count": 1,
   "id": "c8f09f8b",
   "metadata": {},
   "outputs": [
    {
     "name": "stdout",
     "output_type": "stream",
     "text": [
      "SUM OF ARRAY\n",
      "\n",
      "Enter elements in list with space in between\n",
      "Enter List: 1 2.2 3 4\n",
      "The sum of array:  10.2\n",
      "\n",
      "Enter 'y' to continue, Press ANY OTHER key to exit: Y\n",
      "Enter List: 10 11 12 13.1\n",
      "The sum of array:  46.1\n",
      "\n",
      "Enter 'y' to continue, Press ANY OTHER key to exit: N\n"
     ]
    }
   ],
   "source": [
    "# QUESTION 1: Write a Python Program to find sum of array?\n",
    "\n",
    "def sum_array(array):\n",
    "    return sum(i for i in array)\n",
    "\n",
    "if __name__ == '__main__':\n",
    "    \n",
    "    print('SUM OF ARRAY')\n",
    "    print('\\nEnter elements in list with space in between')\n",
    "    \n",
    "    while True:\n",
    "        try:\n",
    "            \n",
    "            lst = list(map(float, input('Enter List: ').split()))\n",
    "            print('The sum of array: ', sum_array(lst))\n",
    "        except ValueError as v:\n",
    "            print(v)\n",
    "        \n",
    "        choice = input(\"\\nEnter 'y' to continue, Press ANY OTHER key to exit: \")\n",
    "        if choice == 'y' or choice =='Y':\n",
    "            continue\n",
    "        else:\n",
    "            break        \n",
    "            \n",
    "            "
   ]
  },
  {
   "cell_type": "code",
   "execution_count": 2,
   "id": "b8ddaa0f",
   "metadata": {
    "scrolled": false
   },
   "outputs": [
    {
     "name": "stdout",
     "output_type": "stream",
     "text": [
      "LARGEST ELEMENT IN ARRAY\n",
      "\n",
      "Enter elements in list with space in between\n",
      "Enter List: 1 2 12 1000 15.2 111 33 458 900 1000.1\n",
      "The Largest Element:  1000.1\n",
      "\n",
      "Enter 'y' to continue, Press ANY OTHER key to exit: Y\n",
      "Enter List: 1 2 9 4 5 6 8 7 3\n",
      "The Largest Element:  9.0\n",
      "\n",
      "Enter 'y' to continue, Press ANY OTHER key to exit: N\n"
     ]
    }
   ],
   "source": [
    "# QUESTION 2 : Write a Python Program to find largest element in an array?\n",
    "\n",
    "def largest_ele(array):\n",
    "    array.sort(reverse=True)\n",
    "    return array[0]\n",
    "\n",
    "if __name__ == '__main__':\n",
    "    \n",
    "    print('LARGEST ELEMENT IN ARRAY')\n",
    "    print('\\nEnter elements in list with space in between')\n",
    "    \n",
    "    while True:\n",
    "        try:\n",
    "            lst = list(map(float, input('Enter List: ').split()))\n",
    "            print('The Largest Element: ', largest_ele(lst))\n",
    "        \n",
    "        except ValueError as v:\n",
    "            print(v)\n",
    "        \n",
    "        choice = input(\"\\nEnter 'y' to continue, Press ANY OTHER key to exit: \")\n",
    "        if choice == 'y' or choice =='Y':\n",
    "            continue\n",
    "        else:\n",
    "            break     \n",
    "    "
   ]
  },
  {
   "cell_type": "code",
   "execution_count": 3,
   "id": "dbc4c4f6",
   "metadata": {},
   "outputs": [
    {
     "name": "stdout",
     "output_type": "stream",
     "text": [
      "\n",
      "Enter elements in list with space in between\n",
      "Enter List Elements: 1 2 3 4 5 6 7 8 9\n",
      "Enter the index: 2\n",
      "1. Right Rotation \n",
      "2. Left Rotation \n",
      "Enter your choice (1/2): 1\n",
      "\n",
      "BeforeRight Rotation:   1  2  3  4  5  6  7  8  9\n",
      "After Right Rotation:   8  9  1  2  3  4  5  6  7\n",
      "\n",
      "Enter 'y' to continue, Press ANY OTHER key to exit: Y\n",
      "Enter List Elements: 1 2 3 4 5 6 7 8 9\n",
      "Enter the index: 2\n",
      "1. Right Rotation \n",
      "2. Left Rotation \n",
      "Enter your choice (1/2): 2\n",
      "\n",
      "BeforeLeft Rotation:   1  2  3  4  5  6  7  8  9\n",
      "After Left Rotation:   3  4  5  6  7  8  9  1  2\n",
      "\n",
      "Enter 'y' to continue, Press ANY OTHER key to exit: N\n"
     ]
    }
   ],
   "source": [
    "# QUESTION 3: Write a Python Program for array rotation?\n",
    "\n",
    "\n",
    "def left_rotation(array, index):\n",
    "    return array[index:] + array[:index]\n",
    "\n",
    "\n",
    "def right_rotation(array, index):\n",
    "    return array[-index:] + array[:-index]\n",
    "\n",
    "\n",
    "if __name__ == '__main__':\n",
    "\n",
    "    print('\\nEnter elements in list with space in between')\n",
    "    while True:\n",
    "        \n",
    "        lst = input('Enter List Elements: ').split()\n",
    "\n",
    "        try:\n",
    "            idx = int(input('Enter the index: '))\n",
    "            if idx < len(lst):\n",
    "                print('1. Right Rotation ')\n",
    "                print('2. Left Rotation ')\n",
    "                \n",
    "                ch = int(input('Enter your choice (1/2): '))\n",
    "                \n",
    "                if ch == 1:\n",
    "                    result = right_rotation(lst, idx)\n",
    "                    print('\\nBeforeRight Rotation: ', *lst, sep='  ')\n",
    "                    print('After Right Rotation: ', *result, sep='  ')\n",
    "                \n",
    "                elif ch == 2:\n",
    "                    result = left_rotation(lst, idx)\n",
    "                    print('\\nBeforeLeft Rotation: ', *lst, sep='  ')\n",
    "                    print('After Left Rotation: ', *result, sep='  ')\n",
    "                \n",
    "                else:\n",
    "                    print('\\nIncorrect Input')\n",
    "            \n",
    "            else:\n",
    "                print('\\nIndex Out of range')\n",
    "                print('Printing List as it is: ', *lst)\n",
    "\n",
    "        except ValueError as v:\n",
    "            print(v)\n",
    "\n",
    "        choice = input(\"\\nEnter 'y' to continue, Press ANY OTHER key to exit: \")\n",
    "        if choice == 'y' or choice == 'Y':\n",
    "            continue\n",
    "        else:\n",
    "            break\n"
   ]
  },
  {
   "cell_type": "code",
   "execution_count": 4,
   "id": "4d044fe8",
   "metadata": {
    "scrolled": true
   },
   "outputs": [
    {
     "name": "stdout",
     "output_type": "stream",
     "text": [
      "\n",
      "Enter elements in list with space in between\n",
      "Enter List: 1 2 3 4 5 6 7 8 9\n",
      "Enter splitting INDEX :: 4\n",
      "\n",
      "Entered List:\n",
      "  1  2  3  4  5  6  7  8  9\n",
      "\n",
      "After Splitting and Adding:\n",
      "  5  6  7  8  9  1  2  3  4\n",
      "\n",
      "Enter 'y' to continue, Press ANY OTHER key to exit: N\n"
     ]
    }
   ],
   "source": [
    "# QUESTION 4: Write a Python Program to Split the array and add the first part to the end?\n",
    "\n",
    "\n",
    "def split_n_add(array, index):\n",
    "    return array[index:] + array[:index]\n",
    "    \n",
    "if __name__ == '__main__':\n",
    "    \n",
    "    while True:\n",
    "        print('\\nEnter elements in list with space in between')\n",
    "\n",
    "        try:\n",
    "            lst = input('Enter List: ').split()\n",
    "            idx = int(input('Enter splitting INDEX :: '))\n",
    "            print('\\nEntered List:\\n', *lst, sep='  ')\n",
    "            result = split_n_add(lst, idx)\n",
    "            print('\\nAfter Splitting and Adding:\\n', *result, sep='  ')\n",
    "        \n",
    "        except ValueError as v:\n",
    "            print(v)\n",
    "        \n",
    "        choice = input(\"\\nEnter 'y' to continue, Press ANY OTHER key to exit: \")\n",
    "        if choice == 'y' or choice =='Y':\n",
    "            continue\n",
    "        else:\n",
    "            break     \n",
    "    \n",
    "    "
   ]
  },
  {
   "cell_type": "code",
   "execution_count": 6,
   "id": "6049782c",
   "metadata": {},
   "outputs": [
    {
     "name": "stdout",
     "output_type": "stream",
     "text": [
      "\n",
      "Enter elements in list with space in between\n",
      "Enter List: 1 2 3 4 5 6\n",
      "\n",
      "Is array Monotonic:  True\n",
      "\n",
      "Enter 'y' to continue, Press ANY OTHER key to exit: Y\n",
      "Enter List: 2 5 8 3 6 9\n",
      "\n",
      "Is array Monotonic:  False\n",
      "\n",
      "Enter 'y' to continue, Press ANY OTHER key to exit: Y\n",
      "Enter List: 9 7 5 3 1 0\n",
      "\n",
      "Is array Monotonic:  True\n",
      "\n",
      "Enter 'y' to continue, Press ANY OTHER key to exit: Y\n",
      "Enter List: 6 5 1 0.01\n",
      "\n",
      "Is array Monotonic:  True\n",
      "\n",
      "Enter 'y' to continue, Press ANY OTHER key to exit: N\n"
     ]
    }
   ],
   "source": [
    "# QUESTION 5. Write a Python Program to check if given array is Monotonic?\n",
    "\n",
    "def Monotonic(array):\n",
    "    n = len(array)\n",
    "    return (all(array[i] <= array[i+1] for i in range(n-1)) or all(array[i] >= array[i+1] for i in range(n-1)))\n",
    "\n",
    "if __name__ == '__main__':\n",
    "    \n",
    "    print('\\nEnter elements in list with space in between')\n",
    "    \n",
    "    while True:\n",
    "        \n",
    "        try:\n",
    "            array = list(map(float, input('Enter List: ').split()))\n",
    "            print('\\nIs array Monotonic: ',Monotonic(array))\n",
    "        \n",
    "        except ValueError as v:\n",
    "            print(v)\n",
    "        \n",
    "        choice = input(\"\\nEnter 'y' to continue, Press ANY OTHER key to exit: \")\n",
    "        if choice == 'y' or choice =='Y':\n",
    "            continue\n",
    "        else:\n",
    "            break"
   ]
  },
  {
   "cell_type": "code",
   "execution_count": null,
   "id": "2bcc76e5",
   "metadata": {},
   "outputs": [],
   "source": []
  }
 ],
 "metadata": {
  "kernelspec": {
   "display_name": "Python 3 (ipykernel)",
   "language": "python",
   "name": "python3"
  },
  "language_info": {
   "codemirror_mode": {
    "name": "ipython",
    "version": 3
   },
   "file_extension": ".py",
   "mimetype": "text/x-python",
   "name": "python",
   "nbconvert_exporter": "python",
   "pygments_lexer": "ipython3",
   "version": "3.9.12"
  }
 },
 "nbformat": 4,
 "nbformat_minor": 5
}
