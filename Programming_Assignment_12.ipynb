{
 "cells": [
  {
   "cell_type": "markdown",
   "id": "bbff04c4",
   "metadata": {},
   "source": [
    "# PROGRAMMING ASSIGNMENT 12"
   ]
  },
  {
   "cell_type": "markdown",
   "id": "6ccf72e3",
   "metadata": {},
   "source": [
    "1. Write a Python program to Extract Unique values dictionary values?\n",
    "2. Write a Python program to find the sum of all items in a dictionary?\n",
    "3. Write a Python program to Merging two Dictionaries?\n",
    "4. Write a Python program to convert key-values list to flat dictionary?\n",
    "5. Write a Python program to insertion at the beginning in OrderedDict?\n",
    "6. Write a Python program to check order of character in string using OrderedDict()?\n",
    "7. Write a Python program to sort Python Dictionaries by Key or Value?"
   ]
  },
  {
   "cell_type": "markdown",
   "id": "385c2e86",
   "metadata": {},
   "source": [
    "### Question 1:"
   ]
  },
  {
   "cell_type": "code",
   "execution_count": 36,
   "id": "1ecf56f4",
   "metadata": {},
   "outputs": [
    {
     "name": "stdout",
     "output_type": "stream",
     "text": [
      "Original Dictionary:\n",
      "{'a': [1], 'b': [2, 1], 'c': [1, 3, 2], 'd': [1, 3, 2, 4], 'e': [1, 3, 2, 5, 4]}\n",
      "\n",
      "Unique Dictionary values:  [1, 2, 3, 4, 5]\n"
     ]
    }
   ],
   "source": [
    "# Write a Python program to Extract Unique values dictionary values?\n",
    "\n",
    "\n",
    "from pprint import pprint\n",
    "\n",
    "mydict = {'d' : [1, 3, 2, 4], \n",
    "          'a' : [1], \n",
    "          'c' : [1, 3, 2], \n",
    "          'b' : [2, 1],\n",
    "          'e' : [1, 3, 2, 5, 4]\n",
    "         }\n",
    "  \n",
    "print(\"Original Dictionary:\")\n",
    "pprint(mydict)   ##pprint seems to sort the dict by keys.\n",
    "  \n",
    "# thelist = []\n",
    "# for val in mydict.values():\n",
    "#     for data in val:\n",
    "#         if data not in thelist:\n",
    "#             thelist.append(data)\n",
    "            \n",
    "# above nested for loops can be written in the list comprehension form\n",
    "# instead of if condition I will use set for removing repeated values \n",
    "thelist = list(set(data for value in mydict.values() for data in value))\n",
    "\n",
    "# lets sort the list for better redability\n",
    "thelist.sort()\n",
    "\n",
    "print('\\nUnique Dictionary values: ',thelist)\n",
    "\n",
    "    "
   ]
  },
  {
   "cell_type": "markdown",
   "id": "06c7a212",
   "metadata": {},
   "source": [
    "### Question 2:"
   ]
  },
  {
   "cell_type": "code",
   "execution_count": 42,
   "id": "3f047a8d",
   "metadata": {},
   "outputs": [
    {
     "name": "stdout",
     "output_type": "stream",
     "text": [
      "\n",
      "Number of Entries in Dict: 3\n",
      "\n",
      "Enter Key Name: A\n",
      "Enter Integer Value: 10\n",
      "\n",
      "Enter Key Name: b\n",
      "Enter Integer Value: 11\n",
      "\n",
      "Enter Key Name: C\n",
      "Enter Integer Value: 100\n",
      "\n",
      "Dictionary:  {'A': 10, 'b': 11, 'C': 100}\n",
      "\n",
      "Sum of all Dictionary values:  121\n"
     ]
    }
   ],
   "source": [
    "# Write a Python program to find the sum of all items in a dictionary?\n",
    "\n",
    "\n",
    "def sumDict(mydict):\n",
    "    return sum(val for val in mydict.values())\n",
    "\n",
    "    \n",
    "if __name__ == '__main__':\n",
    "    \n",
    "    mydict = {}\n",
    "    \n",
    "    try:\n",
    "        item = int(input('\\nNumber of Entries in Dict: '))\n",
    "        for _ in range(item):\n",
    "            key = input(\"\\nEnter Key Name: \") \n",
    "            value = int(input(\"Enter Integer Value: \")) \n",
    "            mydict[key] = value\n",
    "    \n",
    "    except ValueError as V:\n",
    "        print(V)\n",
    "        \n",
    "    print('\\nDictionary: ',mydict)\n",
    "    print('\\nSum of all Dictionary values: ', sumDict(mydict))\n",
    "    \n",
    "        "
   ]
  },
  {
   "cell_type": "markdown",
   "id": "8aa18976",
   "metadata": {},
   "source": [
    "### Question 3:"
   ]
  },
  {
   "cell_type": "code",
   "execution_count": 49,
   "id": "4f21b914",
   "metadata": {},
   "outputs": [
    {
     "name": "stdout",
     "output_type": "stream",
     "text": [
      "\n",
      "Number of Entries in Dict A: 1\n",
      "\n",
      "Enter Key Name: Ram\n",
      "Enter Value: Sita\n",
      "\n",
      "Number of Entries in Dict B: 2\n",
      "\n",
      "Enter Key Name: Lakshman\n",
      "Enter Value: Urmila\n",
      "\n",
      "Enter Key Name: Bharat\n",
      "Enter Value: Mandavi\n",
      "\n",
      "After Merging:  {'Ram': 'Sita', 'Lakshman': 'Urmila', 'Bharat': 'Mandavi'}\n"
     ]
    }
   ],
   "source": [
    "# Write a Python program to Merging two Dictionaries?\n",
    "\n",
    "\n",
    "def merge(dict_A, dict_B):\n",
    "    return(dict_A | dict_B)\n",
    "\n",
    "\n",
    "def inputDict(entries):\n",
    "    mydict = {}\n",
    "    for _ in range(entries):\n",
    "        key = input(\"\\nEnter Key Name: \") \n",
    "        value = input(\"Enter Value: \")\n",
    "        mydict[key] = value\n",
    "    \n",
    "    return mydict\n",
    "\n",
    "\n",
    "if __name__ == '__main__':\n",
    "    \n",
    "    mydictA = {}\n",
    "    mydictB = {}\n",
    "    \n",
    "    try:\n",
    "        itemA = int(input('\\nNumber of Entries in Dict A: '))\n",
    "        mydictA = inputDict(itemA)\n",
    "        \n",
    "        itemB = int(input('\\nNumber of Entries in Dict B: '))\n",
    "        mydictB = inputDict(itemB)\n",
    "        \n",
    "        print('\\nAfter Merging: ', merge(mydictA, mydictB))\n",
    "    \n",
    "    except ValueError as V:\n",
    "        print(V)\n",
    "        "
   ]
  },
  {
   "cell_type": "markdown",
   "id": "07cfdf04",
   "metadata": {},
   "source": [
    "### Question 4:"
   ]
  },
  {
   "cell_type": "code",
   "execution_count": 56,
   "id": "78ecd3b9",
   "metadata": {},
   "outputs": [
    {
     "name": "stdout",
     "output_type": "stream",
     "text": [
      "Original Dictionary:\n",
      "{'digit': [1, 2, 3, 4, 5, 6, 7, 8, 9, 10],\n",
      " 'roman': ['i', 'ii', 'iii', 'iv', 'v', 'vi', 'vii', 'viii', 'ix', 'x']}\n",
      "\n",
      "Flattened Dictionary : \n",
      "{1: 'i', 2: 'ii', 3: 'iii', 4: 'iv', 5: 'v', 6: 'vi', 7: 'vii', 8: 'viii', 9: 'ix', 10: 'x'}\n"
     ]
    }
   ],
   "source": [
    "# Write a Python program to convert key-values list to flat dictionary?\n",
    "\n",
    "\n",
    "from pprint import pprint\n",
    "\n",
    "mydict = {'digit' : [1, 2, 3, 4, 5, 6, 7, 8, 9, 10],\n",
    "          'roman' : ['i', 'ii', 'iii', 'iv', 'v', 'vi', 'vii', 'viii', 'ix', 'x']}\n",
    "  \n",
    "print(\"Original Dictionary:\")\n",
    "pprint(mydict)\n",
    "  \n",
    "result = dict(zip(mydict['digit'], mydict['roman']))\n",
    "  \n",
    "print(\"\\nFlattened Dictionary : \")\n",
    "print(result)"
   ]
  },
  {
   "cell_type": "markdown",
   "id": "29629228",
   "metadata": {},
   "source": [
    "### Question 5:"
   ]
  },
  {
   "cell_type": "code",
   "execution_count": 13,
   "id": "e174b819",
   "metadata": {},
   "outputs": [
    {
     "name": "stdout",
     "output_type": "stream",
     "text": [
      "\n",
      "Number of Entries: 4\n",
      "\n",
      "Enter Key 1  : 2\n",
      "Enter Value 1: II\n",
      "\n",
      "Enter Key 2  : 3\n",
      "Enter Value 2: III\n",
      "\n",
      "Enter Key 3  : 4\n",
      "Enter Value 3: IV\n",
      "\n",
      "Enter Key 4  : 5\n",
      "Enter Value 4: V\n",
      "\n",
      "Before Insertion:\n",
      " OrderedDict([('2', 'II'), ('3', 'III'), ('4', 'IV'), ('5', 'V')])\n",
      "\n",
      "For Inserion at the Begining of Dictionary: \n",
      "Enter Key: 1\n",
      "Enter Val: I\n",
      "\n",
      "UPDATED DICTIONARY:\n",
      "OrderedDict([('1', 'I'), ('2', 'II'), ('3', 'III'), ('4', 'IV'), ('5', 'V')])\n",
      "\n",
      "Enter 'y' to Continue, ANY OTHER key to exit: N\n",
      "\n",
      "\t\t\tTHANKYOU\n"
     ]
    }
   ],
   "source": [
    "# Write a Python program to insertion at the beginning in OrderedDict?\n",
    "\n",
    "\n",
    "from collections import OrderedDict\n",
    "from pprint import pprint\n",
    "\n",
    "\n",
    "def dict_input(entries):\n",
    "    dictt = {}\n",
    "    for i in range(entries):\n",
    "        key = input('\\nEnter Key {}  : '.format(i+1))\n",
    "        val = input('Enter Value {}: '.format(i+1))\n",
    "        dictt[key] = val\n",
    "    return OrderedDict(dictt)\n",
    "\n",
    "\n",
    "def update(mydict):\n",
    "    key = input('Enter Key: ')\n",
    "    val = input('Enter Val: ')\n",
    "    mydict.update({key:val})\n",
    "    mydict.move_to_end(key, last = False)\n",
    "    return mydict\n",
    "\n",
    "\n",
    "if __name__ == '__main__':\n",
    "    while True:\n",
    "        try:\n",
    "            n = int(input('\\nNumber of Entries: '))\n",
    "            mydict = dict_input(n)\n",
    "            print('\\nBefore Insertion:\\n', mydict)\n",
    "            \n",
    "            print(\"\\nFor Inserion at the Begining of Dictionary: \")\n",
    "            updated_dict = update(mydict)\n",
    "            \n",
    "            print('\\nUPDATED DICTIONARY:')\n",
    "            pprint(updated_dict)\n",
    "            \n",
    "        except ValueError as v:\n",
    "            print(v)\n",
    "        \n",
    "        ch = input(\"\\nEnter 'y' to Continue, ANY OTHER key to exit: \" )\n",
    "        if ch == 'y' or ch =='Y':\n",
    "            continue\n",
    "        else:\n",
    "            print('\\n\\t\\t\\tTHANKYOU')\n",
    "            break\n"
   ]
  },
  {
   "cell_type": "markdown",
   "id": "f8c9073c",
   "metadata": {},
   "source": [
    "### Question 6:"
   ]
  },
  {
   "cell_type": "code",
   "execution_count": 41,
   "id": "14f82393",
   "metadata": {},
   "outputs": [
    {
     "name": "stdout",
     "output_type": "stream",
     "text": [
      "True\n"
     ]
    }
   ],
   "source": [
    "# Write a Python program to check order of character in string using OrderedDict()?\n",
    "\n",
    "\n",
    "from collections import OrderedDict \n",
    "# from pprint import pprint\n",
    "  \n",
    "def checkOrder(string, pattern):\n",
    "    \n",
    "    ord_dict = OrderedDict.fromkeys(string)\n",
    "#     pprint(ord_dict)\n",
    "   \n",
    "    ptrn_len = 0\n",
    "    \n",
    "    # this loop will check each element in pattern against each element in string \n",
    "    for key in ord_dict.keys(): \n",
    "        if (key == pattern[ptrn_len]): #checking if key element == 1st element of pattern \n",
    "            ptrn_len += 1 #we move on to second element of pattern and repeat \n",
    "          \n",
    "        # to check if we have traversed the complete pattern \n",
    "        if (ptrn_len == (len(pattern))): \n",
    "            return True\n",
    "  \n",
    "    return False\n",
    "  \n",
    "    \n",
    "if __name__ == \"__main__\": \n",
    "    string = 'iNeuron Bootcamp'\n",
    "    pattern = 'iBm'\n",
    "    print (checkOrder(string,pattern)) "
   ]
  },
  {
   "cell_type": "markdown",
   "id": "82115faa",
   "metadata": {},
   "source": [
    "### Question 7:"
   ]
  },
  {
   "cell_type": "code",
   "execution_count": 40,
   "id": "2f6e01fe",
   "metadata": {},
   "outputs": [
    {
     "name": "stdout",
     "output_type": "stream",
     "text": [
      "SORTING BY KEY:  {1: 6, 5: 4, 6: 3, 7: 1}\n",
      "\n",
      "SORTING BY VALUE:  {7: 1, 6: 3, 5: 4, 1: 6}\n"
     ]
    }
   ],
   "source": [
    "# Write a Python program to sort Python Dictionaries by Key or Value?\n",
    "\n",
    "\n",
    "def SortbyKey(mydict:dict):\n",
    "    return {key:val for key, val in sorted(mydict.items())}\n",
    "\n",
    "def SortbyValue(mydict:dict):\n",
    "    return {key:val for key, val in sorted(mydict.items(), key=lambda item: item[1])}\n",
    "\n",
    "\n",
    "dt = {5:4, 1:6, 6:3, 7:1}\n",
    "print('SORTING BY KEY: ',SortbyKey(dt))\n",
    "print('\\nSORTING BY VALUE: ',SortbyValue(dt))"
   ]
  },
  {
   "cell_type": "code",
   "execution_count": null,
   "id": "fba910b7",
   "metadata": {},
   "outputs": [],
   "source": []
  }
 ],
 "metadata": {
  "kernelspec": {
   "display_name": "Python 3 (ipykernel)",
   "language": "python",
   "name": "python3"
  },
  "language_info": {
   "codemirror_mode": {
    "name": "ipython",
    "version": 3
   },
   "file_extension": ".py",
   "mimetype": "text/x-python",
   "name": "python",
   "nbconvert_exporter": "python",
   "pygments_lexer": "ipython3",
   "version": "3.9.12"
  }
 },
 "nbformat": 4,
 "nbformat_minor": 5
}
