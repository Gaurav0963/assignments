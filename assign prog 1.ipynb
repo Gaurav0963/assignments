{
 "cells": [
  {
   "cell_type": "code",
   "execution_count": 1,
   "id": "6c0251a6",
   "metadata": {},
   "outputs": [
    {
     "name": "stdout",
     "output_type": "stream",
     "text": [
      "Hello Python\n"
     ]
    }
   ],
   "source": [
    "# ANSWER 1:\n",
    "print('Hello Python')"
   ]
  },
  {
   "cell_type": "code",
   "execution_count": 6,
   "id": "3d544c48",
   "metadata": {},
   "outputs": [
    {
     "name": "stdout",
     "output_type": "stream",
     "text": [
      "Enter first number: 12\n",
      "Enter second number: 2\n",
      "\n",
      "sum:\n",
      "12.0 + 2.0 = 14.0\n",
      "\n",
      "product:\n",
      "12.0/2.0 = 6.0\n"
     ]
    }
   ],
   "source": [
    "# ANSWER 2:\n",
    "\n",
    "try:\n",
    "    a = float(input('Enter first number: '))\n",
    "    b = float(input('Enter second number: '))\n",
    "    \n",
    "    print('\\nsum:\\n{} + {} = {}'.format(a,b,a+b))\n",
    "    print('\\nproduct:\\n{}/{} = {}'.format(a,b,a/b))\n",
    "    \n",
    "except ZeroDivisionError:\n",
    "    print(\"\\nZeroDivisionError: Denominator (second INPUT) can't be zero\")\n",
    "    \n",
    "except ValueError:\n",
    "    print(\"\\nNumerical input required\")\n",
    "    "
   ]
  },
  {
   "cell_type": "code",
   "execution_count": 13,
   "id": "1590c6bd",
   "metadata": {},
   "outputs": [
    {
     "name": "stdout",
     "output_type": "stream",
     "text": [
      "Enter three lengths with a space in between each length:\n",
      "2 5 4\n",
      "\n",
      "YOUR INPUT:\n",
      "Length 1: 2.0\n",
      "Length 2: 5.0\n",
      "Length 3: 4.0\n",
      "\n",
      "Area of Triangle = 3.80 unit square\n"
     ]
    }
   ],
   "source": [
    "# ANSWER 3: AREA OF A TRIANGLE\n",
    "#     USING HERON'S FORMULA TO CALCLATE AREA\n",
    "from math import sqrt\n",
    "\n",
    "def TriangleArea(a,b,c):\n",
    "    s = 0.5 * (a+b+c)\n",
    "    s1=s*(s-a)*(s-b)*(s-c)\n",
    "    if s1 < 0:\n",
    "        print(\"\\nTriange can't be formed with given lengths\")\n",
    "        return 0\n",
    "    else:\n",
    "        area = sqrt(s1)\n",
    "        return area\n",
    "\n",
    "num = input('Enter three lengths with a space in between each length:\\n').split()\n",
    "a = float(num[0])\n",
    "b = float(num[1])\n",
    "c = float(num[2])\n",
    "print(\"\\nYOUR INPUT:\\nLength 1: {}\\nLength 2: {}\\nLength 3: {}\".format(a,b,c))\n",
    "result = TriangleArea(a,b,c)\n",
    "print('\\nArea of Triangle = {:.2f}'.format(result), 'unit square')"
   ]
  },
  {
   "cell_type": "code",
   "execution_count": 23,
   "id": "fad8d632",
   "metadata": {},
   "outputs": [
    {
     "name": "stdout",
     "output_type": "stream",
     "text": [
      "Before Swapping\n",
      "a = 6\n",
      "b = 8\n",
      "\n",
      "After Swapping\n",
      "a = 8\n",
      "b = 6\n"
     ]
    }
   ],
   "source": [
    "# ANSWER 4:\n",
    "#    TO SWAP THE VALUE TO TWO VARIABLES\n",
    "\n",
    "def swap(a,b):\n",
    "    print(\"Before Swapping\\na = {}\\nb = {}\".format(a,b))\n",
    "    a,b=b,a\n",
    "    print(\"\\nAfter Swapping\\na = {}\\nb = {}\".format(a,b))\n",
    "    \n",
    "swap(6,8)"
   ]
  },
  {
   "cell_type": "code",
   "execution_count": 31,
   "id": "a4e0e989",
   "metadata": {},
   "outputs": [
    {
     "name": "stdout",
     "output_type": "stream",
     "text": [
      "Enter lower Limit: 12\n",
      "Enter upper Limit: 199\n",
      "\n",
      "Random number:  146\n"
     ]
    }
   ],
   "source": [
    "# ANSWER 5:\n",
    "#     GENERATING A RANDOM NUMBER\n",
    "\n",
    "import random\n",
    "\n",
    "try:\n",
    "    a=int(input('Enter lower Limit: '))\n",
    "    b=int(input('Enter upper Limit: '))\n",
    "    print('\\nRandom number: ',random.randint(a,b))\n",
    "except ValueError:\n",
    "    print('\\nLower Limit cant be smaller than upper limit\\nAlso, only enter numbers  ')"
   ]
  },
  {
   "cell_type": "code",
   "execution_count": null,
   "id": "98e2603e",
   "metadata": {},
   "outputs": [],
   "source": []
  }
 ],
 "metadata": {
  "kernelspec": {
   "display_name": "Python 3 (ipykernel)",
   "language": "python",
   "name": "python3"
  },
  "language_info": {
   "codemirror_mode": {
    "name": "ipython",
    "version": 3
   },
   "file_extension": ".py",
   "mimetype": "text/x-python",
   "name": "python",
   "nbconvert_exporter": "python",
   "pygments_lexer": "ipython3",
   "version": "3.9.12"
  }
 },
 "nbformat": 4,
 "nbformat_minor": 5
}
