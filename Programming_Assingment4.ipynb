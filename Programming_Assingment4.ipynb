{
 "cells": [
  {
   "cell_type": "code",
   "execution_count": 9,
   "id": "920d09d6",
   "metadata": {},
   "outputs": [
    {
     "name": "stdout",
     "output_type": "stream",
     "text": [
      "I want to find Factorial of: 5\n",
      "5! = 120\n"
     ]
    }
   ],
   "source": [
    "# QUESTION 1. Write a Python Program to Find the Factorial of a Number?\n",
    "\n",
    "def fact(num):\n",
    "    if num == 0:\n",
    "        return 1\n",
    "    return fact(num-1)*num\n",
    "\n",
    "try:\n",
    "    n = int(input('I want to find Factorial of: '))\n",
    "    if n>0:\n",
    "        result = fact(n)\n",
    "        print('{}! = {}'.format(n, result))\n",
    "    else:\n",
    "        print(\"\\nFunction can't take Negative Values\")\n",
    "\n",
    "except ValueError:\n",
    "    print(\"\\nIncorrect Input\")\n",
    "    "
   ]
  },
  {
   "cell_type": "code",
   "execution_count": 15,
   "id": "69e9a54f",
   "metadata": {},
   "outputs": [
    {
     "name": "stdout",
     "output_type": "stream",
     "text": [
      "Display the multiplication table of: 19\n",
      "19 x 1 = 19\n",
      "19 x 2 = 38\n",
      "19 x 3 = 57\n",
      "19 x 4 = 76\n",
      "19 x 5 = 95\n",
      "19 x 6 = 114\n",
      "19 x 7 = 133\n",
      "19 x 8 = 152\n",
      "19 x 9 = 171\n",
      "19 x 10 = 190\n"
     ]
    }
   ],
   "source": [
    "# QUESTION 2: Write a Python Program to Display the multiplication Table?\n",
    "\n",
    "def math_table(num):\n",
    "    for i in range(1, 11):\n",
    "        print('{} x {} = {}'.format(num, i, num*i))\n",
    "\n",
    "try:\n",
    "    number = int(input('Display the multiplication table of: '))\n",
    "    math_table(number)    \n",
    "\n",
    "except ValueError:\n",
    "    print('\\nInorrect Input')"
   ]
  },
  {
   "cell_type": "code",
   "execution_count": 48,
   "id": "50af73cc",
   "metadata": {},
   "outputs": [
    {
     "name": "stdout",
     "output_type": "stream",
     "text": [
      "Enter positive Number: 10\n",
      "0\n",
      "1\n",
      "1\n",
      "2\n",
      "3\n",
      "5\n",
      "8\n",
      "13\n",
      "21\n",
      "34\n"
     ]
    }
   ],
   "source": [
    "# QUESTION 3: Write a Python Program to Print the Fibonacci sequence?\n",
    "\n",
    "def Fibonacci(num):\n",
    "    a,b=0,1\n",
    "    for i in range(num):\n",
    "        yield a\n",
    "        a, b = b, a+b\n",
    "        \n",
    "try:\n",
    "    num = int(input(\"Enter positive Number: \"))\n",
    "    if num>0:\n",
    "        x = Fibonacci(num)\n",
    "        print(*list(x), sep='\\n')\n",
    "    else:\n",
    "        print('\\nPlease enter positive number > ZERO')\n",
    "\n",
    "except ValueError:\n",
    "    print('\\nIncorrect Input: Numerical Input Expected')"
   ]
  },
  {
   "cell_type": "code",
   "execution_count": 6,
   "id": "299441af",
   "metadata": {},
   "outputs": [
    {
     "name": "stdout",
     "output_type": "stream",
     "text": [
      "Enter a number: 3\n",
      "\n",
      " 3 is an Armstrong number\n"
     ]
    }
   ],
   "source": [
    "# QUESTION 4: Write a Python Program to Check Armstrong Number?\n",
    "\n",
    "num = int(input(\"Enter a number: \"))\n",
    "total = 0\n",
    "temp = num\n",
    "while temp > 0:\n",
    "    digit = temp % 10\n",
    "    total += digit ** len(str(num))\n",
    "    temp //= 10\n",
    "\n",
    "if num == total:\n",
    "    print('\\n',num,\"is an Armstrong number\")\n",
    "else:\n",
    "    print('\\n',num,\"is not an Armstrong number\")"
   ]
  },
  {
   "cell_type": "code",
   "execution_count": 9,
   "id": "7fb288db",
   "metadata": {},
   "outputs": [
    {
     "name": "stdout",
     "output_type": "stream",
     "text": [
      "lower limit: 100\n",
      "upper limit: 2000\n",
      "153\n",
      "370\n",
      "371\n",
      "407\n",
      "1634\n"
     ]
    }
   ],
   "source": [
    "# QUESTION 5 : Write a Python Program to Find Armstrong Number in an Interval?\n",
    "\n",
    "def Armstrong_interval(a, b):\n",
    "    for num in range(a, b+1):\n",
    "        sum_ = 0\n",
    "        temp = num\n",
    "        l = len(str(num))\n",
    "        while temp > 0:\n",
    "            digit = temp % 10\n",
    "            sum_ += digit ** l\n",
    "            temp //= 10\n",
    "    \n",
    "        if num == sum_:\n",
    "            yield (num)\n",
    "            \n",
    "try:\n",
    "    a = int(input(\"lower limit: \"))\n",
    "    b = int(input(\"upper limit: \"))\n",
    "    result = Armstrong_interval(a, b)\n",
    "    print(*list(result), sep='\\n')\n",
    "    \n",
    "except ValueError:\n",
    "    print('\\nINCORRECT INPUT!!!\\nNumerical input expected')\n",
    "    "
   ]
  },
  {
   "cell_type": "code",
   "execution_count": 30,
   "id": "68f97863",
   "metadata": {},
   "outputs": [
    {
     "name": "stdout",
     "output_type": "stream",
     "text": [
      "Enter lower limit: 1\n",
      "Enter upper limit: 5\n",
      "\n",
      "Sum of Numbers from 1 to 5 = 15\n"
     ]
    }
   ],
   "source": [
    "# QUESTION 6 :Write a Python Program to Find the Sum of Natural Numbers?\n",
    "\n",
    "def sum_Natural_no(a, b):\n",
    "    s = sum((i for i in range(a, b+1))) \n",
    "    return s\n",
    "try:\n",
    "    a = int(input('Enter lower limit: '))\n",
    "    if a < 1:\n",
    "        print(\"\\nNatural Numbers, Lower limit can't be smaller than 1\")\n",
    "    else:\n",
    "        b = int(input('Enter upper limit: '))\n",
    "        if b < a:\n",
    "            print(\"\\nUpper limit CAN'T BE LOWER than Lower limit\")\n",
    "        else:\n",
    "            res = sum_Natural_no(a,b)\n",
    "            print('\\nSum of Numbers from {} to {} = {}'.format(a, b, res))\n",
    "\n",
    "\n",
    "except ValueError:\n",
    "    print('\\nIncorrect Input!!!\\nNumerical Input Expected.')\n",
    "    \n",
    "    "
   ]
  },
  {
   "cell_type": "code",
   "execution_count": null,
   "id": "a5fc2f18",
   "metadata": {},
   "outputs": [],
   "source": []
  },
  {
   "cell_type": "code",
   "execution_count": null,
   "id": "8a1eeb79",
   "metadata": {},
   "outputs": [],
   "source": []
  }
 ],
 "metadata": {
  "kernelspec": {
   "display_name": "Python 3 (ipykernel)",
   "language": "python",
   "name": "python3"
  },
  "language_info": {
   "codemirror_mode": {
    "name": "ipython",
    "version": 3
   },
   "file_extension": ".py",
   "mimetype": "text/x-python",
   "name": "python",
   "nbconvert_exporter": "python",
   "pygments_lexer": "ipython3",
   "version": "3.9.12"
  }
 },
 "nbformat": 4,
 "nbformat_minor": 5
}
