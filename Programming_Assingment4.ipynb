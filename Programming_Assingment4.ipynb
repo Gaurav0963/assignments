{
 "cells": [
  {
   "cell_type": "code",
   "execution_count": null,
   "id": "4691f0a9",
   "metadata": {},
   "outputs": [],
   "source": [
    "# QUESTION 1: What are the two values of the Boolean data type? How do you write them?\n",
    "\n",
    "ANSWER:The two values of Boolean data type are True or False. False, is the default value of Boolean data type.\n",
    "       NOTE: A variable holding 0 will return False and any integer value other than 0 will return True, when used bool function\n"
   ]
  },
  {
   "cell_type": "code",
   "execution_count": 15,
   "id": "b4879d78",
   "metadata": {},
   "outputs": [
    {
     "name": "stdout",
     "output_type": "stream",
     "text": [
      "False\n",
      "True True\n"
     ]
    }
   ],
   "source": [
    "a = 0\n",
    "print(bool(a))\n",
    "\n",
    "b = -12\n",
    "c = 100\n",
    "print(bool(b),bool(c))"
   ]
  },
  {
   "cell_type": "code",
   "execution_count": null,
   "id": "326b05bd",
   "metadata": {},
   "outputs": [],
   "source": [
    "# QUESTION 2: What are the three different types of Boolean operators?\n",
    "\n",
    "ANSWER: Three different types of boolean operators are : and, or, not."
   ]
  },
  {
   "cell_type": "code",
   "execution_count": null,
   "id": "eaa9cbf0",
   "metadata": {},
   "outputs": [],
   "source": [
    "QUESTION 3: Make a list of each Boolean operators truth tables (i.e. every possible combination of Boolean  \n",
    "            values for the operator and what it evaluate ).\n",
    "\n",
    "or operator\n",
    "A        B     A or B\n",
    "True   True    True\n",
    "False  True    True \n",
    "True   False   True\n",
    "False  False   False\n",
    "\n",
    "and operator\n",
    "A        B     A and B\n",
    "True   True    True\n",
    "False  True    False \n",
    "True   False   False\n",
    "False  False   False\n",
    "\n",
    "not operator\n",
    "A      not A     \n",
    "True   False   \n",
    "False  True"
   ]
  },
  {
   "cell_type": "code",
   "execution_count": null,
   "id": "31455b21",
   "metadata": {},
   "outputs": [],
   "source": [
    "# QUESTION 4. What are the values of the following expressions?\n",
    "\n",
    "(5 > 4) and (3 == 5) --> False\n",
    "\n",
    "not (5 > 4) --> False\n",
    "\n",
    "(5 > 4) or (3 == 5) -->True\n",
    "\n",
    "not ((5 > 4) or (3 == 5))  --> False\n",
    "\n",
    "(True and True) and (True == False)  --> False \n",
    "\n",
    "(not False) or (not True) --> True"
   ]
  },
  {
   "cell_type": "code",
   "execution_count": null,
   "id": "d4d845c2",
   "metadata": {},
   "outputs": [],
   "source": [
    "# QUESTION 5. What are the six comparison operators?\n",
    "\n",
    "''' == \n",
    "    !=\n",
    "    >\n",
    "    <\n",
    "    >=\n",
    "    <='''"
   ]
  },
  {
   "cell_type": "code",
   "execution_count": null,
   "id": "5e3d93d9",
   "metadata": {},
   "outputs": [],
   "source": [
    "QUESTION 6: How do you tell the difference between the equal to and assignment operators? Describe a \n",
    "            condition and when you would use one.\n",
    "\n",
    "ANSWER: == is equal to operator, it is used when there is a need of comparison between two variables or one variable and a            value or between two values. \n",
    "        \n",
    "        = is assignment operator, it is used to assign value to a variable.\n",
    "          for example: eggs = 12\n",
    "        "
   ]
  },
  {
   "cell_type": "code",
   "execution_count": null,
   "id": "85363e25",
   "metadata": {},
   "outputs": [],
   "source": [
    "ANSWER 7: The three blocks are:\n",
    "\n",
    "block1:\n",
    "if spam == 10:\n",
    "    print('eggs')\n",
    "\n",
    "block2:    \n",
    "if spam > 5:\n",
    "    print('bacon')\n",
    "\n",
    "block3:    \n",
    "else:\n",
    "    print('ham')\n",
    "    print('spam')\n",
    "    print('spam')"
   ]
  },
  {
   "cell_type": "code",
   "execution_count": 3,
   "id": "29f8f463",
   "metadata": {},
   "outputs": [
    {
     "name": "stdout",
     "output_type": "stream",
     "text": [
      "spam = 22g-\n",
      "\n",
      "Greetings!\n"
     ]
    }
   ],
   "source": [
    "# QUESTION 8: Write code that prints Hello if 1 is stored in spam, prints Howdy if 2 is stored in spam, and prints\n",
    "# Greetings! if anything else is stored in spam.\n",
    "\n",
    "def hello(spam):\n",
    "    print('\\nHello')\n",
    "    \n",
    "def howdy(spam):\n",
    "    print('\\nHowdy')\n",
    "    \n",
    "def greet(spam):\n",
    "    print('\\nGreetings!')\n",
    "\n",
    "spam = input('spam = ')    \n",
    "dict_ = {'1': hello, '2': howdy}\n",
    "result = dict_.get(spam, greet)\n",
    "result(spam)"
   ]
  },
  {
   "cell_type": "code",
   "execution_count": null,
   "id": "408d0b53",
   "metadata": {},
   "outputs": [],
   "source": [
    "QUESTION 9: If your programme is stuck in an endless loop, what keys you’ll press?\n",
    "\n",
    "ANSWER: In this case kernel needs to be interrupted, CTRL+C is needed to be pressed on keyboard."
   ]
  },
  {
   "cell_type": "code",
   "execution_count": null,
   "id": "031432eb",
   "metadata": {},
   "outputs": [],
   "source": [
    "QUESTION 10: How can you tell the difference between break and continue?\n",
    "    \n",
    "    ANSWER: Break statement will terminate the remaining iterations of the loop and the statements \n",
    "            out of the loops will execute. \n",
    "            \n",
    "            However, Continue statement will terminate the current iteration but the loop will make its \n",
    "            remaining iterations."
   ]
  },
  {
   "cell_type": "code",
   "execution_count": null,
   "id": "9ee83eb4",
   "metadata": {},
   "outputs": [],
   "source": [
    "QUESTION 11: In a for loop, what is the difference between range(10), range(0, 10), and range(0, 10, 1)?\n",
    "    \n",
    "    ANSWER: There is absolutely no difference between the three.\n",
    "            range(0, 10, 1) here, 0 is lower bound, 10 is upper bound and 1 is the step size. if the lower bound is not \n",
    "            given then 0 is taken by default and if the step size is not given then 1 is taken by default.\n",
    "            "
   ]
  },
  {
   "cell_type": "code",
   "execution_count": 23,
   "id": "998d24bf",
   "metadata": {},
   "outputs": [
    {
     "name": "stdout",
     "output_type": "stream",
     "text": [
      "\n",
      "THIS IS FOR LOOP\n",
      "1 2 3 4 5 6 7 8 9 10 \n",
      "\n",
      "THIS IS WHILE LOOP\n",
      "1 2 3 4 5 6 7 8 9 10 "
     ]
    }
   ],
   "source": [
    "# QUESTION 12. Write a short program that prints the numbers 1 to 10 using a for loop. Then write an equivalent\n",
    "#              program that prints the numbers 1 to 10 using a while loop.\n",
    "\n",
    "def for_loop(a, b):\n",
    "    print('\\nTHIS IS FOR LOOP')\n",
    "    for i in range(a, b+1):\n",
    "        print(i, end=' ')\n",
    "        \n",
    "def while_loop(a, b):\n",
    "    print('\\n\\nTHIS IS WHILE LOOP')\n",
    "    i=a\n",
    "    while i<=b:\n",
    "        print(i, end=' ')\n",
    "        i+=1\n",
    "\n",
    "\n",
    "for_loop(1, 10)\n",
    "while_loop(1, 10)\n"
   ]
  },
  {
   "cell_type": "code",
   "execution_count": null,
   "id": "f033c422",
   "metadata": {},
   "outputs": [],
   "source": [
    "QUESTION 13: If you had a function named bacon() inside a module named spam, how would you call it after\n",
    "             importing spam?\n",
    "\n",
    "ANSWER: spam.bacon()"
   ]
  },
  {
   "cell_type": "code",
   "execution_count": null,
   "id": "f680d170",
   "metadata": {},
   "outputs": [],
   "source": []
  }
 ],
 "metadata": {
  "kernelspec": {
   "display_name": "Python 3 (ipykernel)",
   "language": "python",
   "name": "python3"
  },
  "language_info": {
   "codemirror_mode": {
    "name": "ipython",
    "version": 3
   },
   "file_extension": ".py",
   "mimetype": "text/x-python",
   "name": "python",
   "nbconvert_exporter": "python",
   "pygments_lexer": "ipython3",
   "version": "3.9.12"
  }
 },
 "nbformat": 4,
 "nbformat_minor": 5
}
