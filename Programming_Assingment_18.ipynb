{
 "cells": [
  {
   "cell_type": "markdown",
   "id": "fa05d778",
   "metadata": {},
   "source": [
    "# PROGRAMMING ASSIGNMENT 18"
   ]
  },
  {
   "cell_type": "code",
   "execution_count": null,
   "id": "fe6cbead",
   "metadata": {},
   "outputs": [],
   "source": []
  },
  {
   "cell_type": "markdown",
   "id": "3da4f4e2",
   "metadata": {},
   "source": [
    "### Question 1\n"
   ]
  },
  {
   "cell_type": "code",
   "execution_count": 24,
   "id": "29bb5842",
   "metadata": {},
   "outputs": [
    {
     "data": {
      "text/plain": [
       "[1, 2, 3, 8]"
      ]
     },
     "execution_count": 24,
     "metadata": {},
     "output_type": "execute_result"
    }
   ],
   "source": [
    "# Create a function that takes a list of non-negative integers and strings and return a new list without the strings.\n",
    "\n",
    "\n",
    "def filter_list(rawlist):\n",
    "    \n",
    "#   an extra CHECK in place to ensure correct return even if NEGative int or float, bool datatypes are passed to function.\n",
    "   \n",
    "    mylist = [i for i in rawlist if (type(i) == int and i>=0) or type(i) == str]  #CHECK\n",
    "       \n",
    "    return [item for item in mylist if type(item) != str]\n",
    "\n",
    "\n",
    "\n",
    "filter_list([1, 2, 'a', 'b', 3, '4', True, 8])   #NOTE: bool type shouldnt be passed to the function,\n",
    "                                                       #but I have a CHECK in place for this\n"
   ]
  },
  {
   "cell_type": "markdown",
   "id": "0b240815",
   "metadata": {},
   "source": [
    "### Question 2\n"
   ]
  },
  {
   "cell_type": "code",
   "execution_count": 27,
   "id": "6455a76e",
   "metadata": {},
   "outputs": [
    {
     "data": {
      "text/plain": [
       "'RADAr'"
      ]
     },
     "execution_count": 27,
     "metadata": {},
     "output_type": "execute_result"
    }
   ],
   "source": [
    "# The \"Reverser\" takes a string as input and returns that string in reverse order, with the opposite case.\n",
    "\n",
    "\n",
    "def reverse(string):\n",
    "    newstr = string.swapcase()\n",
    "    return newstr[::-1]\n",
    "\n",
    "\n",
    "reverse('Radar')\n",
    "    "
   ]
  },
  {
   "cell_type": "markdown",
   "id": "03714b7b",
   "metadata": {},
   "source": [
    "### Question 3"
   ]
  },
  {
   "cell_type": "code",
   "execution_count": 28,
   "id": "0b689f60",
   "metadata": {},
   "outputs": [
    {
     "name": "stdout",
     "output_type": "stream",
     "text": [
      "w\n",
      "['r', 'i', 't', 'e', 'y', 'o', 'u', 'r', 'c', 'o', 'd', 'e', 'h', 'e', 'r']\n",
      "e\n"
     ]
    }
   ],
   "source": [
    "# Your task is to unpack the list writeyourcodehere into three variables, being first,\n",
    "# middle, and last, with middle being everything in between the first and last element. Then\n",
    "# print all three variables.\n",
    "\n",
    "\n",
    "first, *middle, last = 'writeyourcodehere'\n",
    "print(first)\n",
    "print(middle)\n",
    "print(last)"
   ]
  },
  {
   "cell_type": "markdown",
   "id": "33364d63",
   "metadata": {},
   "source": [
    "### Question 4"
   ]
  },
  {
   "cell_type": "code",
   "execution_count": 29,
   "id": "a15b436d",
   "metadata": {},
   "outputs": [
    {
     "data": {
      "text/plain": [
       "720"
      ]
     },
     "execution_count": 29,
     "metadata": {},
     "output_type": "execute_result"
    }
   ],
   "source": [
    "# Write a function that calculates the factorial of a number recursively.\n",
    "\n",
    "\n",
    "def factorial(num):\n",
    "    if num == 0:\n",
    "        return 1\n",
    "    elif num < 0:\n",
    "        return 'Error: Non negative value'\n",
    "    \n",
    "    return factorial(num-1)*num\n",
    "\n",
    "\n",
    "\n",
    "factorial(6)\n",
    "        "
   ]
  },
  {
   "cell_type": "markdown",
   "id": "1cda34aa",
   "metadata": {},
   "source": [
    "### Question 5"
   ]
  },
  {
   "cell_type": "code",
   "execution_count": 30,
   "id": "16b5d16e",
   "metadata": {},
   "outputs": [
    {
     "data": {
      "text/plain": [
       "['b', 'a', 'a', 'a', 'a']"
      ]
     },
     "execution_count": 30,
     "metadata": {},
     "output_type": "execute_result"
    }
   ],
   "source": [
    "# Write a function that moves all elements of one type to the end of the list.\n",
    "\n",
    "\n",
    "def move_to_end(thelist, data):\n",
    "    \n",
    "    i, count = 0, 0\n",
    "\n",
    "    while i < len(thelist):\n",
    "        if thelist[i] == data:\n",
    "            thelist.pop(i)\n",
    "            count += 1\n",
    "        else:\n",
    "            i+=1\n",
    "            \n",
    "    for j in range(count):\n",
    "        thelist.append(data)\n",
    "    \n",
    "    return thelist\n",
    "\n",
    "\n",
    "move_to_end(['a', 'a', 'a', 'b', 'a'], 'a')"
   ]
  }
 ],
 "metadata": {
  "kernelspec": {
   "display_name": "Python 3 (ipykernel)",
   "language": "python",
   "name": "python3"
  },
  "language_info": {
   "codemirror_mode": {
    "name": "ipython",
    "version": 3
   },
   "file_extension": ".py",
   "mimetype": "text/x-python",
   "name": "python",
   "nbconvert_exporter": "python",
   "pygments_lexer": "ipython3",
   "version": "3.9.12"
  }
 },
 "nbformat": 4,
 "nbformat_minor": 5
}
