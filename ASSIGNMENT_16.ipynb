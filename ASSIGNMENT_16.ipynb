{
 "cells": [
  {
   "cell_type": "markdown",
   "id": "064fc0d6",
   "metadata": {},
   "source": [
    "QUESTION 1. Create a list called years_list, starting with the year of your birth, and each year thereafter until\n",
    "the year of your fifth birthday. For example, if you were born in 1980. the list would be years_list =\n",
    "[1980, 1981, 1982, 1983, 1984, 1985]."
   ]
  },
  {
   "cell_type": "code",
   "execution_count": 1,
   "id": "0a82950d",
   "metadata": {},
   "outputs": [
    {
     "name": "stdout",
     "output_type": "stream",
     "text": [
      "[1994, 1995, 1996, 1997, 1998, 1999]\n"
     ]
    }
   ],
   "source": [
    "# ANSWER 1\n",
    "\n",
    "years_list = [i for i in range(1994, 2000)]\n",
    "print(years_list)"
   ]
  },
  {
   "cell_type": "markdown",
   "id": "7eaf4ce6",
   "metadata": {},
   "source": [
    "QUESTION 2. In which year in years_list was your third birthday? Remember, you were 0 years of age for your\n",
    "first year."
   ]
  },
  {
   "cell_type": "code",
   "execution_count": 2,
   "id": "0ce19c16",
   "metadata": {},
   "outputs": [
    {
     "name": "stdout",
     "output_type": "stream",
     "text": [
      "Third Birthday:  1997\n"
     ]
    }
   ],
   "source": [
    "# ANSWER 2\n",
    "\n",
    "print('Third Birthday: ',years_list[3])"
   ]
  },
  {
   "cell_type": "markdown",
   "id": "1faeab0c",
   "metadata": {},
   "source": [
    "QUESTION 3.In the years list, which year were you the oldest?"
   ]
  },
  {
   "cell_type": "code",
   "execution_count": 3,
   "id": "ad2d3b57",
   "metadata": {},
   "outputs": [
    {
     "name": "stdout",
     "output_type": "stream",
     "text": [
      "1999\n"
     ]
    }
   ],
   "source": [
    "# ANSWER 3\n",
    "\n",
    "print(max(years_list))"
   ]
  },
  {
   "cell_type": "markdown",
   "id": "d87ee239",
   "metadata": {},
   "source": [
    "QUESTION 4. Make a list called things with these three strings as elements:\"mozzarella\", \"cinderella\", \"salmonella\""
   ]
  },
  {
   "cell_type": "code",
   "execution_count": 4,
   "id": "83957c3d",
   "metadata": {},
   "outputs": [],
   "source": [
    "# ANSWER 4\n",
    "\n",
    "things = [\"mozzarella\", \"cinderella\", \"salmonella\"]"
   ]
  },
  {
   "cell_type": "markdown",
   "id": "4f894f20",
   "metadata": {},
   "source": [
    "QUESTION 5. Capitalize the element in things that refers to a person and then print the list. Did it change the\n",
    "element in the list?"
   ]
  },
  {
   "cell_type": "code",
   "execution_count": 5,
   "id": "2b553647",
   "metadata": {},
   "outputs": [
    {
     "data": {
      "text/plain": [
       "'Cinderella'"
      ]
     },
     "execution_count": 5,
     "metadata": {},
     "output_type": "execute_result"
    }
   ],
   "source": [
    "# ANSWER 5\n",
    "\n",
    "things[1].capitalize()\n",
    "\n",
    "# Here, only cinderella refers to a person while the mozzarella is a cheese and salmonella is a bacterial disease \n",
    "# which affects animals also."
   ]
  },
  {
   "cell_type": "code",
   "execution_count": 6,
   "id": "fe953116",
   "metadata": {},
   "outputs": [
    {
     "name": "stdout",
     "output_type": "stream",
     "text": [
      "['mozzarella', 'cinderella', 'salmonella']\n"
     ]
    }
   ],
   "source": [
    "print(things)\n",
    "\n",
    "# No, capitalize will not change the elements in the original string."
   ]
  },
  {
   "cell_type": "markdown",
   "id": "bb84c8e3",
   "metadata": {},
   "source": [
    "QUESTION 6. Make a surprise list with the elements \"Groucho\", \"Chico\", \"Harpo\""
   ]
  },
  {
   "cell_type": "code",
   "execution_count": 7,
   "id": "94244e3b",
   "metadata": {},
   "outputs": [],
   "source": [
    "#ANSWER 6\n",
    "\n",
    "surprise = [\"Groucho\", \"Chico\", \"Harpo\"]"
   ]
  },
  {
   "cell_type": "markdown",
   "id": "cc22f55b",
   "metadata": {},
   "source": [
    "QUESTION 7. Lowercase the last element of the surprise list, reverse it, and then capitalize it."
   ]
  },
  {
   "cell_type": "code",
   "execution_count": 8,
   "id": "478d03ee",
   "metadata": {},
   "outputs": [
    {
     "name": "stdout",
     "output_type": "stream",
     "text": [
      "['Groucho', 'Chico', 'harpo']\n"
     ]
    }
   ],
   "source": [
    "#ANSWER 7\n",
    "# lower case the last element of surprise list\n",
    "surprise[-1] = surprise[-1].lower()\n",
    "print(surprise)"
   ]
  },
  {
   "cell_type": "code",
   "execution_count": 9,
   "id": "e26d9961",
   "metadata": {},
   "outputs": [
    {
     "name": "stdout",
     "output_type": "stream",
     "text": [
      "['Groucho', 'Chico', 'oprah']\n"
     ]
    }
   ],
   "source": [
    "# then reverse the last element of surprise list\n",
    "surprise[-1] = surprise[-1][::-1]\n",
    "print(surprise)"
   ]
  },
  {
   "cell_type": "code",
   "execution_count": 10,
   "id": "8af95fcb",
   "metadata": {},
   "outputs": [
    {
     "name": "stdout",
     "output_type": "stream",
     "text": [
      "['Groucho', 'Chico', 'Oprah']\n"
     ]
    }
   ],
   "source": [
    "# then Capitalize the last element of surprise list\n",
    "surprise[-1] = surprise[-1].capitalize()\n",
    "print(surprise)"
   ]
  },
  {
   "cell_type": "markdown",
   "id": "a9cad3db",
   "metadata": {},
   "source": [
    "QUESTION 8. Make an English-to-French dictionary called e2f and print it. Here are your starter words: dog is\n",
    "chien, cat is chat, and walrus is morse."
   ]
  },
  {
   "cell_type": "code",
   "execution_count": 11,
   "id": "f2766a96",
   "metadata": {},
   "outputs": [
    {
     "name": "stdout",
     "output_type": "stream",
     "text": [
      "{'dog': 'chien', 'cat': 'chat', 'walrus': 'morse'}\n"
     ]
    }
   ],
   "source": [
    "# ANSWER 8\n",
    "\n",
    "e2f = {'dog':'chien', 'cat':'chat', 'walrus':'morse'}\n",
    "print(e2f)"
   ]
  },
  {
   "cell_type": "markdown",
   "id": "55999270",
   "metadata": {},
   "source": [
    "QUESTION 9. Write the French word for walrus in your three-word dictionary e2f."
   ]
  },
  {
   "cell_type": "code",
   "execution_count": 12,
   "id": "3f122ad3",
   "metadata": {},
   "outputs": [
    {
     "data": {
      "text/plain": [
       "'morse'"
      ]
     },
     "execution_count": 12,
     "metadata": {},
     "output_type": "execute_result"
    }
   ],
   "source": [
    "# ANSWER 9: \n",
    "\n",
    "# AMBIGUITY: since the word 'walrus' is already in the dictionary, wheter the question is asking to print the\n",
    "# french word for 'walrus',\n",
    "\n",
    "'''e2f['walrus']'''\n",
    "\n",
    "# but if the question is asking to write the french for 'walrus' in the 3-word dictionary even though its already there,  \n",
    "# then we could use the following command\n",
    "e2f.setdefault('walrus', 'morse')"
   ]
  },
  {
   "cell_type": "markdown",
   "id": "34c13289",
   "metadata": {},
   "source": [
    "QUESTION 10. Make a French-to-English dictionary called f2e from e2f. Use the items method."
   ]
  },
  {
   "cell_type": "code",
   "execution_count": 13,
   "id": "706ba4ce",
   "metadata": {},
   "outputs": [
    {
     "name": "stdout",
     "output_type": "stream",
     "text": [
      "{'chien': 'dog', 'chat': 'cat', 'morse': 'walrus'}\n"
     ]
    }
   ],
   "source": [
    "# ANSWER 10\n",
    "\n",
    "f2e = {value:key for key, value in e2f.items()}\n",
    "print(f2e)"
   ]
  },
  {
   "cell_type": "markdown",
   "id": "35b6d847",
   "metadata": {},
   "source": [
    "QUESTION 11. Print the English version of the French word chien using f2e."
   ]
  },
  {
   "cell_type": "code",
   "execution_count": 14,
   "id": "24d335e0",
   "metadata": {},
   "outputs": [
    {
     "data": {
      "text/plain": [
       "'dog'"
      ]
     },
     "execution_count": 14,
     "metadata": {},
     "output_type": "execute_result"
    }
   ],
   "source": [
    "# ANSWER 11\n",
    "\n",
    "f2e['chien']"
   ]
  },
  {
   "cell_type": "markdown",
   "id": "8b8b0556",
   "metadata": {},
   "source": [
    "QUESTION 12. Make and print a set of English words from the keys in e2f."
   ]
  },
  {
   "cell_type": "code",
   "execution_count": 15,
   "id": "a00b4cd2",
   "metadata": {},
   "outputs": [
    {
     "data": {
      "text/plain": [
       "dict_keys(['dog', 'cat', 'walrus'])"
      ]
     },
     "execution_count": 15,
     "metadata": {},
     "output_type": "execute_result"
    }
   ],
   "source": [
    "# ANSWER 12\n",
    "\n",
    "e2f.keys()"
   ]
  },
  {
   "cell_type": "markdown",
   "id": "877737e5",
   "metadata": {},
   "source": [
    "QUESTION 13. Make a multilevel dictionary called life. Use these strings for the topmost keys: \"animals\", \"plants\",\n",
    "and \"other\". Make the \"animals\" key refer to another dictionary with the keys \"cats\", \"octopi\", and\n",
    "\"emus\". Make the \"cats\" key refer to a list of strings with the values \"Henri\", \"Grumpy\", and \"Lucy\".\n",
    "Make all the other keys refer to empty dictionaary"
   ]
  },
  {
   "cell_type": "code",
   "execution_count": 2,
   "id": "818bae86",
   "metadata": {},
   "outputs": [
    {
     "data": {
      "text/plain": [
       "{'animals': {'cats': ['Henri', 'Grumpy', 'Lucy'], 'octopi': {}, 'emus': {}},\n",
       " 'plants': {},\n",
       " 'other': {}}"
      ]
     },
     "execution_count": 2,
     "metadata": {},
     "output_type": "execute_result"
    }
   ],
   "source": [
    "# ANSWER 13\n",
    "\n",
    "life = {'animals':{'cats':['Henri', 'Grumpy', 'Lucy'], 'octopi':{}, 'emus':{}},\n",
    "       'plants' :{},\n",
    "       'other' :{}}\n",
    "life"
   ]
  },
  {
   "cell_type": "markdown",
   "id": "15cdb821",
   "metadata": {},
   "source": [
    "QUESTION 14. Print the top-level keys of life."
   ]
  },
  {
   "cell_type": "code",
   "execution_count": 17,
   "id": "f64537ef",
   "metadata": {},
   "outputs": [
    {
     "data": {
      "text/plain": [
       "dict_keys(['animals', 'plants', 'other'])"
      ]
     },
     "execution_count": 17,
     "metadata": {},
     "output_type": "execute_result"
    }
   ],
   "source": [
    "# ANSWER 14\n",
    "\n",
    "# PRINTING TOP LEVEL KEYS\n",
    "\n",
    "life.keys()"
   ]
  },
  {
   "cell_type": "markdown",
   "id": "d0cd5a93",
   "metadata": {},
   "source": [
    "QUESTION 15. Print the keys for life[\"animals\"]."
   ]
  },
  {
   "cell_type": "code",
   "execution_count": 18,
   "id": "876db819",
   "metadata": {},
   "outputs": [
    {
     "data": {
      "text/plain": [
       "dict_keys(['cats', 'octopi', 'emus'])"
      ]
     },
     "execution_count": 18,
     "metadata": {},
     "output_type": "execute_result"
    }
   ],
   "source": [
    "# ANSWER 15: Print the keys for life['animals'].\n",
    "\n",
    "life['animals'].keys()"
   ]
  },
  {
   "cell_type": "markdown",
   "id": "c7d0bb4b",
   "metadata": {},
   "source": [
    "QUESTION 16. Print the values for life[\"animals\"][\"cats\"]"
   ]
  },
  {
   "cell_type": "code",
   "execution_count": 19,
   "id": "8c86b7cd",
   "metadata": {},
   "outputs": [
    {
     "data": {
      "text/plain": [
       "['Henri', 'Grumpy', 'Lucy']"
      ]
     },
     "execution_count": 19,
     "metadata": {},
     "output_type": "execute_result"
    }
   ],
   "source": [
    "# ANSWER 16: Print the values for life['animals']['cats']\n",
    "\n",
    "life['animals']['cats']"
   ]
  }
 ],
 "metadata": {
  "kernelspec": {
   "display_name": "Python 3 (ipykernel)",
   "language": "python",
   "name": "python3"
  },
  "language_info": {
   "codemirror_mode": {
    "name": "ipython",
    "version": 3
   },
   "file_extension": ".py",
   "mimetype": "text/x-python",
   "name": "python",
   "nbconvert_exporter": "python",
   "pygments_lexer": "ipython3",
   "version": "3.9.12"
  }
 },
 "nbformat": 4,
 "nbformat_minor": 5
}
