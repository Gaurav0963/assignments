{
 "cells": [
  {
   "cell_type": "code",
   "execution_count": 1,
   "id": "0a82950d",
   "metadata": {},
   "outputs": [
    {
     "name": "stdout",
     "output_type": "stream",
     "text": [
      "[1994, 1995, 1996, 1997, 1998, 1999]\n"
     ]
    }
   ],
   "source": [
    "# ANSWER 1\n",
    "\n",
    "years_list = [i for i in range(1994, 2000)]\n",
    "print(years_list)"
   ]
  },
  {
   "cell_type": "code",
   "execution_count": 2,
   "id": "0ce19c16",
   "metadata": {},
   "outputs": [
    {
     "name": "stdout",
     "output_type": "stream",
     "text": [
      "Third Birthday:  1997\n"
     ]
    }
   ],
   "source": [
    "# ANSWER 2\n",
    "\n",
    "print('Third Birthday: ',years_list[3])"
   ]
  },
  {
   "cell_type": "code",
   "execution_count": 3,
   "id": "ad2d3b57",
   "metadata": {},
   "outputs": [
    {
     "name": "stdout",
     "output_type": "stream",
     "text": [
      "1999\n"
     ]
    }
   ],
   "source": [
    "# ANSWER 3\n",
    "\n",
    "print(max(years_list))"
   ]
  },
  {
   "cell_type": "code",
   "execution_count": 4,
   "id": "83957c3d",
   "metadata": {},
   "outputs": [],
   "source": [
    "# ANSWER 4\n",
    "\n",
    "things = [\"mozzarella\", \"cinderella\", \"salmonella\"]"
   ]
  },
  {
   "cell_type": "code",
   "execution_count": 5,
   "id": "2b553647",
   "metadata": {},
   "outputs": [
    {
     "data": {
      "text/plain": [
       "'Cinderella'"
      ]
     },
     "execution_count": 5,
     "metadata": {},
     "output_type": "execute_result"
    }
   ],
   "source": [
    "# ANSWER 5\n",
    "\n",
    "things[1].capitalize()\n",
    "\n",
    "# Here, only cinderella refers to a person while the mozzarella is a cheese and salmonella is a bacterial disease \n",
    "# which affects animals also."
   ]
  },
  {
   "cell_type": "code",
   "execution_count": 6,
   "id": "fe953116",
   "metadata": {},
   "outputs": [
    {
     "name": "stdout",
     "output_type": "stream",
     "text": [
      "['mozzarella', 'cinderella', 'salmonella']\n"
     ]
    }
   ],
   "source": [
    "print(things)\n",
    "\n",
    "# No, capitalize will not change the elements in the original string."
   ]
  },
  {
   "cell_type": "code",
   "execution_count": 7,
   "id": "94244e3b",
   "metadata": {},
   "outputs": [],
   "source": [
    "#ANSWER 6\n",
    "\n",
    "surprise = [\"Groucho\", \"Chico\", \"Harpo\"]"
   ]
  },
  {
   "cell_type": "code",
   "execution_count": 8,
   "id": "478d03ee",
   "metadata": {},
   "outputs": [
    {
     "name": "stdout",
     "output_type": "stream",
     "text": [
      "['Groucho', 'Chico', 'harpo']\n"
     ]
    }
   ],
   "source": [
    "#ANSWER 7\n",
    "# lower case the last element of surprise list\n",
    "surprise[-1] = surprise[-1].lower()\n",
    "print(surprise)"
   ]
  },
  {
   "cell_type": "code",
   "execution_count": 9,
   "id": "e26d9961",
   "metadata": {},
   "outputs": [
    {
     "name": "stdout",
     "output_type": "stream",
     "text": [
      "['Groucho', 'Chico', 'oprah']\n"
     ]
    }
   ],
   "source": [
    "# then reverse the last element of surprise list\n",
    "surprise[-1] = surprise[-1][::-1]\n",
    "print(surprise)"
   ]
  },
  {
   "cell_type": "code",
   "execution_count": 10,
   "id": "8af95fcb",
   "metadata": {},
   "outputs": [
    {
     "name": "stdout",
     "output_type": "stream",
     "text": [
      "['Groucho', 'Chico', 'Oprah']\n"
     ]
    }
   ],
   "source": [
    "# then Capitalize the last element of surprise list\n",
    "surprise[-1] = surprise[-1].capitalize()\n",
    "print(surprise)"
   ]
  },
  {
   "cell_type": "code",
   "execution_count": 11,
   "id": "f2766a96",
   "metadata": {},
   "outputs": [
    {
     "name": "stdout",
     "output_type": "stream",
     "text": [
      "{'dog': 'chien', 'cat': 'chat', 'walrus': 'morse'}\n"
     ]
    }
   ],
   "source": [
    "# ANSWER 8\n",
    "\n",
    "e2f = {'dog':'chien', 'cat':'chat', 'walrus':'morse'}\n",
    "print(e2f)"
   ]
  },
  {
   "cell_type": "code",
   "execution_count": 12,
   "id": "3f122ad3",
   "metadata": {},
   "outputs": [
    {
     "data": {
      "text/plain": [
       "'morse'"
      ]
     },
     "execution_count": 12,
     "metadata": {},
     "output_type": "execute_result"
    }
   ],
   "source": [
    "# ANSWER 9: \n",
    "\n",
    "# AMBIGUITY: since the word 'walrus' is already in the dictionary, wheter the question is asking to print the\n",
    "# french word for 'walrus',\n",
    "\n",
    "'''e2f['walrus']'''\n",
    "\n",
    "# but if the question is asking to write the french for 'walrus' in the 3-word dictionary even though its already there,  \n",
    "# then we could use the following command\n",
    "e2f.setdefault('walrus', 'morse')"
   ]
  },
  {
   "cell_type": "code",
   "execution_count": 13,
   "id": "706ba4ce",
   "metadata": {},
   "outputs": [
    {
     "name": "stdout",
     "output_type": "stream",
     "text": [
      "{'chien': 'dog', 'chat': 'cat', 'morse': 'walrus'}\n"
     ]
    }
   ],
   "source": [
    "# ANSWER 10\n",
    "\n",
    "f2e = {value:key for key, value in e2f.items()}\n",
    "print(f2e)"
   ]
  },
  {
   "cell_type": "code",
   "execution_count": 14,
   "id": "24d335e0",
   "metadata": {},
   "outputs": [
    {
     "data": {
      "text/plain": [
       "'dog'"
      ]
     },
     "execution_count": 14,
     "metadata": {},
     "output_type": "execute_result"
    }
   ],
   "source": [
    "# ANSWER 11\n",
    "\n",
    "f2e['chien']"
   ]
  },
  {
   "cell_type": "code",
   "execution_count": 15,
   "id": "a00b4cd2",
   "metadata": {},
   "outputs": [
    {
     "data": {
      "text/plain": [
       "dict_keys(['dog', 'cat', 'walrus'])"
      ]
     },
     "execution_count": 15,
     "metadata": {},
     "output_type": "execute_result"
    }
   ],
   "source": [
    "# ANSWER 12\n",
    "\n",
    "e2f.keys()"
   ]
  },
  {
   "cell_type": "code",
   "execution_count": 16,
   "id": "818bae86",
   "metadata": {},
   "outputs": [
    {
     "data": {
      "text/plain": [
       "{'animals': {'cats': ['Henri', 'Grumpy', 'Lucy'], 'octopi': {}, 'emus': {}},\n",
       " 'plants': {},\n",
       " 'other': {}}"
      ]
     },
     "execution_count": 16,
     "metadata": {},
     "output_type": "execute_result"
    }
   ],
   "source": [
    "# ANSWER 13\n",
    "\n",
    "life = {'animals':{'cats':['Henri', 'Grumpy', 'Lucy'], 'octopi':{}, 'emus':{}},\n",
    "       'plants' :{},\n",
    "       'other' :{}}\n",
    "life"
   ]
  },
  {
   "cell_type": "code",
   "execution_count": 17,
   "id": "f64537ef",
   "metadata": {},
   "outputs": [
    {
     "data": {
      "text/plain": [
       "dict_keys(['animals', 'plants', 'other'])"
      ]
     },
     "execution_count": 17,
     "metadata": {},
     "output_type": "execute_result"
    }
   ],
   "source": [
    "# ANSWER 14\n",
    "\n",
    "# PRINTING TOP LEVEL KEYS\n",
    "\n",
    "life.keys()"
   ]
  },
  {
   "cell_type": "code",
   "execution_count": 18,
   "id": "876db819",
   "metadata": {},
   "outputs": [
    {
     "data": {
      "text/plain": [
       "dict_keys(['cats', 'octopi', 'emus'])"
      ]
     },
     "execution_count": 18,
     "metadata": {},
     "output_type": "execute_result"
    }
   ],
   "source": [
    "# ANSWER 15: Print the keys for life['animals'].\n",
    "\n",
    "life['animals'].keys()"
   ]
  },
  {
   "cell_type": "code",
   "execution_count": 19,
   "id": "8c86b7cd",
   "metadata": {},
   "outputs": [
    {
     "data": {
      "text/plain": [
       "['Henri', 'Grumpy', 'Lucy']"
      ]
     },
     "execution_count": 19,
     "metadata": {},
     "output_type": "execute_result"
    }
   ],
   "source": [
    "# ANSWER 16: Print the values for life['animals']['cats']\n",
    "\n",
    "life['animals']['cats']"
   ]
  },
  {
   "cell_type": "code",
   "execution_count": null,
   "id": "8d9343ae",
   "metadata": {},
   "outputs": [],
   "source": []
  },
  {
   "cell_type": "code",
   "execution_count": null,
   "id": "6f28446a",
   "metadata": {},
   "outputs": [],
   "source": []
  }
 ],
 "metadata": {
  "kernelspec": {
   "display_name": "Python 3 (ipykernel)",
   "language": "python",
   "name": "python3"
  },
  "language_info": {
   "codemirror_mode": {
    "name": "ipython",
    "version": 3
   },
   "file_extension": ".py",
   "mimetype": "text/x-python",
   "name": "python",
   "nbconvert_exporter": "python",
   "pygments_lexer": "ipython3",
   "version": "3.9.12"
  }
 },
 "nbformat": 4,
 "nbformat_minor": 5
}
