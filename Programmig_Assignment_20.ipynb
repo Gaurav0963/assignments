{
 "cells": [
  {
   "cell_type": "markdown",
   "id": "f9416f91",
   "metadata": {},
   "source": [
    "# PROGRAMMING ASSIGNMENT 20"
   ]
  },
  {
   "cell_type": "markdown",
   "id": "54efccab",
   "metadata": {},
   "source": [
    "WRITING ONLY FUNCTIONS SINCE QUESTIONS ONLY ASKING FOR FUNCTIONS."
   ]
  },
  {
   "cell_type": "markdown",
   "id": "c63c13b4",
   "metadata": {},
   "source": [
    "## QUESTION 1:"
   ]
  },
  {
   "cell_type": "code",
   "execution_count": 7,
   "id": "8fcb98d4",
   "metadata": {},
   "outputs": [
    {
     "data": {
      "text/plain": [
       "[0, 1729]"
      ]
     },
     "execution_count": 7,
     "metadata": {},
     "output_type": "execute_result"
    }
   ],
   "source": [
    "# Create a function that takes a list of strings and integers, and filters out the list so that it returns a list of integers only.\n",
    "\n",
    "\n",
    "def filter_list(mylist):\n",
    "    return [item for item in mylist if type(item) == int]\n",
    "\n",
    "\n",
    "\n",
    "filter_list(['A', 0, 'Edabit', 1729, 'Python', '1729'])"
   ]
  },
  {
   "cell_type": "markdown",
   "id": "66180f7d",
   "metadata": {},
   "source": [
    "## QUESTION 2:"
   ]
  },
  {
   "cell_type": "code",
   "execution_count": 8,
   "id": "ec88040a",
   "metadata": {},
   "outputs": [
    {
     "data": {
      "text/plain": [
       "[5, 5, 5, 5, 5]"
      ]
     },
     "execution_count": 8,
     "metadata": {},
     "output_type": "execute_result"
    }
   ],
   "source": [
    "# Given a list of numbers, create a function which returns the list but with each element's index in the list added to itself.\n",
    "# This means you add 0 to the number at index 0, add 1 to the number at index 1, etc...\n",
    "\n",
    "\n",
    "def add_indexes(mylist):\n",
    "    return [(idx+val) for idx, val in enumerate(mylist)]\n",
    "\n",
    "\n",
    "add_indexes([5, 4, 3, 2, 1])"
   ]
  },
  {
   "cell_type": "markdown",
   "id": "73903677",
   "metadata": {},
   "source": [
    "## QUESTION 3:"
   ]
  },
  {
   "cell_type": "code",
   "execution_count": 9,
   "id": "2867e8c7",
   "metadata": {},
   "outputs": [
    {
     "data": {
      "text/plain": [
       "565.47"
      ]
     },
     "execution_count": 9,
     "metadata": {},
     "output_type": "execute_result"
    }
   ],
   "source": [
    "# QUESTION 3:\n",
    "# Create a function that takes the height and radius of a cone as arguments and returns the\n",
    "# volume of the cone rounded to the nearest hundredth. See the resources tab for the formula.\n",
    "\n",
    "\n",
    "def cone_volume(height, radius):\n",
    "    volume = (3.1415 * radius * radius * height)/3\n",
    "    return round(volume, 2)\n",
    "\n",
    "\n",
    "\n",
    "cone_volume(15, 6)"
   ]
  },
  {
   "cell_type": "markdown",
   "id": "ec751e7a",
   "metadata": {},
   "source": [
    "## QUESTION 4:"
   ]
  },
  {
   "cell_type": "code",
   "execution_count": 13,
   "id": "a1d96fb9",
   "metadata": {},
   "outputs": [
    {
     "data": {
      "text/plain": [
       "21"
      ]
     },
     "execution_count": 13,
     "metadata": {},
     "output_type": "execute_result"
    }
   ],
   "source": [
    "# Write a function that gives the number of dots with its corresponding triangle number of the sequence.\n",
    "\n",
    "\n",
    "def triangle(num): \n",
    "    total_dots =  (num * (num+1))//2\n",
    "    return total_dots\n",
    "\n",
    "\n",
    "triangle(6)\n",
    "    "
   ]
  },
  {
   "cell_type": "markdown",
   "id": "42fa27ac",
   "metadata": {},
   "source": [
    "## QUESTION 5"
   ]
  },
  {
   "cell_type": "code",
   "execution_count": 25,
   "id": "d8c4c2fe",
   "metadata": {},
   "outputs": [
    {
     "data": {
      "text/plain": [
       "5"
      ]
     },
     "execution_count": 25,
     "metadata": {},
     "output_type": "execute_result"
    }
   ],
   "source": [
    "# Create a function that takes a list of numbers between 1 and 10 (excluding one number) and returns the missing number.\n",
    "\n",
    "\n",
    "def missing_num(mylist):\n",
    "    list_sum = sum(item for item in mylist)\n",
    "    return (55 - list_sum)   #55 is the sum of first 10 natural numbers\n",
    "\n",
    "        \n",
    "missing_num([1, 2, 3, 4, 6, 7, 8, 9, 10])"
   ]
  }
 ],
 "metadata": {
  "kernelspec": {
   "display_name": "Python 3 (ipykernel)",
   "language": "python",
   "name": "python3"
  },
  "language_info": {
   "codemirror_mode": {
    "name": "ipython",
    "version": 3
   },
   "file_extension": ".py",
   "mimetype": "text/x-python",
   "name": "python",
   "nbconvert_exporter": "python",
   "pygments_lexer": "ipython3",
   "version": "3.9.12"
  }
 },
 "nbformat": 4,
 "nbformat_minor": 5
}
