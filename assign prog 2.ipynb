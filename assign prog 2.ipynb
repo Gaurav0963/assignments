{
 "cells": [
  {
   "cell_type": "code",
   "execution_count": 42,
   "id": "27948d44",
   "metadata": {
    "scrolled": true
   },
   "outputs": [
    {
     "name": "stdout",
     "output_type": "stream",
     "text": [
      "Enter Kilometers: A\n",
      "\n",
      "Please Enter Numerical data\n"
     ]
    }
   ],
   "source": [
    "# ANSWER 1: Write a Python program to convert kilometers to miles?\n",
    " \n",
    "try:\n",
    "    def km2miles(k):\n",
    "        return k * 0.621371\n",
    "    \n",
    "    km = float(input(\"Enter Kilometers: \"))\n",
    "    miles = km2miles(km)\n",
    "    print('\\n{}km = {:.2f} miles'.format(km, miles))\n",
    "    \n",
    "except ValueError:\n",
    "    print('\\nPlease Enter Numerical data')"
   ]
  },
  {
   "cell_type": "code",
   "execution_count": 43,
   "id": "b0d8d0c0",
   "metadata": {},
   "outputs": [
    {
     "name": "stdout",
     "output_type": "stream",
     "text": [
      "Enter degree Celcius: -40\n",
      "\n",
      "-40.0 degree celcius = -40.0 degree fahrenheit\n"
     ]
    }
   ],
   "source": [
    "# ANSWER 2: Write a Python program to convert Celsius to Fahrenheit?\n",
    "\n",
    "try:\n",
    "    def celcius_to_fahrenheit(c):\n",
    "        f = (1.8 * c) + 32\n",
    "        return f\n",
    "    \n",
    "    celcius = float(input(\"Enter degree Celcius: \"))\n",
    "    fahrenheit = celcius_to_fahrenheit(celcius)\n",
    "    print('\\n{} degree celcius = {:.1f} degree fahrenheit'.format(celcius, fahrenheit))\n",
    "    \n",
    "except ValueError:\n",
    "    print('\\nPlease Enter Numerical data')"
   ]
  },
  {
   "cell_type": "code",
   "execution_count": 34,
   "id": "182656f3",
   "metadata": {},
   "outputs": [
    {
     "name": "stdout",
     "output_type": "stream",
     "text": [
      "Enter year in 'YYYY' format: 2022\n",
      "\n",
      "Enter ( month = 0 ) for whole year's calendar\n",
      "Enter month in 'MM' format: 12\n",
      "\n",
      "    December 2022\n",
      "Mo Tu We Th Fr Sa Su\n",
      "          1  2  3  4\n",
      " 5  6  7  8  9 10 11\n",
      "12 13 14 15 16 17 18\n",
      "19 20 21 22 23 24 25\n",
      "26 27 28 29 30 31\n",
      "\n"
     ]
    }
   ],
   "source": [
    "# ANSWER 3: Write a Python program to display calendar?\n",
    "    \n",
    "import calendar\n",
    " \n",
    "try:\n",
    "    y=int(input(\"Enter year in 'YYYY' format: \"))\n",
    "    print(\"\\nEnter ( month = 0 ) for whole year's calendar\")\n",
    "    m=int(input(\"Enter month in 'MM' format: \"))\n",
    "    if m == 0:\n",
    "        print('\\n',calendar.calendar(y))\n",
    "    else:\n",
    "        print('\\n',calendar.month(y,m))\n",
    "\n",
    "except ValueError:\n",
    "    print('\\nPlease Enter Numerical data')\n",
    "    \n",
    "except IndexError:\n",
    "    print('\\n{}th month does not exist'.format(m))\n",
    "    print('\\nplease enter month from 1 to 12, both inclusive\\nwhere,\\n\\t01 : January\\n\\t12 : December')"
   ]
  },
  {
   "cell_type": "code",
   "execution_count": 41,
   "id": "89892d07",
   "metadata": {},
   "outputs": [
    {
     "name": "stdout",
     "output_type": "stream",
     "text": [
      "a*X*X + b*X + c\n",
      "Enter a: 12\n",
      "Enter b: 1\n",
      "Enter c: 50\n",
      "\n",
      "Complex Roots\n",
      "(-0.041666666666666664-2.0408161493764094j)\n",
      "(-0.041666666666666664+2.0408161493764094j)\n"
     ]
    }
   ],
   "source": [
    "# Answer 4: Write a Python program to solve quadratic equation?\n",
    "\n",
    "import math \n",
    "import cmath\n",
    "  \n",
    "def Quadratic_Eqn( a, b, c): \n",
    "  \n",
    "    D = (b**2) - (4*a *c)  \n",
    "\n",
    "    if D > 0:\n",
    "        sqrt_D = math.sqrt(D)\n",
    "        print(\"\\nReal and Distinct roots \") \n",
    "        print((-b + sqrt_D)/(2 * a)) \n",
    "        print((-b - sqrt_D)/(2 * a)) \n",
    "      \n",
    "    elif D == 0:\n",
    "        sqrt_D = math.sqrt(D)\n",
    "        print(\"\\nReal and Equal roots\") \n",
    "        print(-b / (2 * a)) \n",
    "      \n",
    "    elif D < 0:\n",
    "        print(\"\\nComplex Roots\")\n",
    "        print((-b - cmath.sqrt(D))/(2 * a)) \n",
    "        print((-b + cmath.sqrt(D))/(2 * a)) \n",
    "\n",
    "print('a*X*X + b*X + c')\n",
    "x = float(input('Enter a: '))\n",
    "if x == 0: \n",
    "    print(\"\\na cannot be zero\\nEnter correct quadratic equation\") \n",
    "else:\n",
    "    y = float(input('Enter b: '))\n",
    "    z = float(input('Enter c: '))\n",
    "    Quadratic_Eqn(x, y, z)"
   ]
  },
  {
   "cell_type": "code",
   "execution_count": 47,
   "id": "f6cecbf2",
   "metadata": {},
   "outputs": [
    {
     "name": "stdout",
     "output_type": "stream",
     "text": [
      "provide two input with a space in between: 12 13\n",
      "INPUT\n",
      "a = 12, b = 13\n",
      "\n",
      "SWAPPED\n",
      "a = 13, b = 12\n"
     ]
    }
   ],
   "source": [
    "# ANSWER 5: Write a Python program to swap two variables without temp variable?\n",
    "\n",
    "def swap(a,b):\n",
    "    print('INPUT\\na = {}, b = {}'.format(a,b))\n",
    "    a,b=b,a\n",
    "    print('\\nSWAPPED\\na = {}, b = {}'.format(a,b))\n",
    "    \n",
    "data = input(\"provide two input with a space in between: \").split()\n",
    "\n",
    "a = data[0]\n",
    "b = data[1]\n",
    "\n",
    "swap(a, b)"
   ]
  },
  {
   "cell_type": "code",
   "execution_count": null,
   "id": "be18deb3",
   "metadata": {},
   "outputs": [],
   "source": []
  }
 ],
 "metadata": {
  "kernelspec": {
   "display_name": "Python 3 (ipykernel)",
   "language": "python",
   "name": "python3"
  },
  "language_info": {
   "codemirror_mode": {
    "name": "ipython",
    "version": 3
   },
   "file_extension": ".py",
   "mimetype": "text/x-python",
   "name": "python",
   "nbconvert_exporter": "python",
   "pygments_lexer": "ipython3",
   "version": "3.9.12"
  }
 },
 "nbformat": 4,
 "nbformat_minor": 5
}
