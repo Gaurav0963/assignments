{
 "cells": [
  {
   "cell_type": "markdown",
   "id": "48442bde",
   "metadata": {},
   "source": [
    "# PROGRAMMING ASSIGNMENT 19"
   ]
  },
  {
   "cell_type": "markdown",
   "id": "499eff07",
   "metadata": {},
   "source": [
    "Since Questions asking to create FUNCTIONS..."
   ]
  },
  {
   "cell_type": "markdown",
   "id": "a4e491b8",
   "metadata": {},
   "source": [
    "### Question 1:"
   ]
  },
  {
   "cell_type": "code",
   "execution_count": 2,
   "id": "c20b4af3",
   "metadata": {},
   "outputs": [
    {
     "data": {
      "text/plain": [
       "'11223344!!__'"
      ]
     },
     "execution_count": 2,
     "metadata": {},
     "output_type": "execute_result"
    }
   ],
   "source": [
    "# Create a function that takes a string and returns a string in which each character is repeated once.\n",
    "\n",
    "\n",
    "def double_char(string):\n",
    "    return ''.join([char*2 for char in string])\n",
    "\n",
    "\n",
    "\n",
    "double_char('1234!_')\n",
    "        "
   ]
  },
  {
   "cell_type": "markdown",
   "id": "84dae186",
   "metadata": {},
   "source": [
    "### Question 2:"
   ]
  },
  {
   "cell_type": "code",
   "execution_count": 12,
   "id": "52557c33",
   "metadata": {},
   "outputs": [
    {
     "data": {
      "text/plain": [
       "True"
      ]
     },
     "execution_count": 12,
     "metadata": {},
     "output_type": "execute_result"
    }
   ],
   "source": [
    "# Create a function that reverses a boolean value and returns the string 'boolean expected' if another variable type is given.\n",
    "\n",
    "\n",
    "def reverse(boolean):\n",
    "    \n",
    "    if type(boolean) != bool:\n",
    "        return \"boolean expected\"\n",
    "    \n",
    "    elif boolean == True:\n",
    "        return False\n",
    "    \n",
    "    return True\n",
    "    \n",
    "    \n",
    "reverse(False)"
   ]
  },
  {
   "cell_type": "markdown",
   "id": "6e37e016",
   "metadata": {},
   "source": [
    "### Question 3\n"
   ]
  },
  {
   "cell_type": "code",
   "execution_count": 19,
   "id": "4b545e4f",
   "metadata": {},
   "outputs": [
    {
     "data": {
      "text/plain": [
       "'1048.576m'"
      ]
     },
     "execution_count": 19,
     "metadata": {},
     "output_type": "execute_result"
    }
   ],
   "source": [
    "# Create a function that returns the thickness (in meters) of a piece of paper after folding it n number of times. The paper starts off with a thickness of 0.5mm.\n",
    "\n",
    "\n",
    "def num_layers(ntimes):\n",
    "    thickness = (0.001 * pow(2, ntimes)) / 2\n",
    "    return str(thickness)+'m'\n",
    "  \n",
    "    \n",
    "num_layers(21)"
   ]
  },
  {
   "cell_type": "markdown",
   "id": "d0f338a8",
   "metadata": {},
   "source": [
    "### Question 4"
   ]
  },
  {
   "cell_type": "code",
   "execution_count": 35,
   "id": "0fed6649",
   "metadata": {},
   "outputs": [
    {
     "data": {
      "text/plain": [
       "[1, 3, 5]"
      ]
     },
     "execution_count": 35,
     "metadata": {},
     "output_type": "execute_result"
    }
   ],
   "source": [
    "# Create a function that takes a single string as argument and returns an ordered list containing the indices of all capital letters in the string.\n",
    "\n",
    "\n",
    "def index_of_caps(string):\n",
    "    index = [idx for idx, val in enumerate(string) if val.isupper() == True]\n",
    "    return index\n",
    "\n",
    "\n",
    "index_of_caps('eDaBiT')"
   ]
  },
  {
   "cell_type": "markdown",
   "id": "1f9ddfde",
   "metadata": {},
   "source": [
    "### Question 5\n",
    "   \n",
    "        "
   ]
  },
  {
   "cell_type": "code",
   "execution_count": 38,
   "id": "dccba64a",
   "metadata": {},
   "outputs": [
    {
     "data": {
      "text/plain": [
       "[2, 4, 6, 8]"
      ]
     },
     "execution_count": 38,
     "metadata": {},
     "output_type": "execute_result"
    }
   ],
   "source": [
    "# Using list comprehensions, create a function that finds all even numbers from 1 to the given number.\n",
    "\n",
    "\n",
    "def find_even_nums(number):\n",
    "    even_number = [num for num in range(1, number+1) if num % 2 == 0]\n",
    "    return even_number\n",
    "\n",
    "\n",
    "find_even_nums(8)"
   ]
  }
 ],
 "metadata": {
  "kernelspec": {
   "display_name": "Python 3 (ipykernel)",
   "language": "python",
   "name": "python3"
  },
  "language_info": {
   "codemirror_mode": {
    "name": "ipython",
    "version": 3
   },
   "file_extension": ".py",
   "mimetype": "text/x-python",
   "name": "python",
   "nbconvert_exporter": "python",
   "pygments_lexer": "ipython3",
   "version": "3.9.12"
  }
 },
 "nbformat": 4,
 "nbformat_minor": 5
}
