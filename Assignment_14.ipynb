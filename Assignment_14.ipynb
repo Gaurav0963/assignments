{
 "cells": [
  {
   "cell_type": "markdown",
   "id": "dd1694cd",
   "metadata": {},
   "source": [
    "# ASSIGNMENT 13"
   ]
  },
  {
   "cell_type": "markdown",
   "id": "bb4d02f6",
   "metadata": {},
   "source": [
    "### QUESTION 1: What does RGBA stand for?\n",
    "ANSWER:\n",
    "1. An RGBA value is a group of numbers that specify the amount of red, green, blue, and alpha (or transparency) in a color. Each of these component values is an integer from 0 (none at all) to 255 (the maximum). \n",
    "3. These RGBA values are assigned to individual pixels. A pixel’s RGB setting tells it precisely what shade of color it should display.\n"
   ]
  },
  {
   "cell_type": "markdown",
   "id": "de0649c6",
   "metadata": {},
   "source": [
    "### QUESTION 2: From the Pillow module, how do you get the RGBA value of any images?\n",
    "    ANSWER:\n",
    "    Pillow offers the ImageColor.getcolor() function. \n",
    "    This function takes a color name string as its first argument, and the string 'RGBA' as its second argument, \n",
    "    and it returns an RGBA tuple.\n"
   ]
  },
  {
   "cell_type": "markdown",
   "id": "83d80d6e",
   "metadata": {},
   "source": [
    "### QUESTION 3: What is a box tuple, and how does it work?\n",
    "ANSWER : \n",
    "Box tuple takes four integer coordinates that represent a rectangular region in an image. The four integers are, in order, as follows: \n",
    "1. Left : The x-coordinate of the leftmost edge of the box. \n",
    "2. Top : The y-coordinate of the top edge of the box. \n",
    "3. Right : The x-coordinate of one pixel to the right of the rightmost edge of the box. This integer must be greater than the left integer. \n",
    "4. Bottom : The y-coordinate of one pixel lower than the bottom edge of the box. This integer must be greater than the top integer.\n"
   ]
  },
  {
   "cell_type": "markdown",
   "id": "6f7a6106",
   "metadata": {},
   "source": [
    "### QUESTION 4 : Use your image and load in notebook then, How can you find out the width and height of an Image object?\n"
   ]
  },
  {
   "cell_type": "code",
   "execution_count": 6,
   "id": "de969c3b",
   "metadata": {},
   "outputs": [
    {
     "name": "stdout",
     "output_type": "stream",
     "text": [
      "Requirement already satisfied: Pillow in c:\\users\\gaurav\\anaconda3\\lib\\site-packages (9.0.1)\n",
      "Note: you may need to restart the kernel to use updated packages.\n"
     ]
    }
   ],
   "source": [
    "pip install Pillow\n"
   ]
  },
  {
   "cell_type": "code",
   "execution_count": 5,
   "id": "6a4a0588",
   "metadata": {},
   "outputs": [
    {
     "data": {
      "text/plain": [
       "'9.0.1'"
      ]
     },
     "execution_count": 5,
     "metadata": {},
     "output_type": "execute_result"
    }
   ],
   "source": [
    "import PIL\n",
    "  \n",
    "PIL.__version__"
   ]
  },
  {
   "cell_type": "code",
   "execution_count": 7,
   "id": "4d2f8c31",
   "metadata": {},
   "outputs": [
    {
     "data": {
      "text/plain": [
       "(736, 899)"
      ]
     },
     "execution_count": 7,
     "metadata": {},
     "output_type": "execute_result"
    }
   ],
   "source": [
    "from PIL import Image\n",
    "Bat = Image.open('Batman.jpg')\n",
    "Bat.size"
   ]
  },
  {
   "cell_type": "code",
   "execution_count": 9,
   "id": "91a38eed",
   "metadata": {},
   "outputs": [
    {
     "name": "stdout",
     "output_type": "stream",
     "text": [
      "width: 736\n",
      "Height: 899\n"
     ]
    }
   ],
   "source": [
    "width, height = Bat.size\n",
    "print('width: {}\\nHeight: {}'.format(width, height))"
   ]
  },
  {
   "cell_type": "markdown",
   "id": "210b59e1",
   "metadata": {},
   "source": [
    "### QUESTION 5 : What method would you call to get Image object for a 100×100 image, excluding the lower-left quarter of it?\n",
    "    ANSWER: imageObj.crop((0, 50, 50, 50)). \n",
    "             NOTE 1 : We are passing a box tuple to crop(), not four separate integer arguments.\n",
    "             NOTE 2 : The cropping does not happen in place—that is, the original Image object is left untouched, \n",
    "                      and the crop() method returns a new Image object."
   ]
  },
  {
   "cell_type": "markdown",
   "id": "f25325ba",
   "metadata": {},
   "source": [
    "### QUESTION 6 : After making changes to an Image object, how could you save it as an image file?\n",
    "    ANSWER : Call the imageObject.save('new_filename.jpg') method of the Image object."
   ]
  },
  {
   "cell_type": "markdown",
   "id": "a07461b6",
   "metadata": {},
   "source": [
    "### QUESTION 8 : What module contains Pillow’s shape-drawing code?\n",
    "    ANSWER : The ImageDraw module contains code to draw on images."
   ]
  },
  {
   "cell_type": "markdown",
   "id": "46b056a8",
   "metadata": {},
   "source": [
    "### QUESTION 9 : Image objects do not have drawing methods. What kind of object does? How do you get this kind of object?\n",
    "    ANSWER : ImageDraw objects have shape-drawing methods such as point(), line(), or rectangle(). \n",
    "             They are returned by passing the Image object to the ImageDraw.Draw() function."
   ]
  }
 ],
 "metadata": {
  "kernelspec": {
   "display_name": "Python 3 (ipykernel)",
   "language": "python",
   "name": "python3"
  },
  "language_info": {
   "codemirror_mode": {
    "name": "ipython",
    "version": 3
   },
   "file_extension": ".py",
   "mimetype": "text/x-python",
   "name": "python",
   "nbconvert_exporter": "python",
   "pygments_lexer": "ipython3",
   "version": "3.9.12"
  }
 },
 "nbformat": 4,
 "nbformat_minor": 5
}
