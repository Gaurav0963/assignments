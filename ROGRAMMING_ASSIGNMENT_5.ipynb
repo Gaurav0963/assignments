{
 "cells": [
  {
   "cell_type": "code",
   "execution_count": 11,
   "id": "6097e26c",
   "metadata": {},
   "outputs": [
    {
     "name": "stdout",
     "output_type": "stream",
     "text": [
      "\n",
      "Enter Numbers : 12 13\n",
      "LCM:  156\n"
     ]
    }
   ],
   "source": [
    "# QUESTION 1: Write a Python Program to Find LCM?\n",
    "\n",
    "from functools import reduce\n",
    "\n",
    "def lcm(a, b):\n",
    "    if a > b:\n",
    "        greater = a\n",
    "    else:\n",
    "        greater = b\n",
    "\n",
    "    while True:\n",
    "        if greater % a == 0 and greater % b == 0:\n",
    "            lcm = greater\n",
    "            break\n",
    "        greater += 1\n",
    "\n",
    "    return lcm\n",
    "\n",
    "def find_lcm(number_list):\n",
    "    return reduce(lambda x, y: lcm(x, y), number_list)\n",
    "\n",
    "try:\n",
    "    num = list(map(int, input('\\nEnter Numbers : ').split()))\n",
    "    result = find_lcm(num)\n",
    "    print('LCM: ', result)\n",
    "    \n",
    "except ValueError as e:\n",
    "    print(e, '--> Enter Natural Numbers')\n",
    "    \n",
    "except ZeroDivisionError as z:\n",
    "    print(z, \">>You've entered zero<<\")\n",
    "    print('Please enter NATURAL NUMBERS')"
   ]
  },
  {
   "cell_type": "code",
   "execution_count": 10,
   "id": "f081ea78",
   "metadata": {},
   "outputs": [
    {
     "name": "stdout",
     "output_type": "stream",
     "text": [
      "\n",
      "Enter Numbers : 19 30\n",
      "HCF:  1\n"
     ]
    }
   ],
   "source": [
    "# QUESTION 2: Write a Python Program to Find HCF?\n",
    "\n",
    "from math import gcd\n",
    "\n",
    "def find_hcf(nums):\n",
    "    if len(nums) == 1:\n",
    "        return nums[0]\n",
    "\n",
    "    div = gcd(nums[0], nums[1])\n",
    "    if len(nums) == 2:\n",
    "        return div\n",
    "\n",
    "    for i in range(1, len(nums) - 1):\n",
    "        div = gcd(div, nums[i + 1])\n",
    "        if div == 1:\n",
    "            return div\n",
    "    return div\n",
    "\n",
    "try:\n",
    "    num = list(map(int, input('\\nEnter Numbers : ').split()))\n",
    "    result = find_hcf(num)\n",
    "    print('HCF: ', result)\n",
    "    \n",
    "except ValueError as e:\n",
    "    print(e, '--> Enter Whole Numbers')\n"
   ]
  },
  {
   "cell_type": "code",
   "execution_count": 42,
   "id": "9adedc8f",
   "metadata": {},
   "outputs": [
    {
     "name": "stdout",
     "output_type": "stream",
     "text": [
      "Enter the Decimal Number: 10\n",
      "\n",
      "Decimal to Binary:  0b1010\n",
      "\n",
      "Decimal to Octal:  0o12\n",
      "\n",
      "Decimal to Hexadecimal:  0xa\n"
     ]
    }
   ],
   "source": [
    "# QUESTION 3 : Write a Python Program to Convert Decimal to Binary, Octal and Hexadecimal?\n",
    "\n",
    "def converter(num):\n",
    "    print('\\nDecimal to Binary: ',bin(num))\n",
    "    print('\\nDecimal to Octal: ',oct(num))\n",
    "    print('\\nDecimal to Hexadecimal: ',hex(num))\n",
    "\n",
    "try:\n",
    "    decimal_number = int(input('Enter the Decimal Number: '))\n",
    "    converter(decimal_number)\n",
    "    \n",
    "except ValueError as V:\n",
    "    print(V, '\\n\\n>>oops! incorrect input ')\n"
   ]
  },
  {
   "cell_type": "code",
   "execution_count": 62,
   "id": "63122a57",
   "metadata": {},
   "outputs": [
    {
     "name": "stdout",
     "output_type": "stream",
     "text": [
      "Enter a character: b\n",
      "\n",
      "ASCII value of b is 98\n",
      "\n",
      "Press 'y' to continue, press any other key to exit: y\n",
      "Enter a character: v\n",
      "\n",
      "ASCII value of v is 118\n",
      "\n",
      "Press 'y' to continue, press any other key to exit: v\n",
      "\n",
      "EXITTING PROGRAM...\n"
     ]
    }
   ],
   "source": [
    "# QUESTION 4. Write a Python Program To Find ASCII value of a character?\n",
    "\n",
    "def ASCII(ch):\n",
    "    print('\\nASCII value of {} is {}'.format(ch, ord(ch)))\n",
    "\n",
    "try:\n",
    "    while True:\n",
    "        character = input('\\nEnter a character: ')\n",
    "        ASCII(character)\n",
    "        wish = input(\"\\nPress 'y' to continue, press any other key to exit: \")\n",
    "        if wish == 'y' or wish == 'Y':\n",
    "            continue\n",
    "        else:\n",
    "            print('\\nTHANKYOU...')\n",
    "            break    \n",
    "    \n",
    "except TypeError as t:\n",
    "    print('\\n',t)"
   ]
  },
  {
   "cell_type": "code",
   "execution_count": 59,
   "id": "c2a01064",
   "metadata": {},
   "outputs": [
    {
     "name": "stdout",
     "output_type": "stream",
     "text": [
      "Select operation\n",
      "1.Add\n",
      "2.Subtract\n",
      "3.Multiply\n",
      "4.Divide\n",
      "Enter choice (1/2/3/4): 2\n",
      "\n",
      "SUBSTRACTION, X - Y\n",
      "\n",
      "Enter X : 12\n",
      "Enter Y : 12\n",
      "\n",
      "12.0 - 12.0 = 0.0\n",
      "\n",
      "Press 'y' to continue, press any other key to exit: y\n",
      "Enter choice (1/2/3/4): 3\n",
      "\n",
      "MULTIPLICATION\n",
      "\n",
      "Enter numbers with space in between: 1 2 3 4\n",
      "24.0\n",
      "\n",
      "Press 'y' to continue, press any other key to exit: n\n",
      "\n",
      "THANKYOU FOR USING CALCULATOR\n"
     ]
    }
   ],
   "source": [
    "# QUESTION 5. Write a Python Program to Make a Simple Calculator with 4 basic mathematical operations?\n",
    "\n",
    "from functools import reduce\n",
    "\n",
    "\n",
    "def add(array):\n",
    "    print('\\nAdding numbers\\n')\n",
    "    result = sum(i for i in array)\n",
    "    print('sum =', result)\n",
    "\n",
    "    \n",
    "def subtract(x, y):\n",
    "    print('\\n{} - {} = {}'.format(x, y, x - y))\n",
    "\n",
    "\n",
    "print(\"Select operation\")\n",
    "print(\"1.Add\")\n",
    "print(\"2.Subtract\")\n",
    "print(\"3.Multiply\")\n",
    "print(\"4.Divide\")\n",
    "\n",
    "try:\n",
    "    while True:\n",
    "        choice = int(input(\"Enter choice (1/2/3/4): \"))\n",
    "\n",
    "        if choice == 1:\n",
    "            array = list(map(float, input('\\nEnter numbers with space in between: ').split()))\n",
    "            add(array)\n",
    "\n",
    "        elif choice == 2:\n",
    "            print('\\nSUBSTRACTION, X - Y')\n",
    "            a = float(input('\\nEnter X : '))\n",
    "            b = float(input('Enter Y : '))\n",
    "            subtract(a, b)\n",
    "\n",
    "        elif choice == 3:\n",
    "            print('\\nMULTIPLICATION')\n",
    "            array = list(map(float, input('\\nEnter numbers with space in between: ').split()))\n",
    "            result = reduce((lambda x, y: x * y), array)\n",
    "            print(result)\n",
    "\n",
    "        elif choice == 4:\n",
    "            print('\\nDIVISION, X / Y')\n",
    "            a = float(input('\\nEnter X : '))\n",
    "            b = float(input('Enter Y : '))\n",
    "            print('\\n{} / {} = {}'.format(a, b, a / b))\n",
    "\n",
    "        else:\n",
    "            print('oops!!! Incorrect Choice ')\n",
    "\n",
    "        wish = input(\"\\nPress 'y' to continue, press any other key to exit: \")\n",
    "        if wish == 'y' or wish == 'Y':\n",
    "            continue\n",
    "        else:\n",
    "            print('\\nTHANKYOU FOR USING CALCULATOR')\n",
    "            break\n",
    "\n",
    "\n",
    "except ValueError as V:\n",
    "    print(V)\n",
    "\n",
    "except ZeroDivisionError:\n",
    "    print(\"{} / 0 = UNDEFINED\".format(a))\n"
   ]
  },
  {
   "cell_type": "code",
   "execution_count": null,
   "id": "16afcb1c",
   "metadata": {},
   "outputs": [],
   "source": []
  }
 ],
 "metadata": {
  "kernelspec": {
   "display_name": "Python 3 (ipykernel)",
   "language": "python",
   "name": "python3"
  },
  "language_info": {
   "codemirror_mode": {
    "name": "ipython",
    "version": 3
   },
   "file_extension": ".py",
   "mimetype": "text/x-python",
   "name": "python",
   "nbconvert_exporter": "python",
   "pygments_lexer": "ipython3",
   "version": "3.9.12"
  }
 },
 "nbformat": 4,
 "nbformat_minor": 5
}
