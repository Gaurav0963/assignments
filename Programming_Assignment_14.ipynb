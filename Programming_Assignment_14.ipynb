{
 "cells": [
  {
   "cell_type": "markdown",
   "id": "53cad9ca",
   "metadata": {},
   "source": [
    " # PROGRAMMING ASSIGNMENT 14"
   ]
  },
  {
   "cell_type": "markdown",
   "id": "6efab6f2",
   "metadata": {},
   "source": [
    "### QUESTION 1"
   ]
  },
  {
   "cell_type": "code",
   "execution_count": 5,
   "id": "0bfd41d7",
   "metadata": {},
   "outputs": [
    {
     "name": "stdout",
     "output_type": "stream",
     "text": [
      "Enter a Number: 71\n",
      "0\n",
      "7\n",
      "14\n",
      "21\n",
      "28\n",
      "35\n",
      "42\n",
      "49\n",
      "56\n",
      "63\n",
      "70\n"
     ]
    }
   ],
   "source": [
    "# Define a class with a generator which can iterate the numbers, which are divisible by 7, between a given range 0 and n.\n",
    "\n",
    "class DivSeven:\n",
    "    def __init__(self, n):\n",
    "        self.num = n\n",
    "        \n",
    "    def divcheck(self):\n",
    "        for i in range(self.num):\n",
    "            if i%7==0:\n",
    "                yield i\n",
    "    \n",
    "\n",
    "if __name__ == '__main__':\n",
    "    number = int(input('Enter a Number: '))\n",
    "    obj = DivSeven(number)\n",
    "    for i in obj.divcheck():\n",
    "        print(i)\n",
    "\n"
   ]
  },
  {
   "cell_type": "markdown",
   "id": "d4e480df",
   "metadata": {},
   "source": [
    "### QUESTION 2\n"
   ]
  },
  {
   "cell_type": "code",
   "execution_count": 45,
   "id": "fc8aee17",
   "metadata": {},
   "outputs": [
    {
     "name": "stdout",
     "output_type": "stream",
     "text": [
      "2 : 2\n",
      "3. : 1\n",
      "3? : 1\n",
      "New : 1\n",
      "Python : 5\n",
      "Read : 1\n",
      "and : 1\n",
      "between : 1\n",
      "choosing : 1\n",
      "or : 2\n",
      "to : 1\n"
     ]
    }
   ],
   "source": [
    "# Write a program to compute the frequency of the words from the input. \n",
    "# The output should output after sorting the key alphanumerically.\n",
    "\n",
    "\n",
    "from collections import Counter\n",
    "\n",
    "def sortAlphanumerically(string:str):\n",
    "    words = (word for word in string.split())\n",
    "    word_dict = Counter(words)\n",
    "    \n",
    "    for key in sorted(word_dict.items()):\n",
    "        print(key[0],':',key[1])\n",
    "\n",
    "\n",
    "if __name__ == '__main__':\n",
    "    \n",
    "    string =  'New to Python or choosing between Python 2 and Python 3? Read Python 2 or Python 3.'\n",
    "    \n",
    "    sortAlphanumerically(string)\n",
    "    \n",
    "\n"
   ]
  },
  {
   "cell_type": "markdown",
   "id": "a92f96bd",
   "metadata": {},
   "source": [
    "### QUESTION 3"
   ]
  },
  {
   "cell_type": "code",
   "execution_count": 12,
   "id": "66518f1d",
   "metadata": {},
   "outputs": [
    {
     "name": "stdout",
     "output_type": "stream",
     "text": [
      "Male\n",
      "Female\n"
     ]
    }
   ],
   "source": [
    "# Define a class Person and its two child classes: Male and Female. \n",
    "# All classes have a method 'getGender' which can print 'Male' for Male class and 'Female' for Female class.\n",
    "\n",
    "\n",
    "class Person:\n",
    "    def getGender(self):\n",
    "        pass\n",
    "        \n",
    "class Male(Person):\n",
    "    def getGender(self):\n",
    "        print('Male')\n",
    "        \n",
    "class Female(Person):\n",
    "    def getGender(self):\n",
    "        print('Female')\n",
    "              \n",
    "ObjP = Person()\n",
    "ObjM = Male()\n",
    "ObjF = Female()\n",
    "\n",
    "ObjP.getGender()\n",
    "ObjM.getGender()\n",
    "ObjF.getGender()"
   ]
  },
  {
   "cell_type": "markdown",
   "id": "cfa12264",
   "metadata": {},
   "source": [
    "### QUESTION 4:\n"
   ]
  },
  {
   "cell_type": "code",
   "execution_count": 6,
   "id": "e1717873",
   "metadata": {},
   "outputs": [
    {
     "name": "stdout",
     "output_type": "stream",
     "text": [
      "I Play Hockey\n",
      "I Play Football\n",
      "I Love Hockey\n",
      "I Love Football\n",
      "You Play Hockey\n",
      "You Play Football\n",
      "You Love Hockey\n",
      "You Love Football\n"
     ]
    }
   ],
   "source": [
    "# Please write a program to generate all sentences where subject is in ['I', 'You'] and\n",
    "# verb is in ['Play', 'Love'] and the object is in ['Hockey','Football'].\n",
    "\n",
    "\n",
    "sub = ['I', 'You']\n",
    "verb = ['Play', 'Love']\n",
    "obj = ['Hockey','Football']\n",
    "\n",
    "for i in sub:\n",
    "\n",
    "    for j in verb:\n",
    "\n",
    "        for k in obj:\n",
    "            \n",
    "            print(i,j,k)"
   ]
  },
  {
   "cell_type": "markdown",
   "id": "83709d17",
   "metadata": {},
   "source": [
    "### QUESTION 5"
   ]
  },
  {
   "cell_type": "code",
   "execution_count": 16,
   "id": "38b87f6e",
   "metadata": {},
   "outputs": [
    {
     "name": "stdout",
     "output_type": "stream",
     "text": [
      "Compressed String:  b'x\\x9c\\xcbH\\xcd\\xc9\\xc9W(\\xcf/\\xcaIQ\\xcc \\x82\\r\\x00\\xbd[\\x11\\xf5'\n",
      "\n",
      "DeCompressed String:  b'hello world!hello world!hello world!hello world!'\n"
     ]
    }
   ],
   "source": [
    "# Please write a program to compress and decompress the string \"hello world!hello world!hello world!hello world!\".\n",
    "\n",
    "\n",
    "import zlib\n",
    "\n",
    "string = 'hello world!hello world!hello world!hello world!'\n",
    "\n",
    "Bytes = bytes(string, 'utf-8')\n",
    "\n",
    "x = zlib.compress(Bytes)\n",
    "\n",
    "print('Compressed String: ',x)\n",
    "print('\\nDeCompressed String: ',zlib.decompress(x))"
   ]
  },
  {
   "cell_type": "markdown",
   "id": "ca5b0cc1",
   "metadata": {},
   "source": [
    "### QUESTION 6"
   ]
  },
  {
   "cell_type": "code",
   "execution_count": 47,
   "id": "068d62f9",
   "metadata": {},
   "outputs": [
    {
     "name": "stdout",
     "output_type": "stream",
     "text": [
      "[9, 10, 11, 12, 13, 15, 20]\n",
      "\n",
      "Element is present at index 3\n"
     ]
    }
   ],
   "source": [
    "# Please write a binary search function which searches an item in a sorted list. \n",
    "# The function should return the index of element to be searched in the list.\n",
    "\n",
    "from bisect import bisect_left\n",
    "\n",
    "\n",
    "# def BinarySearch(array, element):\n",
    "#     low, high = 0, len(array)-1\n",
    "#     while low <= high:\n",
    "#         mid = low + (high - low)//2  #better method of finding middle element\n",
    "\n",
    "#         if array[mid] == element:\n",
    "#             return mid    #returning the index of the searched element\n",
    "\n",
    "#         elif array[mid] < element:\n",
    "#             low = mid + 1\n",
    "\n",
    "#         else:\n",
    "#             high = mid - 1\n",
    "\n",
    "#     return -1 #since our index is a whole number\n",
    "\n",
    " \n",
    "def BinarySearch(array, element):\n",
    "    ele = bisect_left(array, element)\n",
    "    if ele != len(array) and array[ele] == element:\n",
    "        return ele\n",
    "    else:\n",
    "        return -1\n",
    "\n",
    "\n",
    "if __name__ == '__main__':\n",
    "    ar = [9, 10, 11, 12, 13, 15, 20]\n",
    "    print(ar)\n",
    "    x = 12\n",
    "    result = BinarySearch(ar, x)\n",
    "    if result != -1:\n",
    "        print(\"\\nElement is present at index\" , result)\n",
    "    else:\n",
    "        print(\"\\nNot Found!!!\")"
   ]
  }
 ],
 "metadata": {
  "kernelspec": {
   "display_name": "Python 3 (ipykernel)",
   "language": "python",
   "name": "python3"
  },
  "language_info": {
   "codemirror_mode": {
    "name": "ipython",
    "version": 3
   },
   "file_extension": ".py",
   "mimetype": "text/x-python",
   "name": "python",
   "nbconvert_exporter": "python",
   "pygments_lexer": "ipython3",
   "version": "3.9.12"
  }
 },
 "nbformat": 4,
 "nbformat_minor": 5
}
