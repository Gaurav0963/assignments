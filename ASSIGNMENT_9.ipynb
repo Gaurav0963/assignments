{
 "cells": [
  {
   "cell_type": "markdown",
   "id": "c2b91445",
   "metadata": {},
   "source": [
    "QUESTION 1. To what does a relative path refer?"
   ]
  },
  {
   "cell_type": "markdown",
   "id": "9c37eb2c",
   "metadata": {},
   "source": [
    "ANSWER 1: A relative path refers to the paths that are relative to the program’s current working directory.\n",
    "There are also the dot (.) and dot-dot (..) folders. These are not real folders but special names that can be used in a path. A single period (“dot”) for a folder name is shorthand for “this directory.” Two DOTS (“dot-dot”) means “the parent folder.”"
   ]
  },
  {
   "cell_type": "markdown",
   "id": "dd2fe6f7",
   "metadata": {},
   "source": [
    "___________________________________________________________________________________________________________________________"
   ]
  },
  {
   "cell_type": "markdown",
   "id": "3dbe5693",
   "metadata": {},
   "source": [
    "QUESTION 2. What does an absolute path start with your operating system?"
   ]
  },
  {
   "cell_type": "markdown",
   "id": "e4019e0f",
   "metadata": {},
   "source": [
    "ANSWER 2: I use windows OS, so absolute path on a windows opersting system starts with the drive's name which is C: and anchor name for absolute path in windows OS is C:\\\\"
   ]
  },
  {
   "cell_type": "markdown",
   "id": "7f82806a",
   "metadata": {},
   "source": [
    "___________________________________________________________________________________________________________________________"
   ]
  },
  {
   "cell_type": "markdown",
   "id": "d6ff3173",
   "metadata": {},
   "source": [
    "QUESTION 3. What do the functions os.getcwd() and os.chdir() do?"
   ]
  },
  {
   "cell_type": "markdown",
   "id": "f818ac72",
   "metadata": {},
   "source": [
    "ANSWER 3:\n",
    "The method os.getcwd() in Python returns the current working directory of a process. Every process running under an operating system has an associated working directory, which is called as the current working directory of the process.\n"
   ]
  },
  {
   "cell_type": "code",
   "execution_count": 2,
   "id": "c063c7bf",
   "metadata": {},
   "outputs": [
    {
     "data": {
      "text/plain": [
       "'C:\\\\Users\\\\Gaurav'"
      ]
     },
     "execution_count": 2,
     "metadata": {},
     "output_type": "execute_result"
    }
   ],
   "source": [
    "import os\n",
    "os.getcwd()"
   ]
  },
  {
   "cell_type": "markdown",
   "id": "6fc96951",
   "metadata": {},
   "source": [
    "Python method os.chdir() is used to change the current working directory of a process. While referring any files only the file names or paths relative to the current working directory can be used instead of using absolute paths."
   ]
  },
  {
   "cell_type": "code",
   "execution_count": 8,
   "id": "d06a5015",
   "metadata": {},
   "outputs": [
    {
     "name": "stdout",
     "output_type": "stream",
     "text": [
      "Full path of the created file is:\n",
      "C:\\Users\\Gaurav\n",
      "C:\\Users\\Gaurav\\Contents.txt\n",
      "Current working directory after changing it:\n",
      "C:\\Users\\Gaurav\\NewDirectory\n"
     ]
    }
   ],
   "source": [
    "fileName = \"Contents.txt\"\n",
    "fileObject = open(fileName, \"w+\")\n",
    "# Print the full path of the newly created file now\n",
    "print(\"Full path of the created file is:\")\n",
    "print(os.getcwd())\n",
    "print(os.path.realpath(fileName))\n",
    "\n",
    "# Now create a new directory\n",
    "os.mkdir('NewDirectory')\n",
    "\n",
    "# Change the working directory to the newly created directory\n",
    "os.chdir('NewDirectory')\n",
    "\n",
    "# Print the current working directory\n",
    "print(\"Current working directory after changing it:\")\n",
    "print(os.getcwd())"
   ]
  },
  {
   "cell_type": "code",
   "execution_count": 9,
   "id": "b91ccbbf",
   "metadata": {},
   "outputs": [],
   "source": [
    "fileObject.close()"
   ]
  },
  {
   "cell_type": "markdown",
   "id": "b79a9c9f",
   "metadata": {},
   "source": [
    "___________________________________________________________________________________________________________________________"
   ]
  },
  {
   "cell_type": "markdown",
   "id": "51ab35ae",
   "metadata": {},
   "source": [
    "QUESTION 4. What are the . and .. folders?"
   ]
  },
  {
   "cell_type": "markdown",
   "id": "0d871434",
   "metadata": {},
   "source": [
    "ANSWER 4: A single period (“dot”) for a folder name is shorthand for “this directory.” Two dots (“dot-dot”) means “the parent folder. These are not real folders but special names that can be used in a path. "
   ]
  },
  {
   "cell_type": "markdown",
   "id": "06f88725",
   "metadata": {},
   "source": [
    "___________________________________________________________________________________________________________________________"
   ]
  },
  {
   "cell_type": "markdown",
   "id": "31f39cc7",
   "metadata": {},
   "source": [
    "QUESTION 5. In C:\\bacon\\eggs\\spam.txt, which part is the dir name, and which part is the base name?"
   ]
  },
  {
   "cell_type": "code",
   "execution_count": 10,
   "id": "6cad6f13",
   "metadata": {},
   "outputs": [
    {
     "data": {
      "text/plain": [
       "'spam.txt'"
      ]
     },
     "execution_count": 10,
     "metadata": {},
     "output_type": "execute_result"
    }
   ],
   "source": [
    "f = 'C:\\\\bacon\\\\eggs\\\\spam.txt'\n",
    "# base name\n",
    "os.path.basename(f)"
   ]
  },
  {
   "cell_type": "code",
   "execution_count": 11,
   "id": "4abb3617",
   "metadata": {},
   "outputs": [
    {
     "data": {
      "text/plain": [
       "'C:\\\\bacon\\\\eggs'"
      ]
     },
     "execution_count": 11,
     "metadata": {},
     "output_type": "execute_result"
    }
   ],
   "source": [
    "# directory name\n",
    "os.path.dirname(f)"
   ]
  },
  {
   "cell_type": "markdown",
   "id": "dc2f5f2d",
   "metadata": {},
   "source": [
    "___________________________________________________________________________________________________________________________"
   ]
  },
  {
   "cell_type": "markdown",
   "id": "8391768d",
   "metadata": {},
   "source": [
    "QUESION 6. What are the three “mode” arguments that can be passed to the open() function?"
   ]
  },
  {
   "cell_type": "markdown",
   "id": "ff1054c4",
   "metadata": {},
   "source": [
    "ANSWER 6: Three mode arguments available for the open() function are as follows:\n",
    "\n",
    "r : Opens the file in read-only mode. Starts reading from the beginning of the file and is the default mode for the open() function.\n",
    "\n",
    "r+ : Opens a file for reading and writing, placing the pointer at the beginning of the file.\n",
    "\n",
    "w : Opens in write-only mode. The pointer is placed at the beginning of the file and this will overwrite any existing file with the same name. It will create a new file if one with the same name doesn't exist.\n"
   ]
  },
  {
   "cell_type": "markdown",
   "id": "b530edd8",
   "metadata": {},
   "source": [
    "___________________________________________________________________________________________________________________________"
   ]
  },
  {
   "cell_type": "markdown",
   "id": "b8f75078",
   "metadata": {},
   "source": [
    "QUESTION 7. What happens if an existing file is opened in write mode?"
   ]
  },
  {
   "cell_type": "markdown",
   "id": "7087fdb4",
   "metadata": {},
   "source": [
    " ANSWER 7 : If a file with the same name already exists, its contents are discarded and the file is treated as a new empty file."
   ]
  },
  {
   "cell_type": "markdown",
   "id": "eb9ca20d",
   "metadata": {},
   "source": [
    "___________________________________________________________________________________________________________________________"
   ]
  },
  {
   "cell_type": "markdown",
   "id": "4dca9086",
   "metadata": {},
   "source": [
    "QUESTION 8. How do you tell the difference between read() and readlines()?"
   ]
  },
  {
   "cell_type": "code",
   "execution_count": 15,
   "id": "37ddfaf0",
   "metadata": {},
   "outputs": [],
   "source": [
    "file = open(\"data.txt\", 'w')\n",
    "file.write('First line \\n second line \\n Third line')\n",
    "file.close()"
   ]
  },
  {
   "cell_type": "code",
   "execution_count": 16,
   "id": "0f0b02dd",
   "metadata": {},
   "outputs": [
    {
     "name": "stdout",
     "output_type": "stream",
     "text": [
      "First line \n",
      " second line \n",
      " Third line\n"
     ]
    }
   ],
   "source": [
    "file = open('data.txt', 'r')\n",
    "print(file.read())"
   ]
  },
  {
   "cell_type": "code",
   "execution_count": 26,
   "id": "b312c84f",
   "metadata": {},
   "outputs": [],
   "source": [
    "file.close()"
   ]
  },
  {
   "cell_type": "code",
   "execution_count": 25,
   "id": "f9d8bcd0",
   "metadata": {},
   "outputs": [
    {
     "data": {
      "text/plain": [
       "'First'"
      ]
     },
     "execution_count": 25,
     "metadata": {},
     "output_type": "execute_result"
    }
   ],
   "source": [
    "file = open('data.txt', 'r')\n",
    "file.read(5)"
   ]
  },
  {
   "cell_type": "markdown",
   "id": "e20d207c",
   "metadata": {},
   "source": [
    "read() will read the whole file at once and then print out the first characters that take up as many bytes as you specify in the parenthesis"
   ]
  },
  {
   "cell_type": "code",
   "execution_count": 27,
   "id": "649d4346",
   "metadata": {},
   "outputs": [],
   "source": [
    "file.close()"
   ]
  },
  {
   "cell_type": "code",
   "execution_count": 28,
   "id": "5d3f8fad",
   "metadata": {},
   "outputs": [
    {
     "data": {
      "text/plain": [
       "'First line \\n'"
      ]
     },
     "execution_count": 28,
     "metadata": {},
     "output_type": "execute_result"
    }
   ],
   "source": [
    "file = open('data.txt', 'r')\n",
    "file.readline()"
   ]
  },
  {
   "cell_type": "markdown",
   "id": "3eeb12c5",
   "metadata": {},
   "source": [
    "readline() method takes one parameter i.e size, the default value for the size parameter is -1. It means that the method will return the whole line. It is an optional parameter, we can specify the number of bytes from a line to return."
   ]
  },
  {
   "cell_type": "markdown",
   "id": "7399dfcc",
   "metadata": {},
   "source": [
    "___________________________________________________________________________________________________________________________"
   ]
  },
  {
   "cell_type": "markdown",
   "id": "5074212b",
   "metadata": {},
   "source": [
    "QUESTION 9. What data structure does a shelf value resemble?"
   ]
  },
  {
   "cell_type": "markdown",
   "id": "90f47bb2",
   "metadata": {},
   "source": [
    "ANSWER 9: A shelf value resembles a dictionary value; it has keys and values, along with keys() and values() methods that work similarly to the dictionary methods of the same names."
   ]
  }
 ],
 "metadata": {
  "kernelspec": {
   "display_name": "Python 3 (ipykernel)",
   "language": "python",
   "name": "python3"
  },
  "language_info": {
   "codemirror_mode": {
    "name": "ipython",
    "version": 3
   },
   "file_extension": ".py",
   "mimetype": "text/x-python",
   "name": "python",
   "nbconvert_exporter": "python",
   "pygments_lexer": "ipython3",
   "version": "3.9.12"
  }
 },
 "nbformat": 4,
 "nbformat_minor": 5
}
