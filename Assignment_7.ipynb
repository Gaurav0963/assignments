{
 "cells": [
  {
   "cell_type": "markdown",
   "id": "4627ccf2",
   "metadata": {},
   "source": [
    "# ASSIGNMENT 7"
   ]
  },
  {
   "cell_type": "markdown",
   "id": "c168148f",
   "metadata": {},
   "source": [
    "### QUESTION 1 :  What is the function that creates Regex objects?\n",
    "\n",
    "    ANSWER : re.compile function returns Regex Objects."
   ]
  },
  {
   "cell_type": "markdown",
   "id": "2b8b51fb",
   "metadata": {},
   "source": [
    "### QUESTION 2: Why do raw strings often appear in Regex objects?\n",
    "\n",
    "    ANSWER : Raw strings are used so that backslashes (\\) do not have to be escaped."
   ]
  },
  {
   "cell_type": "markdown",
   "id": "24156419",
   "metadata": {},
   "source": [
    "### QUESTION 3: What is the return value of the search() method? \n",
    "    ANSWER : The search() method returns Match objects."
   ]
  },
  {
   "cell_type": "markdown",
   "id": "771a8b56",
   "metadata": {},
   "source": [
    "### QUESTION 4: From a Match item, how do you get the actual strings that match the pattern?\n",
    "    ANSWER : The group() method returns strings of the matched text."
   ]
  },
  {
   "cell_type": "markdown",
   "id": "a6b9c42f",
   "metadata": {},
   "source": [
    "### QUESTION 5: In the regex which created from the r&#39;(\\d\\d\\d)-(\\d\\d\\d-\\d\\d\\d\\d)&#39;, what does group zero cover? Group 2? Group 1?\n",
    "    ANSWER : Group 0 will give the entire match. \"match.group()\" and \"match.group(0)\" both will give same result.\n",
    "             Group 1 covers the first set of parentheses, i.e., (\\d\\d\\d),\n",
    "             Group 2 covers the second set of parentheses, i.e., (\\d\\d\\d-\\d\\d\\d\\d)."
   ]
  },
  {
   "cell_type": "markdown",
   "id": "f06fb57e",
   "metadata": {},
   "source": [
    "### QUESTION 6: In standard expression syntax, parentheses and intervals have distinct meanings. How can you tell a regex that you want it to fit real parentheses and periods?\n",
    "\n",
    "    ANSWER : Periods and parentheses can be escaped with a backslash: \\., \\(, and \\)."
   ]
  },
  {
   "cell_type": "markdown",
   "id": "56f248ac",
   "metadata": {},
   "source": [
    "### QUESTION 7: The findall() method returns a string list or a list of string tuples. What causes it to return one of the two options? \n",
    "\n",
    "    ANSWER : If the regex has no groups, a list of strings is returned. \n",
    "             If the regex has groups, a list of tuples of strings is returned."
   ]
  },
  {
   "cell_type": "markdown",
   "id": "bdd9ae9f",
   "metadata": {},
   "source": [
    "### QUESTION 8: In standard expressions, what does the | character mean?\n",
    "    ANSWER : It signifies matching “either, or” between two groups or within a group."
   ]
  },
  {
   "cell_type": "markdown",
   "id": "1ae438d5",
   "metadata": {},
   "source": [
    "### QUESTION 9: In regular expressions, what does the character stand for?\n",
    "    ANSWER : The ? character is also called as QUANTIFIER and can either mean “match zero or match one of the preceding \n",
    "             group” or be used to signify non-greedy matching."
   ]
  },
  {
   "cell_type": "markdown",
   "id": "36926897",
   "metadata": {},
   "source": [
    "### QUESTION 10: In regular expressions, what is the difference between the + and * characters?\n",
    "    ANSWER : Both are quantifiers, \n",
    "             * means match zero or more\n",
    "             + means match exactly one or more of the preceding group."
   ]
  },
  {
   "cell_type": "markdown",
   "id": "e8ad5d03",
   "metadata": {},
   "source": [
    "### QUESTION 11: What is the difference between {4} and {4,5} in regular expression? \n",
    "    ANSWER : {4} will match exactly four instances of the preceding group. \n",
    "             {4,5} will match between four and five instances of the preceding group."
   ]
  },
  {
   "cell_type": "markdown",
   "id": "7ce9ec86",
   "metadata": {},
   "source": [
    "### QUESTION 12: What do you mean by the \\d, \\w, and \\s shorthand character classes signify in regular expressions?\n",
    "    ANSWER : \\d signifies only digits [0-9].\n",
    "             \\w signifies words characters which include digits, lowercase and uppercase alphabets and underscore\n",
    "                 [0-9a-zA-Z_]\n",
    "             \\s signifies whitespace (single space, tab, newline)"
   ]
  },
  {
   "cell_type": "markdown",
   "id": "ecfb86eb",
   "metadata": {},
   "source": [
    "### QUESTION 13: What do means by \\D, \\W, and \\S shorthand character classes signify in regular expressions?\n",
    "\n",
    "    ANSWER : \\D signifies not digits or everything else except digits.\n",
    "             \\W signifies not a word character.\n",
    "             \\S signifies not whitespace."
   ]
  },
  {
   "cell_type": "markdown",
   "id": "afb4c419",
   "metadata": {},
   "source": [
    "### QUESTION 14: What is the difference between .*? and .*  ?\n",
    "    ANSWER : \n",
    "    \n",
    "    (. *?) matches any character ( . ) any number of times ( * ), as few times as possible to make the regex match ( ? )\n",
    "    \n",
    "    .* is a wildcard expression that matches any sequence of characters including an empty sequence of length=0."
   ]
  },
  {
   "cell_type": "markdown",
   "id": "29f0af74",
   "metadata": {},
   "source": [
    "### QUESTION 15: What is the syntax for matching both numbers and lowercase letters with a character class? \n",
    "    ANSWER : [0-9a-z]"
   ]
  },
  {
   "cell_type": "markdown",
   "id": "e281d0de",
   "metadata": {},
   "source": [
    "### QUESTION 16: What is the procedure for making a normal expression in regax case insensitive?\n",
    "    ANSWER : Passing re.IGNORECASE as the second argument to re.compile() will make the matching case insensitive. "
   ]
  },
  {
   "cell_type": "markdown",
   "id": "2041d75a",
   "metadata": {},
   "source": [
    "### QUESTION 17: What does the . character normally match? What does it match if re.DOTALL is passed as 2nd argument in re.compile()?\n",
    "    ANSWER : The . character normally matches any character except the newline character. \n",
    "             If re.DOTALL is passed as the second argument to re.compile(), then the dot will also match newline characters."
   ]
  },
  {
   "cell_type": "markdown",
   "id": "44c6debf",
   "metadata": {},
   "source": [
    "### QUESTION 18: If numReg = re.compile(r&#39;\\d+&#39;), what will numRegex.sub(&#39;X&#39;, &#39;11 drummers, 10 pipers, five rings, 4hen&#39;) return?\n",
    "assuming the obect to be numRegex in both cases in question...\n",
    "    \n",
    "    ANSWER :  it will return second string: '11 drummers, 10 pipers, five rings, 4hen'"
   ]
  },
  {
   "cell_type": "markdown",
   "id": "ba929d7f",
   "metadata": {},
   "source": [
    "### QUESTION 19: What does passing re.VERBOSE as the 2nd argument to re.compile() allow to do? \n",
    "    ANSWER : The re.VERBOSE argument allows you to add whitespace and comments to the string passed to re.compile().\n",
    "             Which helps us to write regular expressions that look nicer and are more readable by visually separate logical \n",
    "             sections of the pattern and add comments."
   ]
  },
  {
   "cell_type": "markdown",
   "id": "398f7439",
   "metadata": {},
   "source": [
    "### QUESTION 20 : How would you write a regex that match a number with comma for every three digits?\n",
    "    ANSWER : re.compile(r\"^(\\d{1,3})(,\\d\\d\\d)*$\")"
   ]
  },
  {
   "cell_type": "code",
   "execution_count": 56,
   "id": "46528e95",
   "metadata": {},
   "outputs": [
    {
     "name": "stdout",
     "output_type": "stream",
     "text": [
      "1\n",
      "12\n",
      "123\n",
      "1,234\n",
      "12,345\n",
      "123,456\n",
      "1,234,567\n",
      "12,345,678\n",
      "123,456,789\n"
     ]
    }
   ],
   "source": [
    "import re\n",
    "\n",
    "test_str = (\"match:\\n\"\n",
    "\t\"1\\n\"\n",
    "\t\"12\\n\"\n",
    "\t\"123\\n\"\n",
    "\t\"1,234\\n\"\n",
    "\t\"12,345\\n\"\n",
    "\t\"123,456\\n\"\n",
    "\t\"1,234,567\\n\"\n",
    "\t\"12,345,678\\n\"\n",
    "\t\"123,456,789\\n\\n\"\n",
    "\t\"no match:\\n\"\n",
    "\t\"1,2\\n\"\n",
    "\t\"1234,567\\n\"\n",
    "\t\"1,2,3,4\\n\"\n",
    "\t\"123456789\\n\"\n",
    "\t\"12,34,567\")\n",
    "\n",
    "pattern = re.compile(r\"^(\\d{1,3})(,\\d\\d\\d)*$\", re.MULTILINE)\n",
    "matches = pattern.finditer(test_str)\n",
    "\n",
    "for match in matches:\n",
    "    \n",
    "    print (match.group())"
   ]
  },
  {
   "cell_type": "markdown",
   "id": "412c9545",
   "metadata": {},
   "source": [
    "### QUESTION 21: How would you write a regex that matches the full name of someone whose last name is Watanabe?\n",
    "    ANSWER : r\"(^[A-Z][A-Za-z]+)(\\sWatanabe)$\""
   ]
  },
  {
   "cell_type": "code",
   "execution_count": 78,
   "id": "f1979482",
   "metadata": {},
   "outputs": [
    {
     "name": "stdout",
     "output_type": "stream",
     "text": [
      "Haruto Watanabe\n",
      "Alice Watanabe\n",
      "RoboCop Watanabe\n"
     ]
    }
   ],
   "source": [
    "import re\n",
    "\n",
    "regex = r\"(^[A-Z][A-Za-z]+)(\\sWatanabe)$\"\n",
    "\n",
    "test_str = (\"match:\\n\"\n",
    "\t\"Haruto Watanabe\\n\"\n",
    "\t\"Alice Watanabe\\n\"\n",
    "\t\"RoboCop Watanabe\\n\"\n",
    "\t\"no match:\\n\"\n",
    "\t\"haruto Watanabe\\n\"\n",
    "\t\"Mr. Watanabe\\n\"\n",
    "\t\"Watanabe\\n\"\n",
    "\t\"Haruto watanabe\")\n",
    "\n",
    "matches = re.finditer(regex, test_str, re.MULTILINE)\n",
    "\n",
    "for match in matches:\n",
    "    \n",
    "    print(match.group())"
   ]
  },
  {
   "cell_type": "markdown",
   "id": "e5d4aab5",
   "metadata": {},
   "source": [
    "### QUESTION 22 : \n",
    "How would you write a regex that matches a sentence where the first word is either Alice, Bob, or Carol; the second word is either eats, pets, or throws; the third word is apples, cats, or baseballs; and the sentence ends with a period? This regex should be case-insensitive. "
   ]
  },
  {
   "cell_type": "code",
   "execution_count": 15,
   "id": "a1474363",
   "metadata": {},
   "outputs": [
    {
     "name": "stdout",
     "output_type": "stream",
     "text": [
      "Alice eats apples.\n",
      "Bob pets cats.\n",
      "Carol throws baseballs.\n",
      "Alice throws Apples.\n",
      "BOB EATS CATS.\n"
     ]
    }
   ],
   "source": [
    "import re\n",
    "\n",
    "regex = r'(Alice|Bob|Carol)\\s(eats|pets|throws)\\s(apples|cats|baseballs)\\.'\n",
    "\n",
    "test_str = (\"matches:\\n\"\n",
    "\t\"Alice eats apples.\\n\"\n",
    "\t\"Bob pets cats.\\n\"\n",
    "\t\"Carol throws baseballs.\\n\"\n",
    "\t\"Alice throws Apples.\\n\"\n",
    "\t\"BOB EATS CATS.\\n\"\n",
    "\t\"non-matches:\\n\"\n",
    "\t\"RoboCop eats apples.\\n\"\n",
    "\t\"ALICE THROWS FOOTBALLS.\\n\"\n",
    "\t'Carol eats 7 cats.')\n",
    "\n",
    "pattern = re.compile(regex, re.I)                 #re.IGNORECASE could have been used as well.\n",
    "matches = pattern.finditer(test_str, re.MULTILINE)\n",
    "\n",
    "for match in matches:\n",
    "    print(match.group(0))"
   ]
  }
 ],
 "metadata": {
  "kernelspec": {
   "display_name": "Python 3 (ipykernel)",
   "language": "python",
   "name": "python3"
  },
  "language_info": {
   "codemirror_mode": {
    "name": "ipython",
    "version": 3
   },
   "file_extension": ".py",
   "mimetype": "text/x-python",
   "name": "python",
   "nbconvert_exporter": "python",
   "pygments_lexer": "ipython3",
   "version": "3.9.12"
  }
 },
 "nbformat": 4,
 "nbformat_minor": 5
}
